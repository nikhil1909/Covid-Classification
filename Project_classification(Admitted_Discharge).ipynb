{
 "cells": [
  {
   "cell_type": "code",
   "execution_count": 5,
   "metadata": {
    "colab": {},
    "colab_type": "code",
    "id": "qNW_ZZke-wed"
   },
   "outputs": [],
   "source": [
    "import pandas as pd\n",
    "import numpy as np\n",
    "import matplotlib.pyplot as plt"
   ]
  },
  {
   "cell_type": "code",
   "execution_count": 6,
   "metadata": {
    "colab": {},
    "colab_type": "code",
    "id": "yoJNVY8K_GTS"
   },
   "outputs": [],
   "source": [
    "df = pd.read_excel('C:\\\\Users\\\\jaisw\\\\Desktop\\\\Sabni_sir_project\\\\Covid_classification_project_dataset.xlsx')"
   ]
  },
  {
   "cell_type": "code",
   "execution_count": 7,
   "metadata": {
    "colab": {
     "base_uri": "https://localhost:8080/",
     "height": 659
    },
    "colab_type": "code",
    "executionInfo": {
     "elapsed": 2084,
     "status": "ok",
     "timestamp": 1591620506230,
     "user": {
      "displayName": "nikhil jaiswal",
      "photoUrl": "https://lh4.googleusercontent.com/-o-e6IKA0zOQ/AAAAAAAAAAI/AAAAAAAABhk/NX-uYSjsDqE/s64/photo.jpg",
      "userId": "00010766787081222440"
     },
     "user_tz": -330
    },
    "id": "8NkjLUx-AC7H",
    "outputId": "020d5b4f-be5b-482f-b955-cbad6d3bace7"
   },
   "outputs": [
    {
     "name": "stdout",
     "output_type": "stream",
     "text": [
      "<class 'pandas.core.frame.DataFrame'>\n",
      "RangeIndex: 4626 entries, 0 to 4625\n",
      "Data columns (total 30 columns):\n",
      " #   Column                                           Non-Null Count  Dtype         \n",
      "---  ------                                           --------------  -----         \n",
      " 0   Sr No                                            4626 non-null   int64         \n",
      " 1   Hospital Code                                    4626 non-null   object        \n",
      " 2   Case No.                                         4625 non-null   object        \n",
      " 3   Age                                              4600 non-null   float64       \n",
      " 4   Gender                                           4624 non-null   object        \n",
      " 5   Ward                                             4623 non-null   object        \n",
      " 6   Occupation                                       348 non-null    object        \n",
      " 7   District                                         4626 non-null   object        \n",
      " 8   State                                            4626 non-null   object        \n",
      " 9   Date of arrival in India                         13 non-null     datetime64[ns]\n",
      " 10  Travel to COVID afftected country (Yes/No)       134 non-null    object        \n",
      " 11  Flight No                                        133 non-null    object        \n",
      " 12  Seat No                                          6 non-null      object        \n",
      " 13  Contact with COVID19 case (Yes/No)               690 non-null    object        \n",
      " 14  Date of onset of symptoms                        3139 non-null   datetime64[ns]\n",
      " 15  Symptoms at admission                            3720 non-null   object        \n",
      " 16  Date of Isolation                                4625 non-null   datetime64[ns]\n",
      " 17  Sample collected (Yes/No)                        4206 non-null   object        \n",
      " 18  Date of sample collection                        4392 non-null   datetime64[ns]\n",
      " 19  Sample collection centre                         4516 non-null   object        \n",
      " 20  Sample tested at                                 4530 non-null   object        \n",
      " 21  Lab that confirmed the result                    4510 non-null   object        \n",
      " 22  Underlying medical condition                     327 non-null    object        \n",
      " 23  Current Clinical Status                          4461 non-null   object        \n",
      " 24  Outcome (Discharged/Death/Admitted)              4623 non-null   object        \n",
      " 25  Date of outcome                                  2770 non-null   object        \n",
      " 26  Is patient member of cluster of COVID19(Yes/No)  722 non-null    object        \n",
      " 27  Total Contacts                                   3113 non-null   float64       \n",
      " 28  Remarks                                          92 non-null     object        \n",
      " 29  Date of Reporting                                1627 non-null   datetime64[ns]\n",
      "dtypes: datetime64[ns](5), float64(2), int64(1), object(22)\n",
      "memory usage: 1.1+ MB\n"
     ]
    }
   ],
   "source": [
    "df.info()"
   ]
  },
  {
   "cell_type": "markdown",
   "metadata": {
    "colab_type": "text",
    "id": "fQqxMOV4zc5q"
   },
   "source": [
    "## Dropping irrelevant columns"
   ]
  },
  {
   "cell_type": "code",
   "execution_count": 0,
   "metadata": {
    "colab": {},
    "colab_type": "code",
    "id": "IyyTwrxHOhGV"
   },
   "outputs": [],
   "source": [
    "df=df.drop(['Sr No', 'Hospital Code','Case No.','Occupation','District', 'State','Ward',\n",
    "            'Sample collected (Yes/No)','Date of arrival in India','Flight No','Seat No',\n",
    "            'Date of onset of symptoms','Date of sample collection','Remarks','Sample collection centre',\n",
    "            'Sample tested at','Lab that confirmed the result',\n",
    "            'Date of Reporting','Date of Isolation','Date of outcome'],axis=1)  "
   ]
  },
  {
   "cell_type": "code",
   "execution_count": 0,
   "metadata": {
    "colab": {
     "base_uri": "https://localhost:8080/",
     "height": 312
    },
    "colab_type": "code",
    "executionInfo": {
     "elapsed": 1792,
     "status": "ok",
     "timestamp": 1591620510704,
     "user": {
      "displayName": "nikhil jaiswal",
      "photoUrl": "https://lh4.googleusercontent.com/-o-e6IKA0zOQ/AAAAAAAAAAI/AAAAAAAABhk/NX-uYSjsDqE/s64/photo.jpg",
      "userId": "00010766787081222440"
     },
     "user_tz": -330
    },
    "id": "qak-IMoVQL5y",
    "outputId": "bc9ef634-821d-4b1d-8193-34c0e294e2f6"
   },
   "outputs": [
    {
     "name": "stdout",
     "output_type": "stream",
     "text": [
      "<class 'pandas.core.frame.DataFrame'>\n",
      "RangeIndex: 4626 entries, 0 to 4625\n",
      "Data columns (total 10 columns):\n",
      " #   Column                                           Non-Null Count  Dtype  \n",
      "---  ------                                           --------------  -----  \n",
      " 0   Age                                              4600 non-null   float64\n",
      " 1   Gender                                           4624 non-null   object \n",
      " 2   Travel to COVID afftected country (Yes/No)       134 non-null    object \n",
      " 3   Contact with COVID19 case (Yes/No)               690 non-null    object \n",
      " 4   Symptoms at admission                            3720 non-null   object \n",
      " 5   Underlying medical condition                     327 non-null    object \n",
      " 6   Current Clinical Status                          4461 non-null   object \n",
      " 7   Outcome (Discharged/Death/Admitted)              4623 non-null   object \n",
      " 8   Is patient member of cluster of COVID19(Yes/No)  722 non-null    object \n",
      " 9   Total Contacts                                   3113 non-null   float64\n",
      "dtypes: float64(2), object(8)\n",
      "memory usage: 361.5+ KB\n"
     ]
    }
   ],
   "source": [
    "df.info()"
   ]
  },
  {
   "cell_type": "markdown",
   "metadata": {
    "colab_type": "text",
    "id": "l6Dv0a9MzhEj"
   },
   "source": [
    "## Filling Missing Age Values"
   ]
  },
  {
   "cell_type": "code",
   "execution_count": 0,
   "metadata": {
    "colab": {
     "base_uri": "https://localhost:8080/",
     "height": 35
    },
    "colab_type": "code",
    "executionInfo": {
     "elapsed": 1187,
     "status": "ok",
     "timestamp": 1591620510706,
     "user": {
      "displayName": "nikhil jaiswal",
      "photoUrl": "https://lh4.googleusercontent.com/-o-e6IKA0zOQ/AAAAAAAAAAI/AAAAAAAABhk/NX-uYSjsDqE/s64/photo.jpg",
      "userId": "00010766787081222440"
     },
     "user_tz": -330
    },
    "id": "VdLB2IsJQd-T",
    "outputId": "05331f78-93af-46cf-f317-6e34bfaf3a90"
   },
   "outputs": [
    {
     "data": {
      "text/plain": [
       "37.79836956521739"
      ]
     },
     "execution_count": 56,
     "metadata": {
      "tags": []
     },
     "output_type": "execute_result"
    }
   ],
   "source": [
    "df['Age'].mean()"
   ]
  },
  {
   "cell_type": "code",
   "execution_count": 0,
   "metadata": {
    "colab": {},
    "colab_type": "code",
    "id": "yc9z6u7wkf0J"
   },
   "outputs": [],
   "source": [
    "df['Age'].fillna(38,inplace=True)"
   ]
  },
  {
   "cell_type": "markdown",
   "metadata": {
    "colab_type": "text",
    "id": "liiaBXqGvXUd"
   },
   "source": [
    "## Cleaning 'Underlying medical condition'"
   ]
  },
  {
   "cell_type": "code",
   "execution_count": 0,
   "metadata": {
    "colab": {
     "base_uri": "https://localhost:8080/",
     "height": 884
    },
    "colab_type": "code",
    "executionInfo": {
     "elapsed": 2222,
     "status": "ok",
     "timestamp": 1591620512530,
     "user": {
      "displayName": "nikhil jaiswal",
      "photoUrl": "https://lh4.googleusercontent.com/-o-e6IKA0zOQ/AAAAAAAAAAI/AAAAAAAABhk/NX-uYSjsDqE/s64/photo.jpg",
      "userId": "00010766787081222440"
     },
     "user_tz": -330
    },
    "id": "Yay1Tw6cjSbK",
    "outputId": "3a5c4e55-bb8e-4cd5-da2c-417c010eb53d"
   },
   "outputs": [
    {
     "data": {
      "text/plain": [
       "NaN                                       4299\n",
       "No                                          74\n",
       "DM,Hypertension                             50\n",
       "Hypertension                                40\n",
       "None                                        35\n",
       "NO                                          28\n",
       "DM                                          19\n",
       "Yes                                          9\n",
       "ANC                                          7\n",
       "IHD                                          5\n",
       "Stable                                       5\n",
       "COPD                                         4\n",
       "Asthma                                       4\n",
       "Hypertension,IHD                             4\n",
       "DM,Hypertension,IHD                          2\n",
       "Hypertension,Chronic_renal_disease           2\n",
       "Hypothyroidism                               2\n",
       "DM,CKD                                       2\n",
       "Alcoholic_liver_disease                      2\n",
       "Obesity                                      2\n",
       "Hypertension,Hypothyroidism                  2\n",
       "DM,Asthma                                    2\n",
       "DM,Hypertension,Hypothyroidism               1\n",
       "Hypertension,Renal_stone                     1\n",
       "Hypertension,Obesity,                        1\n",
       "no                                           1\n",
       "Hypertension,Thyroid_disorder                1\n",
       "Hypertension,CKD                             1\n",
       "Hypertension,Asthma,HIV                      1\n",
       "Hypertension,Hemiparesis                     1\n",
       "Hypertension,Tobaco_chewer                   1\n",
       "HIV                                          1\n",
       "Chronic_renal_disease                        1\n",
       "DM,Alcoholic_liver_disease                   1\n",
       "HepatitisB                                   1\n",
       "Bronchitis,Asthma,Hypertension               1\n",
       "DM,Hypertension,IHD,Obesity                  1\n",
       "Breathlessness                               1\n",
       "CKD                                          1\n",
       "DM,Obesity                                   1\n",
       "DM,Hypertension,Asthma                       1\n",
       "IHD,DM,Obesity                               1\n",
       "Hypothyroidism,Obesity                       1\n",
       "DM,Hypertension,Chronic_kidney_disease       1\n",
       "Hypertension,Hypothyrioidism                 1\n",
       "Alcoholic,Tobacco_chewer                     1\n",
       "CKD,DM                                       1\n",
       "DM,IHD,Hypertension                          1\n",
       "DM,Hypertension,CKD                          1\n",
       "Name: Underlying medical condition, dtype: int64"
      ]
     },
     "execution_count": 58,
     "metadata": {
      "tags": []
     },
     "output_type": "execute_result"
    }
   ],
   "source": [
    "df['Underlying medical condition'].value_counts(dropna=False)"
   ]
  },
  {
   "cell_type": "code",
   "execution_count": 0,
   "metadata": {
    "colab": {},
    "colab_type": "code",
    "id": "tB07JxrnjSYI"
   },
   "outputs": [],
   "source": [
    "df = df.fillna({'Underlying medical condition':'No'})\n",
    "df = df.replace({'Underlying medical condition':['None','NO','no','Stable']},'No')\n",
    "df = df.replace({'Underlying medical condition':['None','NO']},'No')"
   ]
  },
  {
   "cell_type": "code",
   "execution_count": 0,
   "metadata": {
    "colab": {},
    "colab_type": "code",
    "id": "JijwA5_N9cI7"
   },
   "outputs": [],
   "source": [
    "# Making different columns for each condition\n",
    "col=df['Underlying medical condition']\n",
    "\n",
    "for i in col:\n",
    "    x=[]\n",
    "    k=i.split(',')\n",
    "    for j in k:\n",
    "        x.append(j.strip())\n",
    "    \n",
    "    conditions=['No','DM','Hypertension','Yes','ANC','IHD','COPD','Asthama','Hypothyroidism',\n",
    "               'Chronic_renal_disease','Obesity','CKD','Alcoholic_liver_disease','Tobaco_chewer',\n",
    "               'Thyroid_disorder','HepatitisB','HIV','Hemiparesis','Bronchitis','Chronic_kidney_disease',\n",
    "               'Alcoholic','Renal_stone','Breathlessness']\n",
    "    \n",
    "    for ele in conditions:\n",
    "  \n",
    "        if ele in x:\n",
    "\n",
    "      \n",
    "            df[ele]=1\n",
    "        \n",
    "        else:\n",
    "            df[ele]=0"
   ]
  },
  {
   "cell_type": "code",
   "execution_count": 0,
   "metadata": {
    "colab": {
     "base_uri": "https://localhost:8080/",
     "height": 176
    },
    "colab_type": "code",
    "executionInfo": {
     "elapsed": 14646,
     "status": "ok",
     "timestamp": 1591620525745,
     "user": {
      "displayName": "nikhil jaiswal",
      "photoUrl": "https://lh4.googleusercontent.com/-o-e6IKA0zOQ/AAAAAAAAAAI/AAAAAAAABhk/NX-uYSjsDqE/s64/photo.jpg",
      "userId": "00010766787081222440"
     },
     "user_tz": -330
    },
    "id": "V6GPuc799b_L",
    "outputId": "931e8a22-e302-4ee1-8c82-1e7736d3948c"
   },
   "outputs": [
    {
     "name": "stderr",
     "output_type": "stream",
     "text": [
      "/usr/local/lib/python3.6/dist-packages/ipykernel_launcher.py:18: SettingWithCopyWarning: \n",
      "A value is trying to be set on a copy of a slice from a DataFrame\n",
      "\n",
      "See the caveats in the documentation: https://pandas.pydata.org/pandas-docs/stable/user_guide/indexing.html#returning-a-view-versus-a-copy\n",
      "/usr/local/lib/python3.6/dist-packages/ipykernel_launcher.py:21: SettingWithCopyWarning: \n",
      "A value is trying to be set on a copy of a slice from a DataFrame\n",
      "\n",
      "See the caveats in the documentation: https://pandas.pydata.org/pandas-docs/stable/user_guide/indexing.html#returning-a-view-versus-a-copy\n"
     ]
    }
   ],
   "source": [
    "col=df['Underlying medical condition']\n",
    "t=0\n",
    "for i in col:\n",
    "    x=[]\n",
    "    k=i.split(',')\n",
    "    for j in k:\n",
    "        x.append(j.strip())\n",
    "    \n",
    "    conditions=['No','DM','Hypertension','Yes','ANC','IHD','COPD','Asthama','Hypothyroidism',\n",
    "               'Chronic_renal_disease','Obesity','CKD','Alcoholic_liver_disease','Tobaco_chewer',\n",
    "               'Thyroid_disorder','HepatitisB','HIV','Hemiparesis','Bronchitis','Chronic_kidney_disease',\n",
    "               'Alcoholic','Renal_stone','Breathlessness']\n",
    "    for ele in conditions:\n",
    "  \n",
    "        if ele in x:\n",
    "\n",
    "      \n",
    "            df[ele][t]=1\n",
    "        \n",
    "        else:\n",
    "            df[ele][t]=0\n",
    "    t=t+1\n",
    "    "
   ]
  },
  {
   "cell_type": "code",
   "execution_count": 0,
   "metadata": {
    "colab": {},
    "colab_type": "code",
    "id": "BPK5LWH-9b8V"
   },
   "outputs": [],
   "source": [
    "df = df.drop(['Underlying medical condition'],axis=1)"
   ]
  },
  {
   "cell_type": "code",
   "execution_count": 0,
   "metadata": {
    "colab": {
     "base_uri": "https://localhost:8080/",
     "height": 693
    },
    "colab_type": "code",
    "executionInfo": {
     "elapsed": 14109,
     "status": "ok",
     "timestamp": 1591620525749,
     "user": {
      "displayName": "nikhil jaiswal",
      "photoUrl": "https://lh4.googleusercontent.com/-o-e6IKA0zOQ/AAAAAAAAAAI/AAAAAAAABhk/NX-uYSjsDqE/s64/photo.jpg",
      "userId": "00010766787081222440"
     },
     "user_tz": -330
    },
    "id": "ALcicQo89b3T",
    "outputId": "66c7e452-be9b-4fac-98b9-146ff7a7a3b1"
   },
   "outputs": [
    {
     "name": "stdout",
     "output_type": "stream",
     "text": [
      "<class 'pandas.core.frame.DataFrame'>\n",
      "RangeIndex: 4626 entries, 0 to 4625\n",
      "Data columns (total 32 columns):\n",
      " #   Column                                           Non-Null Count  Dtype  \n",
      "---  ------                                           --------------  -----  \n",
      " 0   Age                                              4626 non-null   float64\n",
      " 1   Gender                                           4624 non-null   object \n",
      " 2   Travel to COVID afftected country (Yes/No)       134 non-null    object \n",
      " 3   Contact with COVID19 case (Yes/No)               690 non-null    object \n",
      " 4   Symptoms at admission                            3720 non-null   object \n",
      " 5   Current Clinical Status                          4461 non-null   object \n",
      " 6   Outcome (Discharged/Death/Admitted)              4623 non-null   object \n",
      " 7   Is patient member of cluster of COVID19(Yes/No)  722 non-null    object \n",
      " 8   Total Contacts                                   3113 non-null   float64\n",
      " 9   No                                               4626 non-null   int64  \n",
      " 10  DM                                               4626 non-null   int64  \n",
      " 11  Hypertension                                     4626 non-null   int64  \n",
      " 12  Yes                                              4626 non-null   int64  \n",
      " 13  ANC                                              4626 non-null   int64  \n",
      " 14  IHD                                              4626 non-null   int64  \n",
      " 15  COPD                                             4626 non-null   int64  \n",
      " 16  Asthama                                          4626 non-null   int64  \n",
      " 17  Hypothyroidism                                   4626 non-null   int64  \n",
      " 18  Chronic_renal_disease                            4626 non-null   int64  \n",
      " 19  Obesity                                          4626 non-null   int64  \n",
      " 20  CKD                                              4626 non-null   int64  \n",
      " 21  Alcoholic_liver_disease                          4626 non-null   int64  \n",
      " 22  Tobaco_chewer                                    4626 non-null   int64  \n",
      " 23  Thyroid_disorder                                 4626 non-null   int64  \n",
      " 24  HepatitisB                                       4626 non-null   int64  \n",
      " 25  HIV                                              4626 non-null   int64  \n",
      " 26  Hemiparesis                                      4626 non-null   int64  \n",
      " 27  Bronchitis                                       4626 non-null   int64  \n",
      " 28  Chronic_kidney_disease                           4626 non-null   int64  \n",
      " 29  Alcoholic                                        4626 non-null   int64  \n",
      " 30  Renal_stone                                      4626 non-null   int64  \n",
      " 31  Breathlessness                                   4626 non-null   int64  \n",
      "dtypes: float64(2), int64(23), object(7)\n",
      "memory usage: 1.1+ MB\n"
     ]
    }
   ],
   "source": [
    "df.info()"
   ]
  },
  {
   "cell_type": "markdown",
   "metadata": {
    "colab_type": "text",
    "id": "qQZvYJ3dzvAi"
   },
   "source": [
    "## Cleaning 'Current Clinical Status' Column"
   ]
  },
  {
   "cell_type": "code",
   "execution_count": 0,
   "metadata": {
    "colab": {
     "base_uri": "https://localhost:8080/",
     "height": 433
    },
    "colab_type": "code",
    "executionInfo": {
     "elapsed": 13596,
     "status": "ok",
     "timestamp": 1591620525750,
     "user": {
      "displayName": "nikhil jaiswal",
      "photoUrl": "https://lh4.googleusercontent.com/-o-e6IKA0zOQ/AAAAAAAAAAI/AAAAAAAABhk/NX-uYSjsDqE/s64/photo.jpg",
      "userId": "00010766787081222440"
     },
     "user_tz": -330
    },
    "id": "BWYnONDCB1tW",
    "outputId": "23498634-225d-4634-d1e1-71752327a86b"
   },
   "outputs": [
    {
     "data": {
      "text/plain": [
       "Stable                            3948\n",
       "Admitted                           392\n",
       "NaN                                165\n",
       "Death                               54\n",
       "Asymptomatic                        28\n",
       "DEATH                                9\n",
       "death                                6\n",
       "on oxygen                            3\n",
       "Critical                             3\n",
       "UnStable                             3\n",
       "criticl on ventilater                2\n",
       "PATIENT ON BIPAP                     2\n",
       "EXPIRED ON03/05/2020.(2.00 AM)       1\n",
       "Intubated                            1\n",
       "Critical on o2                       1\n",
       "On Oxygen Support                    1\n",
       "Critical on ventilator               1\n",
       "UnStable on NIV                      1\n",
       "CRITICAL                             1\n",
       "OnO2ICU                              1\n",
       "In ICU                               1\n",
       "NIV                                  1\n",
       "Roudy                                1\n",
       "Name: Current Clinical Status, dtype: int64"
      ]
     },
     "execution_count": 64,
     "metadata": {
      "tags": []
     },
     "output_type": "execute_result"
    }
   ],
   "source": [
    "df['Current Clinical Status'].value_counts(dropna=False)"
   ]
  },
  {
   "cell_type": "code",
   "execution_count": 0,
   "metadata": {
    "colab": {
     "base_uri": "https://localhost:8080/",
     "height": 104
    },
    "colab_type": "code",
    "executionInfo": {
     "elapsed": 13304,
     "status": "ok",
     "timestamp": 1591620525751,
     "user": {
      "displayName": "nikhil jaiswal",
      "photoUrl": "https://lh4.googleusercontent.com/-o-e6IKA0zOQ/AAAAAAAAAAI/AAAAAAAABhk/NX-uYSjsDqE/s64/photo.jpg",
      "userId": "00010766787081222440"
     },
     "user_tz": -330
    },
    "id": "xZID-qv_FFdB",
    "outputId": "2e48640b-84b5-490e-d634-6f3420ebd99d"
   },
   "outputs": [
    {
     "data": {
      "text/plain": [
       "Stable      3954\n",
       "Admitted     557\n",
       "Death         70\n",
       "Critical      45\n",
       "Name: Current Clinical Status, dtype: int64"
      ]
     },
     "execution_count": 65,
     "metadata": {
      "tags": []
     },
     "output_type": "execute_result"
    }
   ],
   "source": [
    "df = df.fillna({'Current Clinical Status':'Admitted'})\n",
    "df = df.replace({'Current Clinical Status':['Admited','ADMITED','Admitted (7A)']},'Admitted')\n",
    "df = df.replace({'Current Clinical Status':['DEATH','death','EXPIRED ON03/05/2020.(2.00 AM)']},'Death')\n",
    "df = df.replace({'Current Clinical Status':['Asymptomatic','Unstable','criticl on ventilater','PATIENT ON BIPAP','INTUBATED','CRITICAL',\n",
    "                                            'UnStable','Critical on ventilator','In ICU','Roudy','UnStable on NIV','Critical on o2','Intubated',\n",
    "                                            ]},'Critical')\n",
    "df = df.replace({'Current Clinical Status':['NIV','on oxygen','On Oxygen Support','OnO2ICU']},'Stable')\n",
    "df['Current Clinical Status'].value_counts(dropna=False)"
   ]
  },
  {
   "cell_type": "markdown",
   "metadata": {
    "colab_type": "text",
    "id": "AmHBF-khz6In"
   },
   "source": [
    "## Cleaning 'Travel to COVID affected country' column"
   ]
  },
  {
   "cell_type": "code",
   "execution_count": 0,
   "metadata": {
    "colab": {
     "base_uri": "https://localhost:8080/",
     "height": 69
    },
    "colab_type": "code",
    "executionInfo": {
     "elapsed": 12826,
     "status": "ok",
     "timestamp": 1591620525752,
     "user": {
      "displayName": "nikhil jaiswal",
      "photoUrl": "https://lh4.googleusercontent.com/-o-e6IKA0zOQ/AAAAAAAAAAI/AAAAAAAABhk/NX-uYSjsDqE/s64/photo.jpg",
      "userId": "00010766787081222440"
     },
     "user_tz": -330
    },
    "id": "m7t78NooqjTm",
    "outputId": "3e3327a3-6093-4dbf-b1fb-db60da50cddb"
   },
   "outputs": [
    {
     "data": {
      "text/plain": [
       "No     4613\n",
       "Yes      13\n",
       "Name: Travel to COVID afftected country (Yes/No), dtype: int64"
      ]
     },
     "execution_count": 66,
     "metadata": {
      "tags": []
     },
     "output_type": "execute_result"
    }
   ],
   "source": [
    "df = df.fillna({'Travel to COVID afftected country (Yes/No)':'No'})\n",
    "df = df.replace({'Travel to COVID afftected country (Yes/No)':['NO']},'No')\n",
    "df['Travel to COVID afftected country (Yes/No)'].value_counts(dropna=False)"
   ]
  },
  {
   "cell_type": "markdown",
   "metadata": {
    "colab_type": "text",
    "id": "28AzvARz0EPH"
   },
   "source": [
    "## Cleaning 'Contacts with COVID case' column"
   ]
  },
  {
   "cell_type": "code",
   "execution_count": 0,
   "metadata": {
    "colab": {
     "base_uri": "https://localhost:8080/",
     "height": 191
    },
    "colab_type": "code",
    "executionInfo": {
     "elapsed": 12305,
     "status": "ok",
     "timestamp": 1591620525753,
     "user": {
      "displayName": "nikhil jaiswal",
      "photoUrl": "https://lh4.googleusercontent.com/-o-e6IKA0zOQ/AAAAAAAAAAI/AAAAAAAABhk/NX-uYSjsDqE/s64/photo.jpg",
      "userId": "00010766787081222440"
     },
     "user_tz": -330
    },
    "id": "aaEZNDJDR9oL",
    "outputId": "df848923-edc9-454d-927c-e2cb6d03b80a"
   },
   "outputs": [
    {
     "data": {
      "text/plain": [
       "NaN             3936\n",
       "NO               354\n",
       "No               161\n",
       "Yes              107\n",
       "Stable            60\n",
       "Yes                3\n",
       "Asymptomatic       3\n",
       "Hospitalies        1\n",
       "no                 1\n",
       "Name: Contact with COVID19 case (Yes/No), dtype: int64"
      ]
     },
     "execution_count": 67,
     "metadata": {
      "tags": []
     },
     "output_type": "execute_result"
    }
   ],
   "source": [
    "df['Contact with COVID19 case (Yes/No)'].value_counts(dropna=False)"
   ]
  },
  {
   "cell_type": "code",
   "execution_count": 0,
   "metadata": {
    "colab": {
     "base_uri": "https://localhost:8080/",
     "height": 69
    },
    "colab_type": "code",
    "executionInfo": {
     "elapsed": 12050,
     "status": "ok",
     "timestamp": 1591620525754,
     "user": {
      "displayName": "nikhil jaiswal",
      "photoUrl": "https://lh4.googleusercontent.com/-o-e6IKA0zOQ/AAAAAAAAAAI/AAAAAAAABhk/NX-uYSjsDqE/s64/photo.jpg",
      "userId": "00010766787081222440"
     },
     "user_tz": -330
    },
    "id": "JhAGWBj7spl0",
    "outputId": "19d2344e-e6dc-41a5-cf34-e9b5a96a90c1"
   },
   "outputs": [
    {
     "data": {
      "text/plain": [
       "No     4452\n",
       "Yes     174\n",
       "Name: Contact with COVID19 case (Yes/No), dtype: int64"
      ]
     },
     "execution_count": 68,
     "metadata": {
      "tags": []
     },
     "output_type": "execute_result"
    }
   ],
   "source": [
    "df = df.fillna({'Contact with COVID19 case (Yes/No)':'No'})\n",
    "df = df.replace({'Contact with COVID19 case (Yes/No)':['NO','no']},'No')\n",
    "df = df.replace({'Contact with COVID19 case (Yes/No)':['STABLE','Stable','yes','YES','Yes ','Asymptomatic','Hospitalies']},'Yes')\n",
    "df['Contact with COVID19 case (Yes/No)'].value_counts()"
   ]
  },
  {
   "cell_type": "markdown",
   "metadata": {
    "colab_type": "text",
    "id": "OI8WWY7m0RS6"
   },
   "source": [
    "## Cleaning 'Is patitent member of cluster COVID' column"
   ]
  },
  {
   "cell_type": "code",
   "execution_count": 0,
   "metadata": {
    "colab": {
     "base_uri": "https://localhost:8080/",
     "height": 121
    },
    "colab_type": "code",
    "executionInfo": {
     "elapsed": 11499,
     "status": "ok",
     "timestamp": 1591620525755,
     "user": {
      "displayName": "nikhil jaiswal",
      "photoUrl": "https://lh4.googleusercontent.com/-o-e6IKA0zOQ/AAAAAAAAAAI/AAAAAAAABhk/NX-uYSjsDqE/s64/photo.jpg",
      "userId": "00010766787081222440"
     },
     "user_tz": -330
    },
    "id": "RWd_e07FEcH1",
    "outputId": "5e86af92-feea-4c98-a0b4-f4f4da943e93"
   },
   "outputs": [
    {
     "data": {
      "text/plain": [
       "NaN    3904\n",
       "NO      523\n",
       "Yes     112\n",
       "No       85\n",
       "no        2\n",
       "Name: Is patient member of cluster of COVID19(Yes/No), dtype: int64"
      ]
     },
     "execution_count": 69,
     "metadata": {
      "tags": []
     },
     "output_type": "execute_result"
    }
   ],
   "source": [
    "df['Is patient member of cluster of COVID19(Yes/No)'].value_counts(dropna=False)"
   ]
  },
  {
   "cell_type": "code",
   "execution_count": 0,
   "metadata": {
    "colab": {
     "base_uri": "https://localhost:8080/",
     "height": 69
    },
    "colab_type": "code",
    "executionInfo": {
     "elapsed": 11233,
     "status": "ok",
     "timestamp": 1591620525755,
     "user": {
      "displayName": "nikhil jaiswal",
      "photoUrl": "https://lh4.googleusercontent.com/-o-e6IKA0zOQ/AAAAAAAAAAI/AAAAAAAABhk/NX-uYSjsDqE/s64/photo.jpg",
      "userId": "00010766787081222440"
     },
     "user_tz": -330
    },
    "id": "zEOwEDruifx3",
    "outputId": "67e808db-c9df-4c49-a4cb-6dc388a4307f"
   },
   "outputs": [
    {
     "data": {
      "text/plain": [
       "No     4514\n",
       "Yes     112\n",
       "Name: Is patient member of cluster of COVID19(Yes/No), dtype: int64"
      ]
     },
     "execution_count": 70,
     "metadata": {
      "tags": []
     },
     "output_type": "execute_result"
    }
   ],
   "source": [
    "df = df.replace({'Is patient member of cluster of COVID19(Yes/No)':['NO','no']},'No')\n",
    "df = df.replace({'Is patient member of cluster of COVID19(Yes/No)':['YES','yes']},'Yes')\n",
    "df = df.fillna({'Is patient member of cluster of COVID19(Yes/No)':'No'})\n",
    "df['Is patient member of cluster of COVID19(Yes/No)'].value_counts(dropna=False)"
   ]
  },
  {
   "cell_type": "markdown",
   "metadata": {
    "colab_type": "text",
    "id": "ZI9QYXuhP0OL"
   },
   "source": [
    "##  Filling 'Total contacts' column"
   ]
  },
  {
   "cell_type": "code",
   "execution_count": 0,
   "metadata": {
    "colab": {
     "base_uri": "https://localhost:8080/",
     "height": 745
    },
    "colab_type": "code",
    "executionInfo": {
     "elapsed": 10757,
     "status": "ok",
     "timestamp": 1591620525756,
     "user": {
      "displayName": "nikhil jaiswal",
      "photoUrl": "https://lh4.googleusercontent.com/-o-e6IKA0zOQ/AAAAAAAAAAI/AAAAAAAABhk/NX-uYSjsDqE/s64/photo.jpg",
      "userId": "00010766787081222440"
     },
     "user_tz": -330
    },
    "id": "FsCllrdCPz8B",
    "outputId": "af1436a9-bc36-476e-dbab-c02ea2c28715"
   },
   "outputs": [
    {
     "data": {
      "text/plain": [
       "0.0     1547\n",
       "NaN     1513\n",
       "3.0      206\n",
       "4.0      183\n",
       "5.0      182\n",
       "6.0      134\n",
       "2.0      119\n",
       "7.0      114\n",
       "8.0       91\n",
       "1.0       75\n",
       "9.0       69\n",
       "10.0      62\n",
       "11.0      49\n",
       "12.0      46\n",
       "13.0      41\n",
       "14.0      40\n",
       "16.0      23\n",
       "15.0      22\n",
       "22.0      18\n",
       "18.0      15\n",
       "17.0      11\n",
       "34.0      10\n",
       "21.0       9\n",
       "19.0       7\n",
       "25.0       6\n",
       "27.0       6\n",
       "29.0       6\n",
       "24.0       4\n",
       "28.0       3\n",
       "23.0       2\n",
       "36.0       2\n",
       "30.0       2\n",
       "31.0       1\n",
       "20.0       1\n",
       "64.0       1\n",
       "40.0       1\n",
       "48.0       1\n",
       "39.0       1\n",
       "35.0       1\n",
       "37.0       1\n",
       "45.0       1\n",
       "Name: Total Contacts, dtype: int64"
      ]
     },
     "execution_count": 71,
     "metadata": {
      "tags": []
     },
     "output_type": "execute_result"
    }
   ],
   "source": [
    "df['Total Contacts'].value_counts(dropna=False)"
   ]
  },
  {
   "cell_type": "code",
   "execution_count": 0,
   "metadata": {
    "colab": {},
    "colab_type": "code",
    "id": "U--EH1xPPz0D"
   },
   "outputs": [],
   "source": [
    "df = df.fillna({'Total Contacts':0})"
   ]
  },
  {
   "cell_type": "markdown",
   "metadata": {
    "colab_type": "text",
    "id": "tT8rS0ho1Whz"
   },
   "source": [
    "## Cleaning 'Symptoms' column\n"
   ]
  },
  {
   "cell_type": "code",
   "execution_count": 0,
   "metadata": {
    "colab": {
     "base_uri": "https://localhost:8080/",
     "height": 225
    },
    "colab_type": "code",
    "executionInfo": {
     "elapsed": 9847,
     "status": "ok",
     "timestamp": 1591620525757,
     "user": {
      "displayName": "nikhil jaiswal",
      "photoUrl": "https://lh4.googleusercontent.com/-o-e6IKA0zOQ/AAAAAAAAAAI/AAAAAAAABhk/NX-uYSjsDqE/s64/photo.jpg",
      "userId": "00010766787081222440"
     },
     "user_tz": -330
    },
    "id": "9QYUfUMW9XeU",
    "outputId": "520474e3-418e-464e-9d4f-e00a888a0333"
   },
   "outputs": [
    {
     "data": {
      "text/plain": [
       "Fever,Cough                               2268\n",
       "NaN                                        906\n",
       "Cough,Cold,Fever                           815\n",
       "Asymptomatic                               184\n",
       "Breathlessness                              59\n",
       "                                          ... \n",
       "Cold,Bodyache                                1\n",
       "Sore Throat,Cough,Fever,Breathlessness       1\n",
       "Sore Throat,Bodyache                         1\n",
       "Fever,chills,Headache                        1\n",
       "Cough & Cold                                 1\n",
       "Name: Symptoms at admission , Length: 154, dtype: int64"
      ]
     },
     "execution_count": 73,
     "metadata": {
      "tags": []
     },
     "output_type": "execute_result"
    }
   ],
   "source": [
    "df['Symptoms at admission '].value_counts(dropna=False)"
   ]
  },
  {
   "cell_type": "code",
   "execution_count": 0,
   "metadata": {
    "colab": {
     "base_uri": "https://localhost:8080/",
     "height": 35
    },
    "colab_type": "code",
    "executionInfo": {
     "elapsed": 9604,
     "status": "ok",
     "timestamp": 1591620525758,
     "user": {
      "displayName": "nikhil jaiswal",
      "photoUrl": "https://lh4.googleusercontent.com/-o-e6IKA0zOQ/AAAAAAAAAAI/AAAAAAAABhk/NX-uYSjsDqE/s64/photo.jpg",
      "userId": "00010766787081222440"
     },
     "user_tz": -330
    },
    "id": "xkBhtQCeleZA",
    "outputId": "e2d35697-53dc-475d-9593-797df400d3ef"
   },
   "outputs": [
    {
     "data": {
      "text/plain": [
       "0"
      ]
     },
     "execution_count": 74,
     "metadata": {
      "tags": []
     },
     "output_type": "execute_result"
    }
   ],
   "source": [
    "df['Symptoms at admission '].fillna('Fever',inplace=True)\n",
    "df['Symptoms at admission '].isnull().sum()"
   ]
  },
  {
   "cell_type": "code",
   "execution_count": 0,
   "metadata": {
    "colab": {},
    "colab_type": "code",
    "id": "-HB9MiiBd4gS"
   },
   "outputs": [],
   "source": [
    "#Making different columns for each symptom\n",
    "\n",
    "\n",
    "col=df['Symptoms at admission ']\n",
    "\n",
    "for i in col:\n",
    "    x=[]\n",
    "    k=i.split(',')\n",
    "    for j in k:\n",
    "        x.append(j.strip())\n",
    "    \n",
    "    symptoms=['Fever','Cold','Cough','Breathlessness','Weakness','Vomiting','Sore Throat','Chest pain','Loss of appetite','Nausea','Abdominal pain','Loose motion','Diarrhoea']\n",
    "    \n",
    "    for ele in symptoms:\n",
    "  \n",
    "        if ele in x:\n",
    "\n",
    "      \n",
    "            df[ele]=1\n",
    "        \n",
    "        else:\n",
    "            df[ele]=0\n",
    "    \n",
    "    "
   ]
  },
  {
   "cell_type": "code",
   "execution_count": 0,
   "metadata": {
    "colab": {
     "base_uri": "https://localhost:8080/",
     "height": 176
    },
    "colab_type": "code",
    "executionInfo": {
     "elapsed": 16335,
     "status": "ok",
     "timestamp": 1591620532973,
     "user": {
      "displayName": "nikhil jaiswal",
      "photoUrl": "https://lh4.googleusercontent.com/-o-e6IKA0zOQ/AAAAAAAAAAI/AAAAAAAABhk/NX-uYSjsDqE/s64/photo.jpg",
      "userId": "00010766787081222440"
     },
     "user_tz": -330
    },
    "id": "xHT9zwFypPjx",
    "outputId": "5aaa7cf8-2180-45d0-9cc0-ad0f1a759b36"
   },
   "outputs": [
    {
     "name": "stderr",
     "output_type": "stream",
     "text": [
      "/usr/local/lib/python3.6/dist-packages/ipykernel_launcher.py:19: SettingWithCopyWarning: \n",
      "A value is trying to be set on a copy of a slice from a DataFrame\n",
      "\n",
      "See the caveats in the documentation: https://pandas.pydata.org/pandas-docs/stable/user_guide/indexing.html#returning-a-view-versus-a-copy\n",
      "/usr/local/lib/python3.6/dist-packages/ipykernel_launcher.py:22: SettingWithCopyWarning: \n",
      "A value is trying to be set on a copy of a slice from a DataFrame\n",
      "\n",
      "See the caveats in the documentation: https://pandas.pydata.org/pandas-docs/stable/user_guide/indexing.html#returning-a-view-versus-a-copy\n"
     ]
    }
   ],
   "source": [
    "#Making different columns for each symptom\n",
    "\n",
    "\n",
    "col=df['Symptoms at admission ']\n",
    "t=0\n",
    "for i in col:\n",
    "    x=[]\n",
    "    k=i.split(',')\n",
    "    for j in k:\n",
    "        x.append(j.strip())\n",
    "    \n",
    "    symptoms=['Fever','Cold','Cough','Breathlessness','Weakness','Vomiting','Sore Throat','Chest pain','Loss of appetite','Nausea','Abdominal pain','Loose motion','Diarrhoea']\n",
    "    \n",
    "    for ele in symptoms:\n",
    "  \n",
    "        if ele in x:\n",
    "\n",
    "      \n",
    "            df[ele][t]=1\n",
    "        \n",
    "        else:\n",
    "            df[ele][t]=0\n",
    "    t=t+1\n",
    "    "
   ]
  },
  {
   "cell_type": "code",
   "execution_count": 0,
   "metadata": {
    "colab": {},
    "colab_type": "code",
    "id": "8wqNZrMfpPaK"
   },
   "outputs": [],
   "source": [
    "df = df.drop(['Symptoms at admission '],axis=1)"
   ]
  },
  {
   "cell_type": "markdown",
   "metadata": {
    "colab_type": "text",
    "id": "2_nf7wey0mQL"
   },
   "source": [
    "## Cleaning 'Outcome' column"
   ]
  },
  {
   "cell_type": "code",
   "execution_count": 0,
   "metadata": {
    "colab": {
     "base_uri": "https://localhost:8080/",
     "height": 173
    },
    "colab_type": "code",
    "executionInfo": {
     "elapsed": 15550,
     "status": "ok",
     "timestamp": 1591620532975,
     "user": {
      "displayName": "nikhil jaiswal",
      "photoUrl": "https://lh4.googleusercontent.com/-o-e6IKA0zOQ/AAAAAAAAAAI/AAAAAAAABhk/NX-uYSjsDqE/s64/photo.jpg",
      "userId": "00010766787081222440"
     },
     "user_tz": -330
    },
    "id": "F_eRRlTX0hba",
    "outputId": "7b491d46-49e6-41b7-cda8-b608a91be6de"
   },
   "outputs": [
    {
     "data": {
      "text/plain": [
       "Admitted      2558\n",
       "Discharged    1599\n",
       "Death          194\n",
       "DIscharged     135\n",
       "discharged     122\n",
       "dIscharged       6\n",
       "death            5\n",
       "DEATH            4\n",
       "Name: Outcome (Discharged/Death/Admitted), dtype: int64"
      ]
     },
     "execution_count": 78,
     "metadata": {
      "tags": []
     },
     "output_type": "execute_result"
    }
   ],
   "source": [
    "df['Outcome (Discharged/Death/Admitted)'].value_counts()"
   ]
  },
  {
   "cell_type": "code",
   "execution_count": 0,
   "metadata": {
    "colab": {
     "base_uri": "https://localhost:8080/",
     "height": 87
    },
    "colab_type": "code",
    "executionInfo": {
     "elapsed": 15275,
     "status": "ok",
     "timestamp": 1591620532976,
     "user": {
      "displayName": "nikhil jaiswal",
      "photoUrl": "https://lh4.googleusercontent.com/-o-e6IKA0zOQ/AAAAAAAAAAI/AAAAAAAABhk/NX-uYSjsDqE/s64/photo.jpg",
      "userId": "00010766787081222440"
     },
     "user_tz": -330
    },
    "id": "STfvWz1W0hWY",
    "outputId": "30dd83a6-bd7d-45bf-dd91-4db10e5891b0"
   },
   "outputs": [
    {
     "data": {
      "text/plain": [
       "Admitted      2558\n",
       "Discharged    1862\n",
       "Death          203\n",
       "Name: Outcome (Discharged/Death/Admitted), dtype: int64"
      ]
     },
     "execution_count": 79,
     "metadata": {
      "tags": []
     },
     "output_type": "execute_result"
    }
   ],
   "source": [
    "df = df.replace({'Outcome (Discharged/Death/Admitted)':['ADMITTED','Admitted ']},'Admitted')\n",
    "df = df.replace({'Outcome (Discharged/Death/Admitted)':['DIscharged','discharged','dIscharged']},'Discharged')\n",
    "df = df.replace({'Outcome (Discharged/Death/Admitted)':['death','DEATH']},'Death')\n",
    "df['Outcome (Discharged/Death/Admitted)'].value_counts()"
   ]
  },
  {
   "cell_type": "code",
   "execution_count": 0,
   "metadata": {
    "colab": {
     "base_uri": "https://localhost:8080/",
     "height": 291
    },
    "colab_type": "code",
    "executionInfo": {
     "elapsed": 15027,
     "status": "ok",
     "timestamp": 1591620532977,
     "user": {
      "displayName": "nikhil jaiswal",
      "photoUrl": "https://lh4.googleusercontent.com/-o-e6IKA0zOQ/AAAAAAAAAAI/AAAAAAAABhk/NX-uYSjsDqE/s64/photo.jpg",
      "userId": "00010766787081222440"
     },
     "user_tz": -330
    },
    "id": "UGiqEUM9sIM_",
    "outputId": "acd90655-f66b-43b1-9af5-949780c1c3c3"
   },
   "outputs": [
    {
     "data": {
      "text/html": [
       "<div>\n",
       "<style scoped>\n",
       "    .dataframe tbody tr th:only-of-type {\n",
       "        vertical-align: middle;\n",
       "    }\n",
       "\n",
       "    .dataframe tbody tr th {\n",
       "        vertical-align: top;\n",
       "    }\n",
       "\n",
       "    .dataframe thead th {\n",
       "        text-align: right;\n",
       "    }\n",
       "</style>\n",
       "<table border=\"1\" class=\"dataframe\">\n",
       "  <thead>\n",
       "    <tr style=\"text-align: right;\">\n",
       "      <th></th>\n",
       "      <th>Age</th>\n",
       "      <th>Gender</th>\n",
       "      <th>Travel to COVID afftected country (Yes/No)</th>\n",
       "      <th>Contact with COVID19 case (Yes/No)</th>\n",
       "      <th>Current Clinical Status</th>\n",
       "      <th>Is patient member of cluster of COVID19(Yes/No)</th>\n",
       "      <th>Total Contacts</th>\n",
       "      <th>No</th>\n",
       "      <th>DM</th>\n",
       "      <th>Hypertension</th>\n",
       "      <th>Yes</th>\n",
       "      <th>ANC</th>\n",
       "      <th>IHD</th>\n",
       "      <th>COPD</th>\n",
       "      <th>Asthama</th>\n",
       "      <th>Hypothyroidism</th>\n",
       "      <th>Chronic_renal_disease</th>\n",
       "      <th>Obesity</th>\n",
       "      <th>CKD</th>\n",
       "      <th>Alcoholic_liver_disease</th>\n",
       "      <th>Tobaco_chewer</th>\n",
       "      <th>Thyroid_disorder</th>\n",
       "      <th>HepatitisB</th>\n",
       "      <th>HIV</th>\n",
       "      <th>Hemiparesis</th>\n",
       "      <th>Bronchitis</th>\n",
       "      <th>Chronic_kidney_disease</th>\n",
       "      <th>Alcoholic</th>\n",
       "      <th>Renal_stone</th>\n",
       "      <th>Breathlessness</th>\n",
       "      <th>Fever</th>\n",
       "      <th>Cold</th>\n",
       "      <th>Cough</th>\n",
       "      <th>Weakness</th>\n",
       "      <th>Vomiting</th>\n",
       "      <th>Sore Throat</th>\n",
       "      <th>Chest pain</th>\n",
       "      <th>Loss of appetite</th>\n",
       "      <th>Nausea</th>\n",
       "      <th>Abdominal pain</th>\n",
       "      <th>Loose motion</th>\n",
       "      <th>Diarrhoea</th>\n",
       "      <th>Outcome</th>\n",
       "    </tr>\n",
       "  </thead>\n",
       "  <tbody>\n",
       "    <tr>\n",
       "      <th>0</th>\n",
       "      <td>51.0</td>\n",
       "      <td>M</td>\n",
       "      <td>Yes</td>\n",
       "      <td>No</td>\n",
       "      <td>Stable</td>\n",
       "      <td>Yes</td>\n",
       "      <td>11.0</td>\n",
       "      <td>1</td>\n",
       "      <td>0</td>\n",
       "      <td>0</td>\n",
       "      <td>0</td>\n",
       "      <td>0</td>\n",
       "      <td>0</td>\n",
       "      <td>0</td>\n",
       "      <td>0</td>\n",
       "      <td>0</td>\n",
       "      <td>0</td>\n",
       "      <td>0</td>\n",
       "      <td>0</td>\n",
       "      <td>0</td>\n",
       "      <td>0</td>\n",
       "      <td>0</td>\n",
       "      <td>0</td>\n",
       "      <td>0</td>\n",
       "      <td>0</td>\n",
       "      <td>0</td>\n",
       "      <td>0</td>\n",
       "      <td>0</td>\n",
       "      <td>0</td>\n",
       "      <td>0</td>\n",
       "      <td>1</td>\n",
       "      <td>1</td>\n",
       "      <td>1</td>\n",
       "      <td>0</td>\n",
       "      <td>0</td>\n",
       "      <td>0</td>\n",
       "      <td>0</td>\n",
       "      <td>0</td>\n",
       "      <td>0</td>\n",
       "      <td>0</td>\n",
       "      <td>0</td>\n",
       "      <td>0</td>\n",
       "      <td>Discharged</td>\n",
       "    </tr>\n",
       "    <tr>\n",
       "      <th>1</th>\n",
       "      <td>43.0</td>\n",
       "      <td>F</td>\n",
       "      <td>Yes</td>\n",
       "      <td>No</td>\n",
       "      <td>Stable</td>\n",
       "      <td>Yes</td>\n",
       "      <td>25.0</td>\n",
       "      <td>1</td>\n",
       "      <td>0</td>\n",
       "      <td>0</td>\n",
       "      <td>0</td>\n",
       "      <td>0</td>\n",
       "      <td>0</td>\n",
       "      <td>0</td>\n",
       "      <td>0</td>\n",
       "      <td>0</td>\n",
       "      <td>0</td>\n",
       "      <td>0</td>\n",
       "      <td>0</td>\n",
       "      <td>0</td>\n",
       "      <td>0</td>\n",
       "      <td>0</td>\n",
       "      <td>0</td>\n",
       "      <td>0</td>\n",
       "      <td>0</td>\n",
       "      <td>0</td>\n",
       "      <td>0</td>\n",
       "      <td>0</td>\n",
       "      <td>0</td>\n",
       "      <td>0</td>\n",
       "      <td>1</td>\n",
       "      <td>1</td>\n",
       "      <td>1</td>\n",
       "      <td>0</td>\n",
       "      <td>0</td>\n",
       "      <td>0</td>\n",
       "      <td>0</td>\n",
       "      <td>0</td>\n",
       "      <td>0</td>\n",
       "      <td>0</td>\n",
       "      <td>0</td>\n",
       "      <td>0</td>\n",
       "      <td>Discharged</td>\n",
       "    </tr>\n",
       "    <tr>\n",
       "      <th>2</th>\n",
       "      <td>23.0</td>\n",
       "      <td>F</td>\n",
       "      <td>Yes</td>\n",
       "      <td>No</td>\n",
       "      <td>Stable</td>\n",
       "      <td>Yes</td>\n",
       "      <td>19.0</td>\n",
       "      <td>1</td>\n",
       "      <td>0</td>\n",
       "      <td>0</td>\n",
       "      <td>0</td>\n",
       "      <td>0</td>\n",
       "      <td>0</td>\n",
       "      <td>0</td>\n",
       "      <td>0</td>\n",
       "      <td>0</td>\n",
       "      <td>0</td>\n",
       "      <td>0</td>\n",
       "      <td>0</td>\n",
       "      <td>0</td>\n",
       "      <td>0</td>\n",
       "      <td>0</td>\n",
       "      <td>0</td>\n",
       "      <td>0</td>\n",
       "      <td>0</td>\n",
       "      <td>0</td>\n",
       "      <td>0</td>\n",
       "      <td>0</td>\n",
       "      <td>0</td>\n",
       "      <td>0</td>\n",
       "      <td>1</td>\n",
       "      <td>1</td>\n",
       "      <td>1</td>\n",
       "      <td>0</td>\n",
       "      <td>0</td>\n",
       "      <td>0</td>\n",
       "      <td>0</td>\n",
       "      <td>0</td>\n",
       "      <td>0</td>\n",
       "      <td>0</td>\n",
       "      <td>0</td>\n",
       "      <td>0</td>\n",
       "      <td>Discharged</td>\n",
       "    </tr>\n",
       "    <tr>\n",
       "      <th>3</th>\n",
       "      <td>43.0</td>\n",
       "      <td>M</td>\n",
       "      <td>No</td>\n",
       "      <td>Yes</td>\n",
       "      <td>Stable</td>\n",
       "      <td>Yes</td>\n",
       "      <td>11.0</td>\n",
       "      <td>1</td>\n",
       "      <td>0</td>\n",
       "      <td>0</td>\n",
       "      <td>0</td>\n",
       "      <td>0</td>\n",
       "      <td>0</td>\n",
       "      <td>0</td>\n",
       "      <td>0</td>\n",
       "      <td>0</td>\n",
       "      <td>0</td>\n",
       "      <td>0</td>\n",
       "      <td>0</td>\n",
       "      <td>0</td>\n",
       "      <td>0</td>\n",
       "      <td>0</td>\n",
       "      <td>0</td>\n",
       "      <td>0</td>\n",
       "      <td>0</td>\n",
       "      <td>0</td>\n",
       "      <td>0</td>\n",
       "      <td>0</td>\n",
       "      <td>0</td>\n",
       "      <td>0</td>\n",
       "      <td>0</td>\n",
       "      <td>1</td>\n",
       "      <td>0</td>\n",
       "      <td>0</td>\n",
       "      <td>0</td>\n",
       "      <td>0</td>\n",
       "      <td>0</td>\n",
       "      <td>0</td>\n",
       "      <td>0</td>\n",
       "      <td>0</td>\n",
       "      <td>0</td>\n",
       "      <td>0</td>\n",
       "      <td>Discharged</td>\n",
       "    </tr>\n",
       "    <tr>\n",
       "      <th>4</th>\n",
       "      <td>27.0</td>\n",
       "      <td>M</td>\n",
       "      <td>Yes</td>\n",
       "      <td>No</td>\n",
       "      <td>Stable</td>\n",
       "      <td>Yes</td>\n",
       "      <td>15.0</td>\n",
       "      <td>1</td>\n",
       "      <td>0</td>\n",
       "      <td>0</td>\n",
       "      <td>0</td>\n",
       "      <td>0</td>\n",
       "      <td>0</td>\n",
       "      <td>0</td>\n",
       "      <td>0</td>\n",
       "      <td>0</td>\n",
       "      <td>0</td>\n",
       "      <td>0</td>\n",
       "      <td>0</td>\n",
       "      <td>0</td>\n",
       "      <td>0</td>\n",
       "      <td>0</td>\n",
       "      <td>0</td>\n",
       "      <td>0</td>\n",
       "      <td>0</td>\n",
       "      <td>0</td>\n",
       "      <td>0</td>\n",
       "      <td>0</td>\n",
       "      <td>0</td>\n",
       "      <td>0</td>\n",
       "      <td>1</td>\n",
       "      <td>1</td>\n",
       "      <td>1</td>\n",
       "      <td>0</td>\n",
       "      <td>0</td>\n",
       "      <td>0</td>\n",
       "      <td>0</td>\n",
       "      <td>0</td>\n",
       "      <td>0</td>\n",
       "      <td>0</td>\n",
       "      <td>0</td>\n",
       "      <td>0</td>\n",
       "      <td>Discharged</td>\n",
       "    </tr>\n",
       "  </tbody>\n",
       "</table>\n",
       "</div>"
      ],
      "text/plain": [
       "    Age Gender  ... Diarrhoea     Outcome\n",
       "0  51.0      M  ...         0  Discharged\n",
       "1  43.0      F  ...         0  Discharged\n",
       "2  23.0      F  ...         0  Discharged\n",
       "3  43.0      M  ...         0  Discharged\n",
       "4  27.0      M  ...         0  Discharged\n",
       "\n",
       "[5 rows x 43 columns]"
      ]
     },
     "execution_count": 80,
     "metadata": {
      "tags": []
     },
     "output_type": "execute_result"
    }
   ],
   "source": [
    "df['Outcome']=df['Outcome (Discharged/Death/Admitted)']\n",
    "df=df.drop('Outcome (Discharged/Death/Admitted)',axis=1)\n",
    "df=df[(df.Outcome=='Discharged')|(df.Outcome=='Admitted')]\n",
    "df.head()"
   ]
  },
  {
   "cell_type": "code",
   "execution_count": 0,
   "metadata": {
    "colab": {
     "base_uri": "https://localhost:8080/",
     "height": 69
    },
    "colab_type": "code",
    "executionInfo": {
     "elapsed": 14760,
     "status": "ok",
     "timestamp": 1591620532978,
     "user": {
      "displayName": "nikhil jaiswal",
      "photoUrl": "https://lh4.googleusercontent.com/-o-e6IKA0zOQ/AAAAAAAAAAI/AAAAAAAABhk/NX-uYSjsDqE/s64/photo.jpg",
      "userId": "00010766787081222440"
     },
     "user_tz": -330
    },
    "id": "UIdK3Yt6wR5A",
    "outputId": "fd618b28-4916-473c-e546-2526bfe7064a"
   },
   "outputs": [
    {
     "data": {
      "text/plain": [
       "Admitted      2558\n",
       "Discharged    1862\n",
       "Name: Outcome, dtype: int64"
      ]
     },
     "execution_count": 81,
     "metadata": {
      "tags": []
     },
     "output_type": "execute_result"
    }
   ],
   "source": [
    "df['Outcome'].value_counts(dropna =False)"
   ]
  },
  {
   "cell_type": "code",
   "execution_count": 0,
   "metadata": {
    "colab": {
     "base_uri": "https://localhost:8080/",
     "height": 884
    },
    "colab_type": "code",
    "executionInfo": {
     "elapsed": 14479,
     "status": "ok",
     "timestamp": 1591620532978,
     "user": {
      "displayName": "nikhil jaiswal",
      "photoUrl": "https://lh4.googleusercontent.com/-o-e6IKA0zOQ/AAAAAAAAAAI/AAAAAAAABhk/NX-uYSjsDqE/s64/photo.jpg",
      "userId": "00010766787081222440"
     },
     "user_tz": -330
    },
    "id": "bNnm0gxlQ4wH",
    "outputId": "130918a6-a85e-4e47-bef0-c63eadcada12"
   },
   "outputs": [
    {
     "name": "stdout",
     "output_type": "stream",
     "text": [
      "<class 'pandas.core.frame.DataFrame'>\n",
      "Int64Index: 4420 entries, 0 to 4625\n",
      "Data columns (total 43 columns):\n",
      " #   Column                                           Non-Null Count  Dtype  \n",
      "---  ------                                           --------------  -----  \n",
      " 0   Age                                              4420 non-null   float64\n",
      " 1   Gender                                           4418 non-null   object \n",
      " 2   Travel to COVID afftected country (Yes/No)       4420 non-null   object \n",
      " 3   Contact with COVID19 case (Yes/No)               4420 non-null   object \n",
      " 4   Current Clinical Status                          4420 non-null   object \n",
      " 5   Is patient member of cluster of COVID19(Yes/No)  4420 non-null   object \n",
      " 6   Total Contacts                                   4420 non-null   float64\n",
      " 7   No                                               4420 non-null   int64  \n",
      " 8   DM                                               4420 non-null   int64  \n",
      " 9   Hypertension                                     4420 non-null   int64  \n",
      " 10  Yes                                              4420 non-null   int64  \n",
      " 11  ANC                                              4420 non-null   int64  \n",
      " 12  IHD                                              4420 non-null   int64  \n",
      " 13  COPD                                             4420 non-null   int64  \n",
      " 14  Asthama                                          4420 non-null   int64  \n",
      " 15  Hypothyroidism                                   4420 non-null   int64  \n",
      " 16  Chronic_renal_disease                            4420 non-null   int64  \n",
      " 17  Obesity                                          4420 non-null   int64  \n",
      " 18  CKD                                              4420 non-null   int64  \n",
      " 19  Alcoholic_liver_disease                          4420 non-null   int64  \n",
      " 20  Tobaco_chewer                                    4420 non-null   int64  \n",
      " 21  Thyroid_disorder                                 4420 non-null   int64  \n",
      " 22  HepatitisB                                       4420 non-null   int64  \n",
      " 23  HIV                                              4420 non-null   int64  \n",
      " 24  Hemiparesis                                      4420 non-null   int64  \n",
      " 25  Bronchitis                                       4420 non-null   int64  \n",
      " 26  Chronic_kidney_disease                           4420 non-null   int64  \n",
      " 27  Alcoholic                                        4420 non-null   int64  \n",
      " 28  Renal_stone                                      4420 non-null   int64  \n",
      " 29  Breathlessness                                   4420 non-null   int64  \n",
      " 30  Fever                                            4420 non-null   int64  \n",
      " 31  Cold                                             4420 non-null   int64  \n",
      " 32  Cough                                            4420 non-null   int64  \n",
      " 33  Weakness                                         4420 non-null   int64  \n",
      " 34  Vomiting                                         4420 non-null   int64  \n",
      " 35  Sore Throat                                      4420 non-null   int64  \n",
      " 36  Chest pain                                       4420 non-null   int64  \n",
      " 37  Loss of appetite                                 4420 non-null   int64  \n",
      " 38  Nausea                                           4420 non-null   int64  \n",
      " 39  Abdominal pain                                   4420 non-null   int64  \n",
      " 40  Loose motion                                     4420 non-null   int64  \n",
      " 41  Diarrhoea                                        4420 non-null   int64  \n",
      " 42  Outcome                                          4420 non-null   object \n",
      "dtypes: float64(2), int64(35), object(6)\n",
      "memory usage: 1.5+ MB\n"
     ]
    }
   ],
   "source": [
    "df.info()"
   ]
  },
  {
   "cell_type": "code",
   "execution_count": 0,
   "metadata": {
    "colab": {
     "base_uri": "https://localhost:8080/",
     "height": 884
    },
    "colab_type": "code",
    "executionInfo": {
     "elapsed": 14249,
     "status": "ok",
     "timestamp": 1591620532979,
     "user": {
      "displayName": "nikhil jaiswal",
      "photoUrl": "https://lh4.googleusercontent.com/-o-e6IKA0zOQ/AAAAAAAAAAI/AAAAAAAABhk/NX-uYSjsDqE/s64/photo.jpg",
      "userId": "00010766787081222440"
     },
     "user_tz": -330
    },
    "id": "92SlJKO-sIHd",
    "outputId": "ebcf20ac-bd2b-46f7-c3d9-e6a113457141"
   },
   "outputs": [
    {
     "name": "stdout",
     "output_type": "stream",
     "text": [
      "<class 'pandas.core.frame.DataFrame'>\n",
      "Int64Index: 4418 entries, 0 to 4625\n",
      "Data columns (total 43 columns):\n",
      " #   Column                                           Non-Null Count  Dtype  \n",
      "---  ------                                           --------------  -----  \n",
      " 0   Age                                              4418 non-null   float64\n",
      " 1   Gender                                           4418 non-null   object \n",
      " 2   Travel to COVID afftected country (Yes/No)       4418 non-null   object \n",
      " 3   Contact with COVID19 case (Yes/No)               4418 non-null   object \n",
      " 4   Current Clinical Status                          4418 non-null   object \n",
      " 5   Is patient member of cluster of COVID19(Yes/No)  4418 non-null   object \n",
      " 6   Total Contacts                                   4418 non-null   float64\n",
      " 7   No                                               4418 non-null   int64  \n",
      " 8   DM                                               4418 non-null   int64  \n",
      " 9   Hypertension                                     4418 non-null   int64  \n",
      " 10  Yes                                              4418 non-null   int64  \n",
      " 11  ANC                                              4418 non-null   int64  \n",
      " 12  IHD                                              4418 non-null   int64  \n",
      " 13  COPD                                             4418 non-null   int64  \n",
      " 14  Asthama                                          4418 non-null   int64  \n",
      " 15  Hypothyroidism                                   4418 non-null   int64  \n",
      " 16  Chronic_renal_disease                            4418 non-null   int64  \n",
      " 17  Obesity                                          4418 non-null   int64  \n",
      " 18  CKD                                              4418 non-null   int64  \n",
      " 19  Alcoholic_liver_disease                          4418 non-null   int64  \n",
      " 20  Tobaco_chewer                                    4418 non-null   int64  \n",
      " 21  Thyroid_disorder                                 4418 non-null   int64  \n",
      " 22  HepatitisB                                       4418 non-null   int64  \n",
      " 23  HIV                                              4418 non-null   int64  \n",
      " 24  Hemiparesis                                      4418 non-null   int64  \n",
      " 25  Bronchitis                                       4418 non-null   int64  \n",
      " 26  Chronic_kidney_disease                           4418 non-null   int64  \n",
      " 27  Alcoholic                                        4418 non-null   int64  \n",
      " 28  Renal_stone                                      4418 non-null   int64  \n",
      " 29  Breathlessness                                   4418 non-null   int64  \n",
      " 30  Fever                                            4418 non-null   int64  \n",
      " 31  Cold                                             4418 non-null   int64  \n",
      " 32  Cough                                            4418 non-null   int64  \n",
      " 33  Weakness                                         4418 non-null   int64  \n",
      " 34  Vomiting                                         4418 non-null   int64  \n",
      " 35  Sore Throat                                      4418 non-null   int64  \n",
      " 36  Chest pain                                       4418 non-null   int64  \n",
      " 37  Loss of appetite                                 4418 non-null   int64  \n",
      " 38  Nausea                                           4418 non-null   int64  \n",
      " 39  Abdominal pain                                   4418 non-null   int64  \n",
      " 40  Loose motion                                     4418 non-null   int64  \n",
      " 41  Diarrhoea                                        4418 non-null   int64  \n",
      " 42  Outcome                                          4418 non-null   object \n",
      "dtypes: float64(2), int64(35), object(6)\n",
      "memory usage: 1.5+ MB\n"
     ]
    }
   ],
   "source": [
    "df = df.dropna()\n",
    "df.info()"
   ]
  },
  {
   "cell_type": "markdown",
   "metadata": {
    "colab_type": "text",
    "id": "ehUuqYoo03jf"
   },
   "source": [
    "## Transforming the dataset"
   ]
  },
  {
   "cell_type": "code",
   "execution_count": 0,
   "metadata": {
    "colab": {},
    "colab_type": "code",
    "id": "YviWN3mnPbzy"
   },
   "outputs": [],
   "source": [
    "X = df.iloc[:, :-1].values\n",
    "y = df.iloc[:, -1].values"
   ]
  },
  {
   "cell_type": "code",
   "execution_count": 8,
   "metadata": {
    "colab": {},
    "colab_type": "code",
    "id": "5I_AeCOKVUSi"
   },
   "outputs": [
    {
     "ename": "ModuleNotFoundError",
     "evalue": "No module named 'sklearn.compose'",
     "output_type": "error",
     "traceback": [
      "\u001b[1;31m---------------------------------------------------------------------------\u001b[0m",
      "\u001b[1;31mModuleNotFoundError\u001b[0m                       Traceback (most recent call last)",
      "\u001b[1;32m<ipython-input-8-c6b5292ae8eb>\u001b[0m in \u001b[0;36m<module>\u001b[1;34m\u001b[0m\n\u001b[1;32m----> 1\u001b[1;33m \u001b[1;32mfrom\u001b[0m \u001b[0msklearn\u001b[0m\u001b[1;33m.\u001b[0m\u001b[0mcompose\u001b[0m \u001b[1;32mimport\u001b[0m \u001b[0mColumnTransformer\u001b[0m\u001b[1;33m\u001b[0m\u001b[1;33m\u001b[0m\u001b[0m\n\u001b[0m\u001b[0;32m      2\u001b[0m \u001b[1;32mfrom\u001b[0m \u001b[0msklearn\u001b[0m\u001b[1;33m.\u001b[0m\u001b[0mpreprocessing\u001b[0m \u001b[1;32mimport\u001b[0m \u001b[0mOneHotEncoder\u001b[0m\u001b[1;33m\u001b[0m\u001b[1;33m\u001b[0m\u001b[0m\n\u001b[0;32m      3\u001b[0m \u001b[0mct\u001b[0m \u001b[1;33m=\u001b[0m \u001b[0mColumnTransformer\u001b[0m\u001b[1;33m(\u001b[0m\u001b[0mtransformers\u001b[0m\u001b[1;33m=\u001b[0m\u001b[1;33m[\u001b[0m\u001b[1;33m(\u001b[0m\u001b[1;34m'encoder'\u001b[0m\u001b[1;33m,\u001b[0m \u001b[0mOneHotEncoder\u001b[0m\u001b[1;33m(\u001b[0m\u001b[1;33m)\u001b[0m\u001b[1;33m,\u001b[0m \u001b[1;33m[\u001b[0m\u001b[1;36m1\u001b[0m\u001b[1;33m,\u001b[0m\u001b[1;36m2\u001b[0m\u001b[1;33m,\u001b[0m\u001b[1;36m3\u001b[0m\u001b[1;33m,\u001b[0m\u001b[1;36m4\u001b[0m\u001b[1;33m,\u001b[0m\u001b[1;36m5\u001b[0m\u001b[1;33m]\u001b[0m\u001b[1;33m)\u001b[0m\u001b[1;33m]\u001b[0m\u001b[1;33m,\u001b[0m \u001b[0mremainder\u001b[0m\u001b[1;33m=\u001b[0m\u001b[1;34m'passthrough'\u001b[0m\u001b[1;33m)\u001b[0m\u001b[1;33m\u001b[0m\u001b[1;33m\u001b[0m\u001b[0m\n\u001b[0;32m      4\u001b[0m \u001b[0mX\u001b[0m \u001b[1;33m=\u001b[0m \u001b[0mnp\u001b[0m\u001b[1;33m.\u001b[0m\u001b[0marray\u001b[0m\u001b[1;33m(\u001b[0m\u001b[0mct\u001b[0m\u001b[1;33m.\u001b[0m\u001b[0mfit_transform\u001b[0m\u001b[1;33m(\u001b[0m\u001b[0mX\u001b[0m\u001b[1;33m)\u001b[0m\u001b[1;33m)\u001b[0m\u001b[1;33m\u001b[0m\u001b[1;33m\u001b[0m\u001b[0m\n",
      "\u001b[1;31mModuleNotFoundError\u001b[0m: No module named 'sklearn.compose'"
     ]
    }
   ],
   "source": [
    "from sklearn.compose import ColumnTransformer\n",
    "from sklearn.preprocessing import OneHotEncoder\n",
    "ct = ColumnTransformer(transformers=[('encoder', OneHotEncoder(), [1,2,3,4,5])], remainder='passthrough')\n",
    "X = np.array(ct.fit_transform(X))"
   ]
  },
  {
   "cell_type": "code",
   "execution_count": 0,
   "metadata": {
    "colab": {
     "base_uri": "https://localhost:8080/",
     "height": 139
    },
    "colab_type": "code",
    "executionInfo": {
     "elapsed": 13165,
     "status": "ok",
     "timestamp": 1591620532981,
     "user": {
      "displayName": "nikhil jaiswal",
      "photoUrl": "https://lh4.googleusercontent.com/-o-e6IKA0zOQ/AAAAAAAAAAI/AAAAAAAABhk/NX-uYSjsDqE/s64/photo.jpg",
      "userId": "00010766787081222440"
     },
     "user_tz": -330
    },
    "id": "MJ0Qa-F5X5xs",
    "outputId": "24cc352e-858e-4f71-cc88-786c47ca98c5"
   },
   "outputs": [
    {
     "name": "stdout",
     "output_type": "stream",
     "text": [
      "[[0.0 1.0 0.0 ... 0 0 0]\n",
      " [1.0 0.0 0.0 ... 0 0 0]\n",
      " [1.0 0.0 0.0 ... 0 0 0]\n",
      " ...\n",
      " [0.0 1.0 1.0 ... 0 0 0]\n",
      " [1.0 0.0 1.0 ... 0 0 0]\n",
      " [0.0 1.0 1.0 ... 0 0 0]]\n"
     ]
    }
   ],
   "source": [
    "print(X)"
   ]
  },
  {
   "cell_type": "code",
   "execution_count": 0,
   "metadata": {
    "colab": {
     "base_uri": "https://localhost:8080/",
     "height": 35
    },
    "colab_type": "code",
    "executionInfo": {
     "elapsed": 12573,
     "status": "ok",
     "timestamp": 1591620532982,
     "user": {
      "displayName": "nikhil jaiswal",
      "photoUrl": "https://lh4.googleusercontent.com/-o-e6IKA0zOQ/AAAAAAAAAAI/AAAAAAAABhk/NX-uYSjsDqE/s64/photo.jpg",
      "userId": "00010766787081222440"
     },
     "user_tz": -330
    },
    "id": "mAig8E7IVUPL",
    "outputId": "2495d619-7d3d-4398-a2b3-b82f65777534"
   },
   "outputs": [
    {
     "name": "stdout",
     "output_type": "stream",
     "text": [
      "[1 1 1 ... 0 0 0]\n"
     ]
    }
   ],
   "source": [
    "from sklearn.preprocessing import LabelEncoder\n",
    "le = LabelEncoder()\n",
    "y = le.fit_transform(y)\n",
    "print(y)"
   ]
  },
  {
   "cell_type": "code",
   "execution_count": 0,
   "metadata": {
    "colab": {},
    "colab_type": "code",
    "id": "0xmwLhk9VUIy"
   },
   "outputs": [],
   "source": []
  },
  {
   "cell_type": "markdown",
   "metadata": {
    "colab_type": "text",
    "id": "aMN-8Rzx1fOI"
   },
   "source": [
    "## Splitting data into Training and Test set"
   ]
  },
  {
   "cell_type": "code",
   "execution_count": 0,
   "metadata": {
    "colab": {},
    "colab_type": "code",
    "id": "OLVSMXyTPmot"
   },
   "outputs": [],
   "source": [
    "from sklearn.model_selection import train_test_split\n",
    "X_train, X_test, y_train, y_test = train_test_split(X, y, test_size = 0.25, random_state = 0)"
   ]
  },
  {
   "cell_type": "markdown",
   "metadata": {
    "colab_type": "text",
    "id": "38miIh5b1sqW"
   },
   "source": [
    "# Logistic Regression\n"
   ]
  },
  {
   "cell_type": "code",
   "execution_count": 0,
   "metadata": {
    "colab": {
     "base_uri": "https://localhost:8080/",
     "height": 263
    },
    "colab_type": "code",
    "executionInfo": {
     "elapsed": 10803,
     "status": "ok",
     "timestamp": 1591620532984,
     "user": {
      "displayName": "nikhil jaiswal",
      "photoUrl": "https://lh4.googleusercontent.com/-o-e6IKA0zOQ/AAAAAAAAAAI/AAAAAAAABhk/NX-uYSjsDqE/s64/photo.jpg",
      "userId": "00010766787081222440"
     },
     "user_tz": -330
    },
    "id": "DiQMebsXWpHF",
    "outputId": "fc12ef62-77b8-42da-a48a-5675e139eca8"
   },
   "outputs": [
    {
     "name": "stderr",
     "output_type": "stream",
     "text": [
      "/usr/local/lib/python3.6/dist-packages/sklearn/linear_model/_logistic.py:940: ConvergenceWarning: lbfgs failed to converge (status=1):\n",
      "STOP: TOTAL NO. of ITERATIONS REACHED LIMIT.\n",
      "\n",
      "Increase the number of iterations (max_iter) or scale the data as shown in:\n",
      "    https://scikit-learn.org/stable/modules/preprocessing.html\n",
      "Please also refer to the documentation for alternative solver options:\n",
      "    https://scikit-learn.org/stable/modules/linear_model.html#logistic-regression\n",
      "  extra_warning_msg=_LOGISTIC_SOLVER_CONVERGENCE_MSG)\n"
     ]
    },
    {
     "data": {
      "text/plain": [
       "LogisticRegression(C=1.0, class_weight=None, dual=False, fit_intercept=True,\n",
       "                   intercept_scaling=1, l1_ratio=None, max_iter=100,\n",
       "                   multi_class='auto', n_jobs=None, penalty='l2',\n",
       "                   random_state=0, solver='lbfgs', tol=0.0001, verbose=0,\n",
       "                   warm_start=False)"
      ]
     },
     "execution_count": 89,
     "metadata": {
      "tags": []
     },
     "output_type": "execute_result"
    }
   ],
   "source": [
    "from sklearn.linear_model import LogisticRegression\n",
    "classifier_log = LogisticRegression(random_state = 0)\n",
    "classifier_log.fit(X_train, y_train)"
   ]
  },
  {
   "cell_type": "code",
   "execution_count": 0,
   "metadata": {
    "colab": {
     "base_uri": "https://localhost:8080/",
     "height": 139
    },
    "colab_type": "code",
    "executionInfo": {
     "elapsed": 10528,
     "status": "ok",
     "timestamp": 1591620532985,
     "user": {
      "displayName": "nikhil jaiswal",
      "photoUrl": "https://lh4.googleusercontent.com/-o-e6IKA0zOQ/AAAAAAAAAAI/AAAAAAAABhk/NX-uYSjsDqE/s64/photo.jpg",
      "userId": "00010766787081222440"
     },
     "user_tz": -330
    },
    "id": "NVgUFD4FWpK0",
    "outputId": "1d76db26-cd3a-4734-9d73-940b87ffea46"
   },
   "outputs": [
    {
     "name": "stdout",
     "output_type": "stream",
     "text": [
      "[[0 0]\n",
      " [1 1]\n",
      " [1 1]\n",
      " ...\n",
      " [0 0]\n",
      " [0 0]\n",
      " [1 0]]\n"
     ]
    }
   ],
   "source": [
    "y_pred_log = classifier_log.predict(X_test)\n",
    "print(np.concatenate((y_pred_log.reshape(len(y_pred_log),1), y_test.reshape(len(y_test),1)),1))"
   ]
  },
  {
   "cell_type": "code",
   "execution_count": 0,
   "metadata": {
    "colab": {
     "base_uri": "https://localhost:8080/",
     "height": 69
    },
    "colab_type": "code",
    "executionInfo": {
     "elapsed": 10367,
     "status": "ok",
     "timestamp": 1591620533690,
     "user": {
      "displayName": "nikhil jaiswal",
      "photoUrl": "https://lh4.googleusercontent.com/-o-e6IKA0zOQ/AAAAAAAAAAI/AAAAAAAABhk/NX-uYSjsDqE/s64/photo.jpg",
      "userId": "00010766787081222440"
     },
     "user_tz": -330
    },
    "id": "MLMviERQXTix",
    "outputId": "2c68f312-d221-4a79-a7d7-d6cd7a83f1da"
   },
   "outputs": [
    {
     "name": "stdout",
     "output_type": "stream",
     "text": [
      "[[577  64]\n",
      " [ 72 392]]\n"
     ]
    },
    {
     "data": {
      "text/plain": [
       "0.8769230769230769"
      ]
     },
     "execution_count": 91,
     "metadata": {
      "tags": []
     },
     "output_type": "execute_result"
    }
   ],
   "source": [
    "from sklearn.metrics import confusion_matrix, accuracy_score\n",
    "cm_log = confusion_matrix(y_test, y_pred_log)\n",
    "print(cm_log)\n",
    "accuracy_score(y_test, y_pred_log)"
   ]
  },
  {
   "cell_type": "markdown",
   "metadata": {
    "colab_type": "text",
    "id": "jbPwNVzk13Yc"
   },
   "source": [
    "# KNN CLassifier"
   ]
  },
  {
   "cell_type": "code",
   "execution_count": 0,
   "metadata": {
    "colab": {
     "base_uri": "https://localhost:8080/",
     "height": 69
    },
    "colab_type": "code",
    "executionInfo": {
     "elapsed": 1386,
     "status": "ok",
     "timestamp": 1591620565760,
     "user": {
      "displayName": "nikhil jaiswal",
      "photoUrl": "https://lh4.googleusercontent.com/-o-e6IKA0zOQ/AAAAAAAAAAI/AAAAAAAABhk/NX-uYSjsDqE/s64/photo.jpg",
      "userId": "00010766787081222440"
     },
     "user_tz": -330
    },
    "id": "J-KP48QCXv8A",
    "outputId": "2f345ecb-445c-431b-eab5-75bbb9223c2f"
   },
   "outputs": [
    {
     "data": {
      "text/plain": [
       "KNeighborsClassifier(algorithm='auto', leaf_size=30, metric='minkowski',\n",
       "                     metric_params=None, n_jobs=None, n_neighbors=5, p=2,\n",
       "                     weights='uniform')"
      ]
     },
     "execution_count": 92,
     "metadata": {
      "tags": []
     },
     "output_type": "execute_result"
    }
   ],
   "source": [
    "from sklearn.neighbors import KNeighborsClassifier\n",
    "classifier_knn = KNeighborsClassifier(n_neighbors = 5, metric = 'minkowski', p = 2)\n",
    "classifier_knn.fit(X_train, y_train)"
   ]
  },
  {
   "cell_type": "code",
   "execution_count": 0,
   "metadata": {
    "colab": {
     "base_uri": "https://localhost:8080/",
     "height": 139
    },
    "colab_type": "code",
    "executionInfo": {
     "elapsed": 996,
     "status": "ok",
     "timestamp": 1591620565761,
     "user": {
      "displayName": "nikhil jaiswal",
      "photoUrl": "https://lh4.googleusercontent.com/-o-e6IKA0zOQ/AAAAAAAAAAI/AAAAAAAABhk/NX-uYSjsDqE/s64/photo.jpg",
      "userId": "00010766787081222440"
     },
     "user_tz": -330
    },
    "id": "2L3W6IkDX6Vk",
    "outputId": "7ebe6c11-1e32-4a5f-c739-a717e748df4b"
   },
   "outputs": [
    {
     "name": "stdout",
     "output_type": "stream",
     "text": [
      "[[0 0]\n",
      " [1 1]\n",
      " [0 1]\n",
      " ...\n",
      " [0 0]\n",
      " [0 0]\n",
      " [1 0]]\n"
     ]
    }
   ],
   "source": [
    "y_pred_knn = classifier_knn.predict(X_test)\n",
    "print(np.concatenate((y_pred_knn.reshape(len(y_pred_knn),1), y_test.reshape(len(y_test),1)),1))"
   ]
  },
  {
   "cell_type": "code",
   "execution_count": 0,
   "metadata": {
    "colab": {
     "base_uri": "https://localhost:8080/",
     "height": 69
    },
    "colab_type": "code",
    "executionInfo": {
     "elapsed": 1151,
     "status": "ok",
     "timestamp": 1591620566350,
     "user": {
      "displayName": "nikhil jaiswal",
      "photoUrl": "https://lh4.googleusercontent.com/-o-e6IKA0zOQ/AAAAAAAAAAI/AAAAAAAABhk/NX-uYSjsDqE/s64/photo.jpg",
      "userId": "00010766787081222440"
     },
     "user_tz": -330
    },
    "id": "CXS24DOBYFtW",
    "outputId": "e0abe63b-688d-4400-c81a-25d4af2645ff"
   },
   "outputs": [
    {
     "name": "stdout",
     "output_type": "stream",
     "text": [
      "[[573  68]\n",
      " [127 337]]\n"
     ]
    },
    {
     "data": {
      "text/plain": [
       "0.8235294117647058"
      ]
     },
     "execution_count": 94,
     "metadata": {
      "tags": []
     },
     "output_type": "execute_result"
    }
   ],
   "source": [
    "cm_knn = confusion_matrix(y_test, y_pred_knn)\n",
    "print(cm_knn)\n",
    "accuracy_score(y_test, y_pred_knn)"
   ]
  },
  {
   "cell_type": "markdown",
   "metadata": {
    "colab_type": "text",
    "id": "IdutJ9ID18HT"
   },
   "source": [
    "# Support vector Classifier\n"
   ]
  },
  {
   "cell_type": "code",
   "execution_count": 0,
   "metadata": {
    "colab": {
     "base_uri": "https://localhost:8080/",
     "height": 87
    },
    "colab_type": "code",
    "executionInfo": {
     "elapsed": 16974,
     "status": "ok",
     "timestamp": 1591620584432,
     "user": {
      "displayName": "nikhil jaiswal",
      "photoUrl": "https://lh4.googleusercontent.com/-o-e6IKA0zOQ/AAAAAAAAAAI/AAAAAAAABhk/NX-uYSjsDqE/s64/photo.jpg",
      "userId": "00010766787081222440"
     },
     "user_tz": -330
    },
    "id": "mlaygrUiYkkv",
    "outputId": "8c9323a6-cfe9-49f6-87bc-c3ba2a9dd92e"
   },
   "outputs": [
    {
     "data": {
      "text/plain": [
       "SVC(C=1.0, break_ties=False, cache_size=200, class_weight=None, coef0=0.0,\n",
       "    decision_function_shape='ovr', degree=3, gamma='scale', kernel='linear',\n",
       "    max_iter=-1, probability=False, random_state=0, shrinking=True, tol=0.001,\n",
       "    verbose=False)"
      ]
     },
     "execution_count": 95,
     "metadata": {
      "tags": []
     },
     "output_type": "execute_result"
    }
   ],
   "source": [
    "from sklearn.svm import SVC\n",
    "classifier_svc = SVC(kernel = 'linear', random_state = 0)\n",
    "classifier_svc.fit(X_train, y_train)"
   ]
  },
  {
   "cell_type": "code",
   "execution_count": 0,
   "metadata": {
    "colab": {
     "base_uri": "https://localhost:8080/",
     "height": 139
    },
    "colab_type": "code",
    "executionInfo": {
     "elapsed": 16419,
     "status": "ok",
     "timestamp": 1591620584434,
     "user": {
      "displayName": "nikhil jaiswal",
      "photoUrl": "https://lh4.googleusercontent.com/-o-e6IKA0zOQ/AAAAAAAAAAI/AAAAAAAABhk/NX-uYSjsDqE/s64/photo.jpg",
      "userId": "00010766787081222440"
     },
     "user_tz": -330
    },
    "id": "8GTQBVfZYokH",
    "outputId": "f5508053-e3b3-49b3-b46e-8f9c955cbb79"
   },
   "outputs": [
    {
     "name": "stdout",
     "output_type": "stream",
     "text": [
      "[[0 0]\n",
      " [1 1]\n",
      " [1 1]\n",
      " ...\n",
      " [0 0]\n",
      " [0 0]\n",
      " [1 0]]\n"
     ]
    }
   ],
   "source": [
    "y_pred_svc = classifier_svc.predict(X_test)\n",
    "print(np.concatenate((y_pred_svc.reshape(len(y_pred_svc),1), y_test.reshape(len(y_test),1)),1))"
   ]
  },
  {
   "cell_type": "code",
   "execution_count": 0,
   "metadata": {
    "colab": {
     "base_uri": "https://localhost:8080/",
     "height": 69
    },
    "colab_type": "code",
    "executionInfo": {
     "elapsed": 10200,
     "status": "ok",
     "timestamp": 1591620584435,
     "user": {
      "displayName": "nikhil jaiswal",
      "photoUrl": "https://lh4.googleusercontent.com/-o-e6IKA0zOQ/AAAAAAAAAAI/AAAAAAAABhk/NX-uYSjsDqE/s64/photo.jpg",
      "userId": "00010766787081222440"
     },
     "user_tz": -330
    },
    "id": "3xUoSTn1ZJXl",
    "outputId": "607722aa-e041-4584-88d7-6d07c1c91cd1"
   },
   "outputs": [
    {
     "name": "stdout",
     "output_type": "stream",
     "text": [
      "[[557  84]\n",
      " [ 53 411]]\n"
     ]
    },
    {
     "data": {
      "text/plain": [
       "0.8760180995475113"
      ]
     },
     "execution_count": 97,
     "metadata": {
      "tags": []
     },
     "output_type": "execute_result"
    }
   ],
   "source": [
    "cm_svc = confusion_matrix(y_test, y_pred_svc)\n",
    "print(cm_svc)\n",
    "accuracy_score(y_test, y_pred_svc)"
   ]
  },
  {
   "cell_type": "markdown",
   "metadata": {
    "colab_type": "text",
    "id": "kPOdZ3Le2B63"
   },
   "source": [
    "# Support Vector 'rbf' Classifier"
   ]
  },
  {
   "cell_type": "code",
   "execution_count": 0,
   "metadata": {
    "colab": {
     "base_uri": "https://localhost:8080/",
     "height": 87
    },
    "colab_type": "code",
    "executionInfo": {
     "elapsed": 2226,
     "status": "ok",
     "timestamp": 1591620598408,
     "user": {
      "displayName": "nikhil jaiswal",
      "photoUrl": "https://lh4.googleusercontent.com/-o-e6IKA0zOQ/AAAAAAAAAAI/AAAAAAAABhk/NX-uYSjsDqE/s64/photo.jpg",
      "userId": "00010766787081222440"
     },
     "user_tz": -330
    },
    "id": "E-xE86MbgMi7",
    "outputId": "cd0d655e-eaf2-4056-cd61-db4b7713e309"
   },
   "outputs": [
    {
     "data": {
      "text/plain": [
       "SVC(C=1.0, break_ties=False, cache_size=200, class_weight=None, coef0=0.0,\n",
       "    decision_function_shape='ovr', degree=3, gamma='scale', kernel='rbf',\n",
       "    max_iter=-1, probability=False, random_state=1, shrinking=True, tol=0.001,\n",
       "    verbose=False)"
      ]
     },
     "execution_count": 98,
     "metadata": {
      "tags": []
     },
     "output_type": "execute_result"
    }
   ],
   "source": [
    "from sklearn.svm import SVC\n",
    "classifier_svcrbf = SVC(kernel = 'rbf', random_state = 1)\n",
    "classifier_svcrbf.fit(X_train, y_train)"
   ]
  },
  {
   "cell_type": "code",
   "execution_count": 0,
   "metadata": {
    "colab": {
     "base_uri": "https://localhost:8080/",
     "height": 139
    },
    "colab_type": "code",
    "executionInfo": {
     "elapsed": 1817,
     "status": "ok",
     "timestamp": 1591620598410,
     "user": {
      "displayName": "nikhil jaiswal",
      "photoUrl": "https://lh4.googleusercontent.com/-o-e6IKA0zOQ/AAAAAAAAAAI/AAAAAAAABhk/NX-uYSjsDqE/s64/photo.jpg",
      "userId": "00010766787081222440"
     },
     "user_tz": -330
    },
    "id": "6sVi5Q4ZglUz",
    "outputId": "12f59b4f-2a19-47c3-9805-0e444a350205"
   },
   "outputs": [
    {
     "name": "stdout",
     "output_type": "stream",
     "text": [
      "[[0 0]\n",
      " [1 1]\n",
      " [0 1]\n",
      " ...\n",
      " [0 0]\n",
      " [0 0]\n",
      " [1 0]]\n"
     ]
    }
   ],
   "source": [
    "y_pred_svcrbf = classifier_svcrbf.predict(X_test)\n",
    "print(np.concatenate((y_pred_svcrbf.reshape(len(y_pred_svcrbf),1), y_test.reshape(len(y_test),1)),1))"
   ]
  },
  {
   "cell_type": "code",
   "execution_count": 0,
   "metadata": {
    "colab": {
     "base_uri": "https://localhost:8080/",
     "height": 69
    },
    "colab_type": "code",
    "executionInfo": {
     "elapsed": 1476,
     "status": "ok",
     "timestamp": 1591620598411,
     "user": {
      "displayName": "nikhil jaiswal",
      "photoUrl": "https://lh4.googleusercontent.com/-o-e6IKA0zOQ/AAAAAAAAAAI/AAAAAAAABhk/NX-uYSjsDqE/s64/photo.jpg",
      "userId": "00010766787081222440"
     },
     "user_tz": -330
    },
    "id": "qA06gXCCg_DP",
    "outputId": "7c9cd9b4-c8ab-4161-f10d-62b8caafaf38"
   },
   "outputs": [
    {
     "name": "stdout",
     "output_type": "stream",
     "text": [
      "[[593  48]\n",
      " [209 255]]\n"
     ]
    },
    {
     "data": {
      "text/plain": [
       "0.7674208144796381"
      ]
     },
     "execution_count": 100,
     "metadata": {
      "tags": []
     },
     "output_type": "execute_result"
    }
   ],
   "source": [
    "cm_svcrbf = confusion_matrix(y_test, y_pred_svcrbf)\n",
    "print(cm_svcrbf)\n",
    "accuracy_score(y_test, y_pred_svcrbf)"
   ]
  },
  {
   "cell_type": "markdown",
   "metadata": {
    "colab_type": "text",
    "id": "v738eLAG2KDR"
   },
   "source": [
    "# Gaussian NB Classifier"
   ]
  },
  {
   "cell_type": "code",
   "execution_count": 0,
   "metadata": {
    "colab": {
     "base_uri": "https://localhost:8080/",
     "height": 35
    },
    "colab_type": "code",
    "executionInfo": {
     "elapsed": 1501,
     "status": "ok",
     "timestamp": 1591620601358,
     "user": {
      "displayName": "nikhil jaiswal",
      "photoUrl": "https://lh4.googleusercontent.com/-o-e6IKA0zOQ/AAAAAAAAAAI/AAAAAAAABhk/NX-uYSjsDqE/s64/photo.jpg",
      "userId": "00010766787081222440"
     },
     "user_tz": -330
    },
    "id": "mPG03whUh7oS",
    "outputId": "2c7b5f0c-658d-46fb-8fb4-0dcc036ea20c"
   },
   "outputs": [
    {
     "data": {
      "text/plain": [
       "GaussianNB(priors=None, var_smoothing=1e-09)"
      ]
     },
     "execution_count": 101,
     "metadata": {
      "tags": []
     },
     "output_type": "execute_result"
    }
   ],
   "source": [
    "from sklearn.naive_bayes import GaussianNB\n",
    "classifier_nb = GaussianNB()\n",
    "classifier_nb.fit(X_train, y_train)"
   ]
  },
  {
   "cell_type": "code",
   "execution_count": 0,
   "metadata": {
    "colab": {
     "base_uri": "https://localhost:8080/",
     "height": 139
    },
    "colab_type": "code",
    "executionInfo": {
     "elapsed": 1461,
     "status": "ok",
     "timestamp": 1591620602753,
     "user": {
      "displayName": "nikhil jaiswal",
      "photoUrl": "https://lh4.googleusercontent.com/-o-e6IKA0zOQ/AAAAAAAAAAI/AAAAAAAABhk/NX-uYSjsDqE/s64/photo.jpg",
      "userId": "00010766787081222440"
     },
     "user_tz": -330
    },
    "id": "4scjauRDsZYP",
    "outputId": "047c2b15-acc4-41a1-ab55-00ac9366001c"
   },
   "outputs": [
    {
     "name": "stdout",
     "output_type": "stream",
     "text": [
      "[[1 0]\n",
      " [1 1]\n",
      " [1 1]\n",
      " ...\n",
      " [1 0]\n",
      " [1 0]\n",
      " [1 0]]\n"
     ]
    }
   ],
   "source": [
    "y_pred_nb = classifier_nb.predict(X_test)\n",
    "print(np.concatenate((y_pred_nb.reshape(len(y_pred_nb),1), y_test.reshape(len(y_test),1)),1))"
   ]
  },
  {
   "cell_type": "code",
   "execution_count": 0,
   "metadata": {
    "colab": {
     "base_uri": "https://localhost:8080/",
     "height": 69
    },
    "colab_type": "code",
    "executionInfo": {
     "elapsed": 971,
     "status": "ok",
     "timestamp": 1591620602756,
     "user": {
      "displayName": "nikhil jaiswal",
      "photoUrl": "https://lh4.googleusercontent.com/-o-e6IKA0zOQ/AAAAAAAAAAI/AAAAAAAABhk/NX-uYSjsDqE/s64/photo.jpg",
      "userId": "00010766787081222440"
     },
     "user_tz": -330
    },
    "id": "xTljLy-HsMK_",
    "outputId": "24916111-0d49-4f29-8ae9-d57e640d26ef"
   },
   "outputs": [
    {
     "name": "stdout",
     "output_type": "stream",
     "text": [
      "[[ 29 612]\n",
      " [  9 455]]\n"
     ]
    },
    {
     "data": {
      "text/plain": [
       "0.43800904977375565"
      ]
     },
     "execution_count": 103,
     "metadata": {
      "tags": []
     },
     "output_type": "execute_result"
    }
   ],
   "source": [
    "cm_nb = confusion_matrix(y_test, y_pred_nb)\n",
    "print(cm_nb)\n",
    "accuracy_score(y_test, y_pred_nb)"
   ]
  },
  {
   "cell_type": "markdown",
   "metadata": {
    "colab_type": "text",
    "id": "ErkNRP2b2PgT"
   },
   "source": [
    "# Decision Tree"
   ]
  },
  {
   "cell_type": "code",
   "execution_count": 0,
   "metadata": {
    "colab": {
     "base_uri": "https://localhost:8080/",
     "height": 121
    },
    "colab_type": "code",
    "executionInfo": {
     "elapsed": 1064,
     "status": "ok",
     "timestamp": 1591620604680,
     "user": {
      "displayName": "nikhil jaiswal",
      "photoUrl": "https://lh4.googleusercontent.com/-o-e6IKA0zOQ/AAAAAAAAAAI/AAAAAAAABhk/NX-uYSjsDqE/s64/photo.jpg",
      "userId": "00010766787081222440"
     },
     "user_tz": -330
    },
    "id": "Rva3WH74su-l",
    "outputId": "d2c84be2-87cd-454a-cb35-ca92bb567d6e"
   },
   "outputs": [
    {
     "data": {
      "text/plain": [
       "DecisionTreeClassifier(ccp_alpha=0.0, class_weight=None, criterion='entropy',\n",
       "                       max_depth=None, max_features=None, max_leaf_nodes=None,\n",
       "                       min_impurity_decrease=0.0, min_impurity_split=None,\n",
       "                       min_samples_leaf=1, min_samples_split=2,\n",
       "                       min_weight_fraction_leaf=0.0, presort='deprecated',\n",
       "                       random_state=2, splitter='best')"
      ]
     },
     "execution_count": 104,
     "metadata": {
      "tags": []
     },
     "output_type": "execute_result"
    }
   ],
   "source": [
    "from sklearn.tree import DecisionTreeClassifier\n",
    "classifier_dt = DecisionTreeClassifier(criterion = 'entropy', random_state = 2)\n",
    "classifier_dt.fit(X_train, y_train)"
   ]
  },
  {
   "cell_type": "code",
   "execution_count": 0,
   "metadata": {
    "colab": {
     "base_uri": "https://localhost:8080/",
     "height": 139
    },
    "colab_type": "code",
    "executionInfo": {
     "elapsed": 1472,
     "status": "ok",
     "timestamp": 1591620605472,
     "user": {
      "displayName": "nikhil jaiswal",
      "photoUrl": "https://lh4.googleusercontent.com/-o-e6IKA0zOQ/AAAAAAAAAAI/AAAAAAAABhk/NX-uYSjsDqE/s64/photo.jpg",
      "userId": "00010766787081222440"
     },
     "user_tz": -330
    },
    "id": "GAmq7Yqis40j",
    "outputId": "416a0c07-2b3f-4a18-ce89-98dea84daab4"
   },
   "outputs": [
    {
     "name": "stdout",
     "output_type": "stream",
     "text": [
      "[[0 0]\n",
      " [1 1]\n",
      " [1 1]\n",
      " ...\n",
      " [0 0]\n",
      " [0 0]\n",
      " [1 0]]\n"
     ]
    }
   ],
   "source": [
    "y_pred_dt = classifier_dt.predict(X_test)\n",
    "print(np.concatenate((y_pred_dt.reshape(len(y_pred_dt),1), y_test.reshape(len(y_test),1)),1))"
   ]
  },
  {
   "cell_type": "code",
   "execution_count": 0,
   "metadata": {
    "colab": {
     "base_uri": "https://localhost:8080/",
     "height": 69
    },
    "colab_type": "code",
    "executionInfo": {
     "elapsed": 2166,
     "status": "ok",
     "timestamp": 1591620606579,
     "user": {
      "displayName": "nikhil jaiswal",
      "photoUrl": "https://lh4.googleusercontent.com/-o-e6IKA0zOQ/AAAAAAAAAAI/AAAAAAAABhk/NX-uYSjsDqE/s64/photo.jpg",
      "userId": "00010766787081222440"
     },
     "user_tz": -330
    },
    "id": "WRCT3uaSs44K",
    "outputId": "f206bc8a-c2bb-4de6-e0bf-24585009585e"
   },
   "outputs": [
    {
     "name": "stdout",
     "output_type": "stream",
     "text": [
      "[[581  60]\n",
      " [ 96 368]]\n"
     ]
    },
    {
     "data": {
      "text/plain": [
       "0.8588235294117647"
      ]
     },
     "execution_count": 106,
     "metadata": {
      "tags": []
     },
     "output_type": "execute_result"
    }
   ],
   "source": [
    "cm_dt = confusion_matrix(y_test, y_pred_dt)\n",
    "print(cm_dt)\n",
    "accuracy_score(y_test, y_pred_dt)"
   ]
  },
  {
   "cell_type": "markdown",
   "metadata": {
    "colab_type": "text",
    "id": "hVbNwszg2T_I"
   },
   "source": [
    "# Random Forest"
   ]
  },
  {
   "cell_type": "code",
   "execution_count": 0,
   "metadata": {
    "colab": {
     "base_uri": "https://localhost:8080/",
     "height": 156
    },
    "colab_type": "code",
    "executionInfo": {
     "elapsed": 1481,
     "status": "ok",
     "timestamp": 1591620609255,
     "user": {
      "displayName": "nikhil jaiswal",
      "photoUrl": "https://lh4.googleusercontent.com/-o-e6IKA0zOQ/AAAAAAAAAAI/AAAAAAAABhk/NX-uYSjsDqE/s64/photo.jpg",
      "userId": "00010766787081222440"
     },
     "user_tz": -330
    },
    "id": "5cOmlTlTuG47",
    "outputId": "c13d419a-9641-4ebf-dd90-456245fe43a0"
   },
   "outputs": [
    {
     "data": {
      "text/plain": [
       "RandomForestClassifier(bootstrap=True, ccp_alpha=0.0, class_weight=None,\n",
       "                       criterion='gini', max_depth=None, max_features='auto',\n",
       "                       max_leaf_nodes=None, max_samples=None,\n",
       "                       min_impurity_decrease=0.0, min_impurity_split=None,\n",
       "                       min_samples_leaf=1, min_samples_split=2,\n",
       "                       min_weight_fraction_leaf=0.0, n_estimators=100,\n",
       "                       n_jobs=None, oob_score=False, random_state=10, verbose=0,\n",
       "                       warm_start=False)"
      ]
     },
     "execution_count": 107,
     "metadata": {
      "tags": []
     },
     "output_type": "execute_result"
    }
   ],
   "source": [
    "from sklearn.ensemble import RandomForestClassifier\n",
    "classifier_rf = RandomForestClassifier(n_estimators = 100, criterion ='gini',random_state=10)\n",
    "classifier_rf.fit(X_train, y_train)"
   ]
  },
  {
   "cell_type": "code",
   "execution_count": 0,
   "metadata": {
    "colab": {
     "base_uri": "https://localhost:8080/",
     "height": 139
    },
    "colab_type": "code",
    "executionInfo": {
     "elapsed": 1701,
     "status": "ok",
     "timestamp": 1591620609837,
     "user": {
      "displayName": "nikhil jaiswal",
      "photoUrl": "https://lh4.googleusercontent.com/-o-e6IKA0zOQ/AAAAAAAAAAI/AAAAAAAABhk/NX-uYSjsDqE/s64/photo.jpg",
      "userId": "00010766787081222440"
     },
     "user_tz": -330
    },
    "id": "iUvt7bpVugD5",
    "outputId": "53a260e4-1a2a-4d41-e991-1904f1f9a543"
   },
   "outputs": [
    {
     "name": "stdout",
     "output_type": "stream",
     "text": [
      "[[0 0]\n",
      " [1 1]\n",
      " [1 1]\n",
      " ...\n",
      " [0 0]\n",
      " [0 0]\n",
      " [1 0]]\n"
     ]
    }
   ],
   "source": [
    "y_pred_rf = classifier_rf.predict(X_test)\n",
    "print(np.concatenate((y_pred_rf.reshape(len(y_pred_rf),1), y_test.reshape(len(y_test),1)),1))"
   ]
  },
  {
   "cell_type": "code",
   "execution_count": 0,
   "metadata": {
    "colab": {
     "base_uri": "https://localhost:8080/",
     "height": 69
    },
    "colab_type": "code",
    "executionInfo": {
     "elapsed": 1140,
     "status": "ok",
     "timestamp": 1591620610334,
     "user": {
      "displayName": "nikhil jaiswal",
      "photoUrl": "https://lh4.googleusercontent.com/-o-e6IKA0zOQ/AAAAAAAAAAI/AAAAAAAABhk/NX-uYSjsDqE/s64/photo.jpg",
      "userId": "00010766787081222440"
     },
     "user_tz": -330
    },
    "id": "yK7nDOVZua8q",
    "outputId": "dcb887bb-b241-4039-da30-eddbd640844c"
   },
   "outputs": [
    {
     "name": "stdout",
     "output_type": "stream",
     "text": [
      "[[588  53]\n",
      " [ 82 382]]\n"
     ]
    },
    {
     "data": {
      "text/plain": [
       "0.8778280542986425"
      ]
     },
     "execution_count": 109,
     "metadata": {
      "tags": []
     },
     "output_type": "execute_result"
    }
   ],
   "source": [
    "cm_rf = confusion_matrix(y_test, y_pred_rf)\n",
    "print(cm_rf)\n",
    "accuracy_score(y_test, y_pred_rf)"
   ]
  },
  {
   "cell_type": "markdown",
   "metadata": {
    "colab_type": "text",
    "id": "dus2wfW42ZO2"
   },
   "source": [
    "# Nearest Centroid Classifier"
   ]
  },
  {
   "cell_type": "code",
   "execution_count": 0,
   "metadata": {
    "colab": {
     "base_uri": "https://localhost:8080/",
     "height": 35
    },
    "colab_type": "code",
    "executionInfo": {
     "elapsed": 1035,
     "status": "ok",
     "timestamp": 1591620612528,
     "user": {
      "displayName": "nikhil jaiswal",
      "photoUrl": "https://lh4.googleusercontent.com/-o-e6IKA0zOQ/AAAAAAAAAAI/AAAAAAAABhk/NX-uYSjsDqE/s64/photo.jpg",
      "userId": "00010766787081222440"
     },
     "user_tz": -330
    },
    "id": "0kstPZWm-Srt",
    "outputId": "3acd144b-4a4e-4950-f81d-70e7d99dc42e"
   },
   "outputs": [
    {
     "data": {
      "text/plain": [
       "NearestCentroid(metric='euclidean', shrink_threshold=None)"
      ]
     },
     "execution_count": 110,
     "metadata": {
      "tags": []
     },
     "output_type": "execute_result"
    }
   ],
   "source": [
    "\n",
    "from sklearn.neighbors import NearestCentroid\n",
    "classifier_nc = NearestCentroid()\n",
    "classifier_nc.fit(X_train,y_train)"
   ]
  },
  {
   "cell_type": "code",
   "execution_count": 0,
   "metadata": {
    "colab": {
     "base_uri": "https://localhost:8080/",
     "height": 139
    },
    "colab_type": "code",
    "executionInfo": {
     "elapsed": 1120,
     "status": "ok",
     "timestamp": 1591620612986,
     "user": {
      "displayName": "nikhil jaiswal",
      "photoUrl": "https://lh4.googleusercontent.com/-o-e6IKA0zOQ/AAAAAAAAAAI/AAAAAAAABhk/NX-uYSjsDqE/s64/photo.jpg",
      "userId": "00010766787081222440"
     },
     "user_tz": -330
    },
    "id": "hbrzn_Vo-4Q-",
    "outputId": "511a9c00-e1cf-425d-87cc-26db0b4fda18"
   },
   "outputs": [
    {
     "name": "stdout",
     "output_type": "stream",
     "text": [
      "[[0 0]\n",
      " [1 1]\n",
      " [1 1]\n",
      " ...\n",
      " [0 0]\n",
      " [0 0]\n",
      " [0 0]]\n"
     ]
    }
   ],
   "source": [
    "y_pred_nc = classifier_nc.predict(X_test)\n",
    "print(np.concatenate((y_pred_nc.reshape(len(y_pred_nc),1), y_test.reshape(len(y_test),1)),1))"
   ]
  },
  {
   "cell_type": "code",
   "execution_count": 0,
   "metadata": {
    "colab": {
     "base_uri": "https://localhost:8080/",
     "height": 69
    },
    "colab_type": "code",
    "executionInfo": {
     "elapsed": 811,
     "status": "ok",
     "timestamp": 1591620612988,
     "user": {
      "displayName": "nikhil jaiswal",
      "photoUrl": "https://lh4.googleusercontent.com/-o-e6IKA0zOQ/AAAAAAAAAAI/AAAAAAAABhk/NX-uYSjsDqE/s64/photo.jpg",
      "userId": "00010766787081222440"
     },
     "user_tz": -330
    },
    "id": "kROYnPyp_WEy",
    "outputId": "cd5dceb7-eb3b-4226-9b68-184f57b1559b"
   },
   "outputs": [
    {
     "name": "stdout",
     "output_type": "stream",
     "text": [
      "[[371 270]\n",
      " [191 273]]\n"
     ]
    },
    {
     "data": {
      "text/plain": [
       "0.5828054298642534"
      ]
     },
     "execution_count": 112,
     "metadata": {
      "tags": []
     },
     "output_type": "execute_result"
    }
   ],
   "source": [
    "cm_nc = confusion_matrix(y_test, y_pred_nc)\n",
    "print(cm_nc)\n",
    "accuracy_score(y_test, y_pred_nc)"
   ]
  },
  {
   "cell_type": "code",
   "execution_count": 0,
   "metadata": {
    "colab": {},
    "colab_type": "code",
    "id": "jGMCsbbMo6l3"
   },
   "outputs": [],
   "source": []
  }
 ],
 "metadata": {
  "colab": {
   "collapsed_sections": [],
   "name": "Project_classification(Admitted/Discharge).ipynb",
   "provenance": [
    {
     "file_id": "1CqNh2enhwgcOjKtKB7O7bBiruQ7c4dIe",
     "timestamp": 1591605070493
    },
    {
     "file_id": "1qclVDJBuVkjLdHrn9i9VaYFLQJ_yc_Hb",
     "timestamp": 1590390527160
    },
    {
     "file_id": "1t7D8skIV2T55w4US5QuCFDVBTPzvYcHp",
     "timestamp": 1590343122674
    },
    {
     "file_id": "13R8KuLIpORpuPOqwr2jNn9fUDWl2vTqF",
     "timestamp": 1590201968997
    },
    {
     "file_id": "111AO-raw2Q0m_26EplL3Pt5b7WJArLEE",
     "timestamp": 1590197777897
    }
   ],
   "toc_visible": true
  },
  "kernelspec": {
   "display_name": "Python 3",
   "language": "python",
   "name": "python3"
  },
  "language_info": {
   "codemirror_mode": {
    "name": "ipython",
    "version": 3
   },
   "file_extension": ".py",
   "mimetype": "text/x-python",
   "name": "python",
   "nbconvert_exporter": "python",
   "pygments_lexer": "ipython3",
   "version": "3.7.7"
  }
 },
 "nbformat": 4,
 "nbformat_minor": 1
}
