{
 "cells": [
  {
   "cell_type": "markdown",
   "metadata": {
    "colab_type": "text",
    "id": "PNv93_A5jqw1"
   },
   "source": [
    "# Mounting Drive"
   ]
  },
  {
   "cell_type": "code",
   "execution_count": 1,
   "metadata": {
    "colab": {
     "base_uri": "https://localhost:8080/",
     "height": 124
    },
    "colab_type": "code",
    "executionInfo": {
     "elapsed": 74229,
     "status": "ok",
     "timestamp": 1591620239343,
     "user": {
      "displayName": "nikhil jaiswal",
      "photoUrl": "https://lh4.googleusercontent.com/-o-e6IKA0zOQ/AAAAAAAAAAI/AAAAAAAABhk/NX-uYSjsDqE/s64/photo.jpg",
      "userId": "00010766787081222440"
     },
     "user_tz": -330
    },
    "id": "g-ZGB7c8OBV3",
    "outputId": "9461a798-fc77-440a-f374-14292837c063"
   },
   "outputs": [
    {
     "name": "stdout",
     "output_type": "stream",
     "text": [
      "Go to this URL in a browser: https://accounts.google.com/o/oauth2/auth?client_id=947318989803-6bn6qk8qdgf4n4g3pfee6491hc0brc4i.apps.googleusercontent.com&redirect_uri=urn%3aietf%3awg%3aoauth%3a2.0%3aoob&response_type=code&scope=email%20https%3a%2f%2fwww.googleapis.com%2fauth%2fdocs.test%20https%3a%2f%2fwww.googleapis.com%2fauth%2fdrive%20https%3a%2f%2fwww.googleapis.com%2fauth%2fdrive.photos.readonly%20https%3a%2f%2fwww.googleapis.com%2fauth%2fpeopleapi.readonly\n",
      "\n",
      "Enter your authorization code:\n",
      "··········\n",
      "Mounted at /content/drive\n"
     ]
    }
   ],
   "source": [
    "from google.colab import drive\n",
    "drive.mount('/content/drive')"
   ]
  },
  {
   "cell_type": "code",
   "execution_count": 0,
   "metadata": {
    "colab": {},
    "colab_type": "code",
    "id": "qNW_ZZke-wed"
   },
   "outputs": [],
   "source": [
    "import pandas as pd\n",
    "import numpy as np\n",
    "import matplotlib.pyplot as plt"
   ]
  },
  {
   "cell_type": "code",
   "execution_count": 0,
   "metadata": {
    "colab": {},
    "colab_type": "code",
    "id": "yoJNVY8K_GTS"
   },
   "outputs": [],
   "source": [
    "df = pd.read_excel('/content/drive/My Drive/Sabnis sir project/Covid_classification_project_dataset.xlsx')"
   ]
  },
  {
   "cell_type": "code",
   "execution_count": 6,
   "metadata": {
    "colab": {
     "base_uri": "https://localhost:8080/",
     "height": 659
    },
    "colab_type": "code",
    "executionInfo": {
     "elapsed": 2847,
     "status": "ok",
     "timestamp": 1591620411314,
     "user": {
      "displayName": "nikhil jaiswal",
      "photoUrl": "https://lh4.googleusercontent.com/-o-e6IKA0zOQ/AAAAAAAAAAI/AAAAAAAABhk/NX-uYSjsDqE/s64/photo.jpg",
      "userId": "00010766787081222440"
     },
     "user_tz": -330
    },
    "id": "8NkjLUx-AC7H",
    "outputId": "6ee19fab-8b8c-4027-9d82-4d1a13e5d106"
   },
   "outputs": [
    {
     "name": "stdout",
     "output_type": "stream",
     "text": [
      "<class 'pandas.core.frame.DataFrame'>\n",
      "RangeIndex: 4626 entries, 0 to 4625\n",
      "Data columns (total 30 columns):\n",
      " #   Column                                           Non-Null Count  Dtype         \n",
      "---  ------                                           --------------  -----         \n",
      " 0   Sr No                                            4626 non-null   int64         \n",
      " 1   Hospital Code                                    4626 non-null   object        \n",
      " 2   Case No.                                         4625 non-null   object        \n",
      " 3   Age                                              4600 non-null   float64       \n",
      " 4   Gender                                           4624 non-null   object        \n",
      " 5   Ward                                             4623 non-null   object        \n",
      " 6   Occupation                                       348 non-null    object        \n",
      " 7   District                                         4626 non-null   object        \n",
      " 8   State                                            4626 non-null   object        \n",
      " 9   Date of arrival in India                         13 non-null     datetime64[ns]\n",
      " 10  Travel to COVID afftected country (Yes/No)       134 non-null    object        \n",
      " 11  Flight No                                        133 non-null    object        \n",
      " 12  Seat No                                          6 non-null      object        \n",
      " 13  Contact with COVID19 case (Yes/No)               690 non-null    object        \n",
      " 14  Date of onset of symptoms                        3139 non-null   datetime64[ns]\n",
      " 15  Symptoms at admission                            3720 non-null   object        \n",
      " 16  Date of Isolation                                4625 non-null   datetime64[ns]\n",
      " 17  Sample collected (Yes/No)                        4206 non-null   object        \n",
      " 18  Date of sample collection                        4392 non-null   datetime64[ns]\n",
      " 19  Sample collection centre                         4516 non-null   object        \n",
      " 20  Sample tested at                                 4530 non-null   object        \n",
      " 21  Lab that confirmed the result                    4510 non-null   object        \n",
      " 22  Underlying medical condition                     327 non-null    object        \n",
      " 23  Current Clinical Status                          4461 non-null   object        \n",
      " 24  Outcome (Discharged/Death/Admitted)              4623 non-null   object        \n",
      " 25  Date of outcome                                  2770 non-null   object        \n",
      " 26  Is patient member of cluster of COVID19(Yes/No)  722 non-null    object        \n",
      " 27  Total Contacts                                   3113 non-null   float64       \n",
      " 28  Remarks                                          92 non-null     object        \n",
      " 29  Date of Reporting                                1627 non-null   datetime64[ns]\n",
      "dtypes: datetime64[ns](5), float64(2), int64(1), object(22)\n",
      "memory usage: 1.1+ MB\n"
     ]
    }
   ],
   "source": [
    "df.info()"
   ]
  },
  {
   "cell_type": "markdown",
   "metadata": {
    "colab_type": "text",
    "id": "fQqxMOV4zc5q"
   },
   "source": [
    "## Dropping irrelevant columns"
   ]
  },
  {
   "cell_type": "code",
   "execution_count": 0,
   "metadata": {
    "colab": {},
    "colab_type": "code",
    "id": "IyyTwrxHOhGV"
   },
   "outputs": [],
   "source": [
    "df=df.drop(['Sr No', 'Hospital Code','Case No.','Occupation','District', 'State','Ward',\n",
    "            'Sample collected (Yes/No)','Date of arrival in India','Flight No','Seat No',\n",
    "            'Date of onset of symptoms','Date of sample collection','Remarks','Sample collection centre',\n",
    "            'Sample tested at','Lab that confirmed the result',\n",
    "            'Date of Reporting','Date of Isolation','Date of outcome'],axis=1)  "
   ]
  },
  {
   "cell_type": "code",
   "execution_count": 8,
   "metadata": {
    "colab": {
     "base_uri": "https://localhost:8080/",
     "height": 312
    },
    "colab_type": "code",
    "executionInfo": {
     "elapsed": 2822,
     "status": "ok",
     "timestamp": 1591620411317,
     "user": {
      "displayName": "nikhil jaiswal",
      "photoUrl": "https://lh4.googleusercontent.com/-o-e6IKA0zOQ/AAAAAAAAAAI/AAAAAAAABhk/NX-uYSjsDqE/s64/photo.jpg",
      "userId": "00010766787081222440"
     },
     "user_tz": -330
    },
    "id": "qak-IMoVQL5y",
    "outputId": "f747bdb6-f1a4-4857-90eb-ca5f0fb76084"
   },
   "outputs": [
    {
     "name": "stdout",
     "output_type": "stream",
     "text": [
      "<class 'pandas.core.frame.DataFrame'>\n",
      "RangeIndex: 4626 entries, 0 to 4625\n",
      "Data columns (total 10 columns):\n",
      " #   Column                                           Non-Null Count  Dtype  \n",
      "---  ------                                           --------------  -----  \n",
      " 0   Age                                              4600 non-null   float64\n",
      " 1   Gender                                           4624 non-null   object \n",
      " 2   Travel to COVID afftected country (Yes/No)       134 non-null    object \n",
      " 3   Contact with COVID19 case (Yes/No)               690 non-null    object \n",
      " 4   Symptoms at admission                            3720 non-null   object \n",
      " 5   Underlying medical condition                     327 non-null    object \n",
      " 6   Current Clinical Status                          4461 non-null   object \n",
      " 7   Outcome (Discharged/Death/Admitted)              4623 non-null   object \n",
      " 8   Is patient member of cluster of COVID19(Yes/No)  722 non-null    object \n",
      " 9   Total Contacts                                   3113 non-null   float64\n",
      "dtypes: float64(2), object(8)\n",
      "memory usage: 361.5+ KB\n"
     ]
    }
   ],
   "source": [
    "df.info()"
   ]
  },
  {
   "cell_type": "markdown",
   "metadata": {
    "colab_type": "text",
    "id": "l6Dv0a9MzhEj"
   },
   "source": [
    "## Filling Missing Age Values"
   ]
  },
  {
   "cell_type": "code",
   "execution_count": 9,
   "metadata": {
    "colab": {
     "base_uri": "https://localhost:8080/",
     "height": 35
    },
    "colab_type": "code",
    "executionInfo": {
     "elapsed": 3222,
     "status": "ok",
     "timestamp": 1591620419178,
     "user": {
      "displayName": "nikhil jaiswal",
      "photoUrl": "https://lh4.googleusercontent.com/-o-e6IKA0zOQ/AAAAAAAAAAI/AAAAAAAABhk/NX-uYSjsDqE/s64/photo.jpg",
      "userId": "00010766787081222440"
     },
     "user_tz": -330
    },
    "id": "VdLB2IsJQd-T",
    "outputId": "7836b66a-709c-4e0e-f529-8e11787375bc"
   },
   "outputs": [
    {
     "data": {
      "text/plain": [
       "37.79836956521739"
      ]
     },
     "execution_count": 9,
     "metadata": {
      "tags": []
     },
     "output_type": "execute_result"
    }
   ],
   "source": [
    "df['Age'].mean()"
   ]
  },
  {
   "cell_type": "code",
   "execution_count": 0,
   "metadata": {
    "colab": {},
    "colab_type": "code",
    "id": "yc9z6u7wkf0J"
   },
   "outputs": [],
   "source": [
    "df['Age'].fillna(38,inplace=True)"
   ]
  },
  {
   "cell_type": "markdown",
   "metadata": {
    "colab_type": "text",
    "id": "liiaBXqGvXUd"
   },
   "source": [
    "## Cleaning 'Underlying medical condition'"
   ]
  },
  {
   "cell_type": "code",
   "execution_count": 11,
   "metadata": {
    "colab": {
     "base_uri": "https://localhost:8080/",
     "height": 884
    },
    "colab_type": "code",
    "executionInfo": {
     "elapsed": 1798,
     "status": "ok",
     "timestamp": 1591620424013,
     "user": {
      "displayName": "nikhil jaiswal",
      "photoUrl": "https://lh4.googleusercontent.com/-o-e6IKA0zOQ/AAAAAAAAAAI/AAAAAAAABhk/NX-uYSjsDqE/s64/photo.jpg",
      "userId": "00010766787081222440"
     },
     "user_tz": -330
    },
    "id": "Yay1Tw6cjSbK",
    "outputId": "22c6ff8d-9bd8-4e47-eb9c-fd5e746c7fba"
   },
   "outputs": [
    {
     "data": {
      "text/plain": [
       "NaN                                       4299\n",
       "No                                          74\n",
       "DM,Hypertension                             50\n",
       "Hypertension                                40\n",
       "None                                        35\n",
       "NO                                          28\n",
       "DM                                          19\n",
       "Yes                                          9\n",
       "ANC                                          7\n",
       "Stable                                       5\n",
       "IHD                                          5\n",
       "COPD                                         4\n",
       "Asthma                                       4\n",
       "Hypertension,IHD                             4\n",
       "Hypertension,Hypothyroidism                  2\n",
       "DM,Hypertension,IHD                          2\n",
       "Alcoholic_liver_disease                      2\n",
       "Hypothyroidism                               2\n",
       "DM,Asthma                                    2\n",
       "Hypertension,Chronic_renal_disease           2\n",
       "DM,CKD                                       2\n",
       "Obesity                                      2\n",
       "Hypothyroidism,Obesity                       1\n",
       "Hypertension,Obesity,                        1\n",
       "IHD,DM,Obesity                               1\n",
       "DM,Alcoholic_liver_disease                   1\n",
       "Breathlessness                               1\n",
       "CKD,DM                                       1\n",
       "Hypertension,Tobaco_chewer                   1\n",
       "Hypertension,Thyroid_disorder                1\n",
       "Hypertension,CKD                             1\n",
       "DM,Hypertension,IHD,Obesity                  1\n",
       "DM,Obesity                                   1\n",
       "no                                           1\n",
       "DM,Hypertension,CKD                          1\n",
       "Hypertension,Hypothyrioidism                 1\n",
       "DM,Hypertension,Hypothyroidism               1\n",
       "CKD                                          1\n",
       "Bronchitis,Asthma,Hypertension               1\n",
       "Chronic_renal_disease                        1\n",
       "DM,Hypertension,Chronic_kidney_disease       1\n",
       "HIV                                          1\n",
       "Alcoholic,Tobacco_chewer                     1\n",
       "HepatitisB                                   1\n",
       "DM,IHD,Hypertension                          1\n",
       "Hypertension,Asthma,HIV                      1\n",
       "DM,Hypertension,Asthma                       1\n",
       "Hypertension,Renal_stone                     1\n",
       "Hypertension,Hemiparesis                     1\n",
       "Name: Underlying medical condition, dtype: int64"
      ]
     },
     "execution_count": 11,
     "metadata": {
      "tags": []
     },
     "output_type": "execute_result"
    }
   ],
   "source": [
    "df['Underlying medical condition'].value_counts(dropna=False)"
   ]
  },
  {
   "cell_type": "code",
   "execution_count": 0,
   "metadata": {
    "colab": {},
    "colab_type": "code",
    "id": "tB07JxrnjSYI"
   },
   "outputs": [],
   "source": [
    "df = df.fillna({'Underlying medical condition':'No'})\n",
    "df = df.replace({'Underlying medical condition':['None','NO','no','Stable']},'No')\n",
    "df = df.replace({'Underlying medical condition':['None','NO']},'No')"
   ]
  },
  {
   "cell_type": "code",
   "execution_count": 0,
   "metadata": {
    "colab": {},
    "colab_type": "code",
    "id": "JijwA5_N9cI7"
   },
   "outputs": [],
   "source": [
    "# Making different columns for each condition\n",
    "col=df['Underlying medical condition']\n",
    "\n",
    "for i in col:\n",
    "    x=[]\n",
    "    k=i.split(',')\n",
    "    for j in k:\n",
    "        x.append(j.strip())\n",
    "    \n",
    "    conditions=['No','DM','Hypertension','Yes','ANC','IHD','COPD','Asthama','Hypothyroidism',\n",
    "               'Chronic_renal_disease','Obesity','CKD','Alcoholic_liver_disease','Tobaco_chewer',\n",
    "               'Thyroid_disorder','HepatitisB','HIV','Hemiparesis','Bronchitis','Chronic_kidney_disease',\n",
    "               'Alcoholic','Renal_stone','Breathlessness']\n",
    "    \n",
    "    for ele in conditions:\n",
    "  \n",
    "        if ele in x:\n",
    "\n",
    "      \n",
    "            df[ele]=1\n",
    "        \n",
    "        else:\n",
    "            df[ele]=0"
   ]
  },
  {
   "cell_type": "code",
   "execution_count": 14,
   "metadata": {
    "colab": {
     "base_uri": "https://localhost:8080/",
     "height": 176
    },
    "colab_type": "code",
    "executionInfo": {
     "elapsed": 21418,
     "status": "ok",
     "timestamp": 1591620444941,
     "user": {
      "displayName": "nikhil jaiswal",
      "photoUrl": "https://lh4.googleusercontent.com/-o-e6IKA0zOQ/AAAAAAAAAAI/AAAAAAAABhk/NX-uYSjsDqE/s64/photo.jpg",
      "userId": "00010766787081222440"
     },
     "user_tz": -330
    },
    "id": "V6GPuc799b_L",
    "outputId": "625d89dc-b6b3-4573-c8ef-ab611b6286e3"
   },
   "outputs": [
    {
     "name": "stderr",
     "output_type": "stream",
     "text": [
      "/usr/local/lib/python3.6/dist-packages/ipykernel_launcher.py:18: SettingWithCopyWarning: \n",
      "A value is trying to be set on a copy of a slice from a DataFrame\n",
      "\n",
      "See the caveats in the documentation: https://pandas.pydata.org/pandas-docs/stable/user_guide/indexing.html#returning-a-view-versus-a-copy\n",
      "/usr/local/lib/python3.6/dist-packages/ipykernel_launcher.py:21: SettingWithCopyWarning: \n",
      "A value is trying to be set on a copy of a slice from a DataFrame\n",
      "\n",
      "See the caveats in the documentation: https://pandas.pydata.org/pandas-docs/stable/user_guide/indexing.html#returning-a-view-versus-a-copy\n"
     ]
    }
   ],
   "source": [
    "col=df['Underlying medical condition']\n",
    "t=0\n",
    "for i in col:\n",
    "    x=[]\n",
    "    k=i.split(',')\n",
    "    for j in k:\n",
    "        x.append(j.strip())\n",
    "    \n",
    "    conditions=['No','DM','Hypertension','Yes','ANC','IHD','COPD','Asthama','Hypothyroidism',\n",
    "               'Chronic_renal_disease','Obesity','CKD','Alcoholic_liver_disease','Tobaco_chewer',\n",
    "               'Thyroid_disorder','HepatitisB','HIV','Hemiparesis','Bronchitis','Chronic_kidney_disease',\n",
    "               'Alcoholic','Renal_stone','Breathlessness']\n",
    "    for ele in conditions:\n",
    "  \n",
    "        if ele in x:\n",
    "\n",
    "      \n",
    "            df[ele][t]=1\n",
    "        \n",
    "        else:\n",
    "            df[ele][t]=0\n",
    "    t=t+1\n",
    "    "
   ]
  },
  {
   "cell_type": "code",
   "execution_count": 0,
   "metadata": {
    "colab": {},
    "colab_type": "code",
    "id": "BPK5LWH-9b8V"
   },
   "outputs": [],
   "source": [
    "df = df.drop(['Underlying medical condition'],axis=1)"
   ]
  },
  {
   "cell_type": "code",
   "execution_count": 16,
   "metadata": {
    "colab": {
     "base_uri": "https://localhost:8080/",
     "height": 693
    },
    "colab_type": "code",
    "executionInfo": {
     "elapsed": 20554,
     "status": "ok",
     "timestamp": 1591620444944,
     "user": {
      "displayName": "nikhil jaiswal",
      "photoUrl": "https://lh4.googleusercontent.com/-o-e6IKA0zOQ/AAAAAAAAAAI/AAAAAAAABhk/NX-uYSjsDqE/s64/photo.jpg",
      "userId": "00010766787081222440"
     },
     "user_tz": -330
    },
    "id": "ALcicQo89b3T",
    "outputId": "2362033c-5572-4351-c358-782117fdef74"
   },
   "outputs": [
    {
     "name": "stdout",
     "output_type": "stream",
     "text": [
      "<class 'pandas.core.frame.DataFrame'>\n",
      "RangeIndex: 4626 entries, 0 to 4625\n",
      "Data columns (total 32 columns):\n",
      " #   Column                                           Non-Null Count  Dtype  \n",
      "---  ------                                           --------------  -----  \n",
      " 0   Age                                              4626 non-null   float64\n",
      " 1   Gender                                           4624 non-null   object \n",
      " 2   Travel to COVID afftected country (Yes/No)       134 non-null    object \n",
      " 3   Contact with COVID19 case (Yes/No)               690 non-null    object \n",
      " 4   Symptoms at admission                            3720 non-null   object \n",
      " 5   Current Clinical Status                          4461 non-null   object \n",
      " 6   Outcome (Discharged/Death/Admitted)              4623 non-null   object \n",
      " 7   Is patient member of cluster of COVID19(Yes/No)  722 non-null    object \n",
      " 8   Total Contacts                                   3113 non-null   float64\n",
      " 9   No                                               4626 non-null   int64  \n",
      " 10  DM                                               4626 non-null   int64  \n",
      " 11  Hypertension                                     4626 non-null   int64  \n",
      " 12  Yes                                              4626 non-null   int64  \n",
      " 13  ANC                                              4626 non-null   int64  \n",
      " 14  IHD                                              4626 non-null   int64  \n",
      " 15  COPD                                             4626 non-null   int64  \n",
      " 16  Asthama                                          4626 non-null   int64  \n",
      " 17  Hypothyroidism                                   4626 non-null   int64  \n",
      " 18  Chronic_renal_disease                            4626 non-null   int64  \n",
      " 19  Obesity                                          4626 non-null   int64  \n",
      " 20  CKD                                              4626 non-null   int64  \n",
      " 21  Alcoholic_liver_disease                          4626 non-null   int64  \n",
      " 22  Tobaco_chewer                                    4626 non-null   int64  \n",
      " 23  Thyroid_disorder                                 4626 non-null   int64  \n",
      " 24  HepatitisB                                       4626 non-null   int64  \n",
      " 25  HIV                                              4626 non-null   int64  \n",
      " 26  Hemiparesis                                      4626 non-null   int64  \n",
      " 27  Bronchitis                                       4626 non-null   int64  \n",
      " 28  Chronic_kidney_disease                           4626 non-null   int64  \n",
      " 29  Alcoholic                                        4626 non-null   int64  \n",
      " 30  Renal_stone                                      4626 non-null   int64  \n",
      " 31  Breathlessness                                   4626 non-null   int64  \n",
      "dtypes: float64(2), int64(23), object(7)\n",
      "memory usage: 1.1+ MB\n"
     ]
    }
   ],
   "source": [
    "df.info()"
   ]
  },
  {
   "cell_type": "markdown",
   "metadata": {
    "colab_type": "text",
    "id": "qQZvYJ3dzvAi"
   },
   "source": [
    "## Cleaning 'Current Clinical Status' Column"
   ]
  },
  {
   "cell_type": "code",
   "execution_count": 17,
   "metadata": {
    "colab": {
     "base_uri": "https://localhost:8080/",
     "height": 433
    },
    "colab_type": "code",
    "executionInfo": {
     "elapsed": 19689,
     "status": "ok",
     "timestamp": 1591620444945,
     "user": {
      "displayName": "nikhil jaiswal",
      "photoUrl": "https://lh4.googleusercontent.com/-o-e6IKA0zOQ/AAAAAAAAAAI/AAAAAAAABhk/NX-uYSjsDqE/s64/photo.jpg",
      "userId": "00010766787081222440"
     },
     "user_tz": -330
    },
    "id": "BWYnONDCB1tW",
    "outputId": "437b2d6b-6cd6-4ba1-bc8c-a6a2ae89b5be"
   },
   "outputs": [
    {
     "data": {
      "text/plain": [
       "Stable                            3948\n",
       "Admitted                           392\n",
       "NaN                                165\n",
       "Death                               54\n",
       "Asymptomatic                        28\n",
       "DEATH                                9\n",
       "death                                6\n",
       "Critical                             3\n",
       "on oxygen                            3\n",
       "UnStable                             3\n",
       "PATIENT ON BIPAP                     2\n",
       "criticl on ventilater                2\n",
       "Roudy                                1\n",
       "CRITICAL                             1\n",
       "In ICU                               1\n",
       "EXPIRED ON03/05/2020.(2.00 AM)       1\n",
       "NIV                                  1\n",
       "Intubated                            1\n",
       "Critical on o2                       1\n",
       "UnStable on NIV                      1\n",
       "Critical on ventilator               1\n",
       "On Oxygen Support                    1\n",
       "OnO2ICU                              1\n",
       "Name: Current Clinical Status, dtype: int64"
      ]
     },
     "execution_count": 17,
     "metadata": {
      "tags": []
     },
     "output_type": "execute_result"
    }
   ],
   "source": [
    "df['Current Clinical Status'].value_counts(dropna=False)"
   ]
  },
  {
   "cell_type": "code",
   "execution_count": 18,
   "metadata": {
    "colab": {
     "base_uri": "https://localhost:8080/",
     "height": 104
    },
    "colab_type": "code",
    "executionInfo": {
     "elapsed": 19214,
     "status": "ok",
     "timestamp": 1591620444946,
     "user": {
      "displayName": "nikhil jaiswal",
      "photoUrl": "https://lh4.googleusercontent.com/-o-e6IKA0zOQ/AAAAAAAAAAI/AAAAAAAABhk/NX-uYSjsDqE/s64/photo.jpg",
      "userId": "00010766787081222440"
     },
     "user_tz": -330
    },
    "id": "xZID-qv_FFdB",
    "outputId": "7ea026d6-db27-4973-f917-71f72452e976"
   },
   "outputs": [
    {
     "data": {
      "text/plain": [
       "Stable      3954\n",
       "Admitted     557\n",
       "Death         70\n",
       "Critical      45\n",
       "Name: Current Clinical Status, dtype: int64"
      ]
     },
     "execution_count": 18,
     "metadata": {
      "tags": []
     },
     "output_type": "execute_result"
    }
   ],
   "source": [
    "df = df.fillna({'Current Clinical Status':'Admitted'})\n",
    "df = df.replace({'Current Clinical Status':['Admited','ADMITED','Admitted (7A)']},'Admitted')\n",
    "df = df.replace({'Current Clinical Status':['DEATH','death','EXPIRED ON03/05/2020.(2.00 AM)']},'Death')\n",
    "df = df.replace({'Current Clinical Status':['Asymptomatic','Unstable','criticl on ventilater','PATIENT ON BIPAP','INTUBATED','CRITICAL',\n",
    "                                            'UnStable','Critical on ventilator','In ICU','Roudy','UnStable on NIV','Critical on o2','Intubated',\n",
    "                                            ]},'Critical')\n",
    "df = df.replace({'Current Clinical Status':['NIV','on oxygen','On Oxygen Support','OnO2ICU']},'Stable')\n",
    "df['Current Clinical Status'].value_counts(dropna=False)"
   ]
  },
  {
   "cell_type": "markdown",
   "metadata": {
    "colab_type": "text",
    "id": "AmHBF-khz6In"
   },
   "source": [
    "## Cleaning 'Travel to COVID affected country' column"
   ]
  },
  {
   "cell_type": "code",
   "execution_count": 19,
   "metadata": {
    "colab": {
     "base_uri": "https://localhost:8080/",
     "height": 69
    },
    "colab_type": "code",
    "executionInfo": {
     "elapsed": 18321,
     "status": "ok",
     "timestamp": 1591620444946,
     "user": {
      "displayName": "nikhil jaiswal",
      "photoUrl": "https://lh4.googleusercontent.com/-o-e6IKA0zOQ/AAAAAAAAAAI/AAAAAAAABhk/NX-uYSjsDqE/s64/photo.jpg",
      "userId": "00010766787081222440"
     },
     "user_tz": -330
    },
    "id": "m7t78NooqjTm",
    "outputId": "0f29afa4-0de2-4b91-9baa-3d150028ceb8"
   },
   "outputs": [
    {
     "data": {
      "text/plain": [
       "No     4613\n",
       "Yes      13\n",
       "Name: Travel to COVID afftected country (Yes/No), dtype: int64"
      ]
     },
     "execution_count": 19,
     "metadata": {
      "tags": []
     },
     "output_type": "execute_result"
    }
   ],
   "source": [
    "df = df.fillna({'Travel to COVID afftected country (Yes/No)':'No'})\n",
    "df = df.replace({'Travel to COVID afftected country (Yes/No)':['NO']},'No')\n",
    "df['Travel to COVID afftected country (Yes/No)'].value_counts(dropna=False)"
   ]
  },
  {
   "cell_type": "markdown",
   "metadata": {
    "colab_type": "text",
    "id": "28AzvARz0EPH"
   },
   "source": [
    "## Cleaning 'Contacts with COVID case' column"
   ]
  },
  {
   "cell_type": "code",
   "execution_count": 20,
   "metadata": {
    "colab": {
     "base_uri": "https://localhost:8080/",
     "height": 191
    },
    "colab_type": "code",
    "executionInfo": {
     "elapsed": 17303,
     "status": "ok",
     "timestamp": 1591620444947,
     "user": {
      "displayName": "nikhil jaiswal",
      "photoUrl": "https://lh4.googleusercontent.com/-o-e6IKA0zOQ/AAAAAAAAAAI/AAAAAAAABhk/NX-uYSjsDqE/s64/photo.jpg",
      "userId": "00010766787081222440"
     },
     "user_tz": -330
    },
    "id": "aaEZNDJDR9oL",
    "outputId": "704612d0-acd8-426d-dcd0-9560075e99b4"
   },
   "outputs": [
    {
     "data": {
      "text/plain": [
       "NaN             3936\n",
       "NO               354\n",
       "No               161\n",
       "Yes              107\n",
       "Stable            60\n",
       "Asymptomatic       3\n",
       "Yes                3\n",
       "no                 1\n",
       "Hospitalies        1\n",
       "Name: Contact with COVID19 case (Yes/No), dtype: int64"
      ]
     },
     "execution_count": 20,
     "metadata": {
      "tags": []
     },
     "output_type": "execute_result"
    }
   ],
   "source": [
    "df['Contact with COVID19 case (Yes/No)'].value_counts(dropna=False)"
   ]
  },
  {
   "cell_type": "code",
   "execution_count": 21,
   "metadata": {
    "colab": {
     "base_uri": "https://localhost:8080/",
     "height": 69
    },
    "colab_type": "code",
    "executionInfo": {
     "elapsed": 16840,
     "status": "ok",
     "timestamp": 1591620444948,
     "user": {
      "displayName": "nikhil jaiswal",
      "photoUrl": "https://lh4.googleusercontent.com/-o-e6IKA0zOQ/AAAAAAAAAAI/AAAAAAAABhk/NX-uYSjsDqE/s64/photo.jpg",
      "userId": "00010766787081222440"
     },
     "user_tz": -330
    },
    "id": "JhAGWBj7spl0",
    "outputId": "de0a27fe-4361-4e68-ad44-46c370480fbd"
   },
   "outputs": [
    {
     "data": {
      "text/plain": [
       "No     4452\n",
       "Yes     174\n",
       "Name: Contact with COVID19 case (Yes/No), dtype: int64"
      ]
     },
     "execution_count": 21,
     "metadata": {
      "tags": []
     },
     "output_type": "execute_result"
    }
   ],
   "source": [
    "df = df.fillna({'Contact with COVID19 case (Yes/No)':'No'})\n",
    "df = df.replace({'Contact with COVID19 case (Yes/No)':['NO','no']},'No')\n",
    "df = df.replace({'Contact with COVID19 case (Yes/No)':['STABLE','Stable','yes','YES','Yes ','Asymptomatic','Hospitalies']},'Yes')\n",
    "df['Contact with COVID19 case (Yes/No)'].value_counts()"
   ]
  },
  {
   "cell_type": "markdown",
   "metadata": {
    "colab_type": "text",
    "id": "OI8WWY7m0RS6"
   },
   "source": [
    "## Cleaning 'Is patitent member of cluster COVID' column"
   ]
  },
  {
   "cell_type": "code",
   "execution_count": 22,
   "metadata": {
    "colab": {
     "base_uri": "https://localhost:8080/",
     "height": 121
    },
    "colab_type": "code",
    "executionInfo": {
     "elapsed": 15945,
     "status": "ok",
     "timestamp": 1591620444948,
     "user": {
      "displayName": "nikhil jaiswal",
      "photoUrl": "https://lh4.googleusercontent.com/-o-e6IKA0zOQ/AAAAAAAAAAI/AAAAAAAABhk/NX-uYSjsDqE/s64/photo.jpg",
      "userId": "00010766787081222440"
     },
     "user_tz": -330
    },
    "id": "RWd_e07FEcH1",
    "outputId": "f2c26fa2-dfef-4294-edc0-15fdc2335167"
   },
   "outputs": [
    {
     "data": {
      "text/plain": [
       "NaN    3904\n",
       "NO      523\n",
       "Yes     112\n",
       "No       85\n",
       "no        2\n",
       "Name: Is patient member of cluster of COVID19(Yes/No), dtype: int64"
      ]
     },
     "execution_count": 22,
     "metadata": {
      "tags": []
     },
     "output_type": "execute_result"
    }
   ],
   "source": [
    "df['Is patient member of cluster of COVID19(Yes/No)'].value_counts(dropna=False)"
   ]
  },
  {
   "cell_type": "code",
   "execution_count": 23,
   "metadata": {
    "colab": {
     "base_uri": "https://localhost:8080/",
     "height": 69
    },
    "colab_type": "code",
    "executionInfo": {
     "elapsed": 15476,
     "status": "ok",
     "timestamp": 1591620444949,
     "user": {
      "displayName": "nikhil jaiswal",
      "photoUrl": "https://lh4.googleusercontent.com/-o-e6IKA0zOQ/AAAAAAAAAAI/AAAAAAAABhk/NX-uYSjsDqE/s64/photo.jpg",
      "userId": "00010766787081222440"
     },
     "user_tz": -330
    },
    "id": "zEOwEDruifx3",
    "outputId": "4a68d482-a99a-4209-d78b-783f297c6370"
   },
   "outputs": [
    {
     "data": {
      "text/plain": [
       "No     4514\n",
       "Yes     112\n",
       "Name: Is patient member of cluster of COVID19(Yes/No), dtype: int64"
      ]
     },
     "execution_count": 23,
     "metadata": {
      "tags": []
     },
     "output_type": "execute_result"
    }
   ],
   "source": [
    "df = df.replace({'Is patient member of cluster of COVID19(Yes/No)':['NO','no']},'No')\n",
    "df = df.replace({'Is patient member of cluster of COVID19(Yes/No)':['YES','yes']},'Yes')\n",
    "df = df.fillna({'Is patient member of cluster of COVID19(Yes/No)':'No'})\n",
    "df['Is patient member of cluster of COVID19(Yes/No)'].value_counts(dropna=False)"
   ]
  },
  {
   "cell_type": "markdown",
   "metadata": {
    "colab_type": "text",
    "id": "ZI9QYXuhP0OL"
   },
   "source": [
    "##  Filling 'Total contacts' column"
   ]
  },
  {
   "cell_type": "code",
   "execution_count": 24,
   "metadata": {
    "colab": {
     "base_uri": "https://localhost:8080/",
     "height": 745
    },
    "colab_type": "code",
    "executionInfo": {
     "elapsed": 14575,
     "status": "ok",
     "timestamp": 1591620444949,
     "user": {
      "displayName": "nikhil jaiswal",
      "photoUrl": "https://lh4.googleusercontent.com/-o-e6IKA0zOQ/AAAAAAAAAAI/AAAAAAAABhk/NX-uYSjsDqE/s64/photo.jpg",
      "userId": "00010766787081222440"
     },
     "user_tz": -330
    },
    "id": "FsCllrdCPz8B",
    "outputId": "3637bf31-1774-42d3-8e9f-5c918e855635"
   },
   "outputs": [
    {
     "data": {
      "text/plain": [
       "0.0     1547\n",
       "NaN     1513\n",
       "3.0      206\n",
       "4.0      183\n",
       "5.0      182\n",
       "6.0      134\n",
       "2.0      119\n",
       "7.0      114\n",
       "8.0       91\n",
       "1.0       75\n",
       "9.0       69\n",
       "10.0      62\n",
       "11.0      49\n",
       "12.0      46\n",
       "13.0      41\n",
       "14.0      40\n",
       "16.0      23\n",
       "15.0      22\n",
       "22.0      18\n",
       "18.0      15\n",
       "17.0      11\n",
       "34.0      10\n",
       "21.0       9\n",
       "19.0       7\n",
       "25.0       6\n",
       "27.0       6\n",
       "29.0       6\n",
       "24.0       4\n",
       "28.0       3\n",
       "23.0       2\n",
       "36.0       2\n",
       "30.0       2\n",
       "31.0       1\n",
       "20.0       1\n",
       "64.0       1\n",
       "40.0       1\n",
       "48.0       1\n",
       "39.0       1\n",
       "35.0       1\n",
       "37.0       1\n",
       "45.0       1\n",
       "Name: Total Contacts, dtype: int64"
      ]
     },
     "execution_count": 24,
     "metadata": {
      "tags": []
     },
     "output_type": "execute_result"
    }
   ],
   "source": [
    "df['Total Contacts'].value_counts(dropna=False)"
   ]
  },
  {
   "cell_type": "code",
   "execution_count": 0,
   "metadata": {
    "colab": {},
    "colab_type": "code",
    "id": "U--EH1xPPz0D"
   },
   "outputs": [],
   "source": [
    "df = df.fillna({'Total Contacts':0})"
   ]
  },
  {
   "cell_type": "markdown",
   "metadata": {
    "colab_type": "text",
    "id": "tT8rS0ho1Whz"
   },
   "source": [
    "## Cleaning 'Symptoms' column\n"
   ]
  },
  {
   "cell_type": "code",
   "execution_count": 26,
   "metadata": {
    "colab": {
     "base_uri": "https://localhost:8080/",
     "height": 225
    },
    "colab_type": "code",
    "executionInfo": {
     "elapsed": 13392,
     "status": "ok",
     "timestamp": 1591620444953,
     "user": {
      "displayName": "nikhil jaiswal",
      "photoUrl": "https://lh4.googleusercontent.com/-o-e6IKA0zOQ/AAAAAAAAAAI/AAAAAAAABhk/NX-uYSjsDqE/s64/photo.jpg",
      "userId": "00010766787081222440"
     },
     "user_tz": -330
    },
    "id": "9QYUfUMW9XeU",
    "outputId": "3870bbe4-08ed-411d-c0a1-0bdd5dd3e731"
   },
   "outputs": [
    {
     "data": {
      "text/plain": [
       "Fever,Cough                                2268\n",
       "NaN                                         906\n",
       "Cough,Cold,Fever                            815\n",
       "Asymptomatic                                184\n",
       "Breathlessness                               59\n",
       "                                           ... \n",
       "Fever,Headache                                1\n",
       "Diarrhoea,Nausea                              1\n",
       "Breathlessness,Bodyache                       1\n",
       "Fever,Cough,Cold,Bodyache,Loose motion        1\n",
       "Breathlessness,Loss of appetite,Fatigue       1\n",
       "Name: Symptoms at admission , Length: 154, dtype: int64"
      ]
     },
     "execution_count": 26,
     "metadata": {
      "tags": []
     },
     "output_type": "execute_result"
    }
   ],
   "source": [
    "df['Symptoms at admission '].value_counts(dropna=False)"
   ]
  },
  {
   "cell_type": "code",
   "execution_count": 27,
   "metadata": {
    "colab": {
     "base_uri": "https://localhost:8080/",
     "height": 35
    },
    "colab_type": "code",
    "executionInfo": {
     "elapsed": 12981,
     "status": "ok",
     "timestamp": 1591620444954,
     "user": {
      "displayName": "nikhil jaiswal",
      "photoUrl": "https://lh4.googleusercontent.com/-o-e6IKA0zOQ/AAAAAAAAAAI/AAAAAAAABhk/NX-uYSjsDqE/s64/photo.jpg",
      "userId": "00010766787081222440"
     },
     "user_tz": -330
    },
    "id": "xkBhtQCeleZA",
    "outputId": "bd88eded-80ac-4b25-d233-e851426b9004"
   },
   "outputs": [
    {
     "data": {
      "text/plain": [
       "0"
      ]
     },
     "execution_count": 27,
     "metadata": {
      "tags": []
     },
     "output_type": "execute_result"
    }
   ],
   "source": [
    "df['Symptoms at admission '].fillna('Fever',inplace=True)\n",
    "df['Symptoms at admission '].isnull().sum()"
   ]
  },
  {
   "cell_type": "code",
   "execution_count": 0,
   "metadata": {
    "colab": {},
    "colab_type": "code",
    "id": "-HB9MiiBd4gS"
   },
   "outputs": [],
   "source": [
    "#Making different columns for each symptom\n",
    "\n",
    "\n",
    "col=df['Symptoms at admission ']\n",
    "\n",
    "for i in col:\n",
    "    x=[]\n",
    "    k=i.split(',')\n",
    "    for j in k:\n",
    "        x.append(j.strip())\n",
    "    \n",
    "    symptoms=['Fever','Cold','Cough','Breathlessness','Weakness','Vomiting','Sore Throat','Chest pain','Loss of appetite','Nausea','Abdominal pain','Loose motion','Diarrhoea']\n",
    "    \n",
    "    for ele in symptoms:\n",
    "  \n",
    "        if ele in x:\n",
    "\n",
    "      \n",
    "            df[ele]=1\n",
    "        \n",
    "        else:\n",
    "            df[ele]=0\n",
    "    \n",
    "    "
   ]
  },
  {
   "cell_type": "code",
   "execution_count": 29,
   "metadata": {
    "colab": {
     "base_uri": "https://localhost:8080/",
     "height": 176
    },
    "colab_type": "code",
    "executionInfo": {
     "elapsed": 24077,
     "status": "ok",
     "timestamp": 1591620456970,
     "user": {
      "displayName": "nikhil jaiswal",
      "photoUrl": "https://lh4.googleusercontent.com/-o-e6IKA0zOQ/AAAAAAAAAAI/AAAAAAAABhk/NX-uYSjsDqE/s64/photo.jpg",
      "userId": "00010766787081222440"
     },
     "user_tz": -330
    },
    "id": "xHT9zwFypPjx",
    "outputId": "d48fe227-818f-4946-8b78-5f50ff03f12a"
   },
   "outputs": [
    {
     "name": "stderr",
     "output_type": "stream",
     "text": [
      "/usr/local/lib/python3.6/dist-packages/ipykernel_launcher.py:19: SettingWithCopyWarning: \n",
      "A value is trying to be set on a copy of a slice from a DataFrame\n",
      "\n",
      "See the caveats in the documentation: https://pandas.pydata.org/pandas-docs/stable/user_guide/indexing.html#returning-a-view-versus-a-copy\n",
      "/usr/local/lib/python3.6/dist-packages/ipykernel_launcher.py:22: SettingWithCopyWarning: \n",
      "A value is trying to be set on a copy of a slice from a DataFrame\n",
      "\n",
      "See the caveats in the documentation: https://pandas.pydata.org/pandas-docs/stable/user_guide/indexing.html#returning-a-view-versus-a-copy\n"
     ]
    }
   ],
   "source": [
    "#Making different columns for each symptom\n",
    "\n",
    "\n",
    "col=df['Symptoms at admission ']\n",
    "t=0\n",
    "for i in col:\n",
    "    x=[]\n",
    "    k=i.split(',')\n",
    "    for j in k:\n",
    "        x.append(j.strip())\n",
    "    \n",
    "    symptoms=['Fever','Cold','Cough','Breathlessness','Weakness','Vomiting','Sore Throat','Chest pain','Loss of appetite','Nausea','Abdominal pain','Loose motion','Diarrhoea']\n",
    "    \n",
    "    for ele in symptoms:\n",
    "  \n",
    "        if ele in x:\n",
    "\n",
    "      \n",
    "            df[ele][t]=1\n",
    "        \n",
    "        else:\n",
    "            df[ele][t]=0\n",
    "    t=t+1\n",
    "    "
   ]
  },
  {
   "cell_type": "code",
   "execution_count": 0,
   "metadata": {
    "colab": {},
    "colab_type": "code",
    "id": "8wqNZrMfpPaK"
   },
   "outputs": [],
   "source": [
    "df = df.drop(['Symptoms at admission '],axis=1)"
   ]
  },
  {
   "cell_type": "markdown",
   "metadata": {
    "colab_type": "text",
    "id": "2_nf7wey0mQL"
   },
   "source": [
    "## Cleaning 'Outcome' column"
   ]
  },
  {
   "cell_type": "code",
   "execution_count": 31,
   "metadata": {
    "colab": {
     "base_uri": "https://localhost:8080/",
     "height": 173
    },
    "colab_type": "code",
    "executionInfo": {
     "elapsed": 22787,
     "status": "ok",
     "timestamp": 1591620456973,
     "user": {
      "displayName": "nikhil jaiswal",
      "photoUrl": "https://lh4.googleusercontent.com/-o-e6IKA0zOQ/AAAAAAAAAAI/AAAAAAAABhk/NX-uYSjsDqE/s64/photo.jpg",
      "userId": "00010766787081222440"
     },
     "user_tz": -330
    },
    "id": "F_eRRlTX0hba",
    "outputId": "c26761d3-595c-4491-8856-f10f954b6662"
   },
   "outputs": [
    {
     "data": {
      "text/plain": [
       "Admitted      2558\n",
       "Discharged    1599\n",
       "Death          194\n",
       "DIscharged     135\n",
       "discharged     122\n",
       "dIscharged       6\n",
       "death            5\n",
       "DEATH            4\n",
       "Name: Outcome (Discharged/Death/Admitted), dtype: int64"
      ]
     },
     "execution_count": 31,
     "metadata": {
      "tags": []
     },
     "output_type": "execute_result"
    }
   ],
   "source": [
    "df['Outcome (Discharged/Death/Admitted)'].value_counts()"
   ]
  },
  {
   "cell_type": "code",
   "execution_count": 32,
   "metadata": {
    "colab": {
     "base_uri": "https://localhost:8080/",
     "height": 87
    },
    "colab_type": "code",
    "executionInfo": {
     "elapsed": 22430,
     "status": "ok",
     "timestamp": 1591620456975,
     "user": {
      "displayName": "nikhil jaiswal",
      "photoUrl": "https://lh4.googleusercontent.com/-o-e6IKA0zOQ/AAAAAAAAAAI/AAAAAAAABhk/NX-uYSjsDqE/s64/photo.jpg",
      "userId": "00010766787081222440"
     },
     "user_tz": -330
    },
    "id": "STfvWz1W0hWY",
    "outputId": "76b5b42e-62b9-4660-97a1-f7dd4f3188ee"
   },
   "outputs": [
    {
     "data": {
      "text/plain": [
       "Admitted      2558\n",
       "Discharged    1862\n",
       "Death          203\n",
       "Name: Outcome (Discharged/Death/Admitted), dtype: int64"
      ]
     },
     "execution_count": 32,
     "metadata": {
      "tags": []
     },
     "output_type": "execute_result"
    }
   ],
   "source": [
    "df = df.replace({'Outcome (Discharged/Death/Admitted)':['ADMITTED','Admitted ']},'Admitted')\n",
    "df = df.replace({'Outcome (Discharged/Death/Admitted)':['DIscharged','discharged','dIscharged']},'Discharged')\n",
    "df = df.replace({'Outcome (Discharged/Death/Admitted)':['death','DEATH']},'Death')\n",
    "df['Outcome (Discharged/Death/Admitted)'].value_counts()"
   ]
  },
  {
   "cell_type": "code",
   "execution_count": 33,
   "metadata": {
    "colab": {
     "base_uri": "https://localhost:8080/",
     "height": 291
    },
    "colab_type": "code",
    "executionInfo": {
     "elapsed": 22200,
     "status": "ok",
     "timestamp": 1591620456976,
     "user": {
      "displayName": "nikhil jaiswal",
      "photoUrl": "https://lh4.googleusercontent.com/-o-e6IKA0zOQ/AAAAAAAAAAI/AAAAAAAABhk/NX-uYSjsDqE/s64/photo.jpg",
      "userId": "00010766787081222440"
     },
     "user_tz": -330
    },
    "id": "UGiqEUM9sIM_",
    "outputId": "c0ca0aab-7f40-41fc-8c16-90cd592e2c8c"
   },
   "outputs": [
    {
     "data": {
      "text/html": [
       "<div>\n",
       "<style scoped>\n",
       "    .dataframe tbody tr th:only-of-type {\n",
       "        vertical-align: middle;\n",
       "    }\n",
       "\n",
       "    .dataframe tbody tr th {\n",
       "        vertical-align: top;\n",
       "    }\n",
       "\n",
       "    .dataframe thead th {\n",
       "        text-align: right;\n",
       "    }\n",
       "</style>\n",
       "<table border=\"1\" class=\"dataframe\">\n",
       "  <thead>\n",
       "    <tr style=\"text-align: right;\">\n",
       "      <th></th>\n",
       "      <th>Age</th>\n",
       "      <th>Gender</th>\n",
       "      <th>Travel to COVID afftected country (Yes/No)</th>\n",
       "      <th>Contact with COVID19 case (Yes/No)</th>\n",
       "      <th>Current Clinical Status</th>\n",
       "      <th>Is patient member of cluster of COVID19(Yes/No)</th>\n",
       "      <th>Total Contacts</th>\n",
       "      <th>No</th>\n",
       "      <th>DM</th>\n",
       "      <th>Hypertension</th>\n",
       "      <th>Yes</th>\n",
       "      <th>ANC</th>\n",
       "      <th>IHD</th>\n",
       "      <th>COPD</th>\n",
       "      <th>Asthama</th>\n",
       "      <th>Hypothyroidism</th>\n",
       "      <th>Chronic_renal_disease</th>\n",
       "      <th>Obesity</th>\n",
       "      <th>CKD</th>\n",
       "      <th>Alcoholic_liver_disease</th>\n",
       "      <th>Tobaco_chewer</th>\n",
       "      <th>Thyroid_disorder</th>\n",
       "      <th>HepatitisB</th>\n",
       "      <th>HIV</th>\n",
       "      <th>Hemiparesis</th>\n",
       "      <th>Bronchitis</th>\n",
       "      <th>Chronic_kidney_disease</th>\n",
       "      <th>Alcoholic</th>\n",
       "      <th>Renal_stone</th>\n",
       "      <th>Breathlessness</th>\n",
       "      <th>Fever</th>\n",
       "      <th>Cold</th>\n",
       "      <th>Cough</th>\n",
       "      <th>Weakness</th>\n",
       "      <th>Vomiting</th>\n",
       "      <th>Sore Throat</th>\n",
       "      <th>Chest pain</th>\n",
       "      <th>Loss of appetite</th>\n",
       "      <th>Nausea</th>\n",
       "      <th>Abdominal pain</th>\n",
       "      <th>Loose motion</th>\n",
       "      <th>Diarrhoea</th>\n",
       "      <th>Outcome</th>\n",
       "    </tr>\n",
       "  </thead>\n",
       "  <tbody>\n",
       "    <tr>\n",
       "      <th>0</th>\n",
       "      <td>51.0</td>\n",
       "      <td>M</td>\n",
       "      <td>Yes</td>\n",
       "      <td>No</td>\n",
       "      <td>Stable</td>\n",
       "      <td>Yes</td>\n",
       "      <td>11.0</td>\n",
       "      <td>1</td>\n",
       "      <td>0</td>\n",
       "      <td>0</td>\n",
       "      <td>0</td>\n",
       "      <td>0</td>\n",
       "      <td>0</td>\n",
       "      <td>0</td>\n",
       "      <td>0</td>\n",
       "      <td>0</td>\n",
       "      <td>0</td>\n",
       "      <td>0</td>\n",
       "      <td>0</td>\n",
       "      <td>0</td>\n",
       "      <td>0</td>\n",
       "      <td>0</td>\n",
       "      <td>0</td>\n",
       "      <td>0</td>\n",
       "      <td>0</td>\n",
       "      <td>0</td>\n",
       "      <td>0</td>\n",
       "      <td>0</td>\n",
       "      <td>0</td>\n",
       "      <td>0</td>\n",
       "      <td>1</td>\n",
       "      <td>1</td>\n",
       "      <td>1</td>\n",
       "      <td>0</td>\n",
       "      <td>0</td>\n",
       "      <td>0</td>\n",
       "      <td>0</td>\n",
       "      <td>0</td>\n",
       "      <td>0</td>\n",
       "      <td>0</td>\n",
       "      <td>0</td>\n",
       "      <td>0</td>\n",
       "      <td>Discharged</td>\n",
       "    </tr>\n",
       "    <tr>\n",
       "      <th>1</th>\n",
       "      <td>43.0</td>\n",
       "      <td>F</td>\n",
       "      <td>Yes</td>\n",
       "      <td>No</td>\n",
       "      <td>Stable</td>\n",
       "      <td>Yes</td>\n",
       "      <td>25.0</td>\n",
       "      <td>1</td>\n",
       "      <td>0</td>\n",
       "      <td>0</td>\n",
       "      <td>0</td>\n",
       "      <td>0</td>\n",
       "      <td>0</td>\n",
       "      <td>0</td>\n",
       "      <td>0</td>\n",
       "      <td>0</td>\n",
       "      <td>0</td>\n",
       "      <td>0</td>\n",
       "      <td>0</td>\n",
       "      <td>0</td>\n",
       "      <td>0</td>\n",
       "      <td>0</td>\n",
       "      <td>0</td>\n",
       "      <td>0</td>\n",
       "      <td>0</td>\n",
       "      <td>0</td>\n",
       "      <td>0</td>\n",
       "      <td>0</td>\n",
       "      <td>0</td>\n",
       "      <td>0</td>\n",
       "      <td>1</td>\n",
       "      <td>1</td>\n",
       "      <td>1</td>\n",
       "      <td>0</td>\n",
       "      <td>0</td>\n",
       "      <td>0</td>\n",
       "      <td>0</td>\n",
       "      <td>0</td>\n",
       "      <td>0</td>\n",
       "      <td>0</td>\n",
       "      <td>0</td>\n",
       "      <td>0</td>\n",
       "      <td>Discharged</td>\n",
       "    </tr>\n",
       "    <tr>\n",
       "      <th>2</th>\n",
       "      <td>23.0</td>\n",
       "      <td>F</td>\n",
       "      <td>Yes</td>\n",
       "      <td>No</td>\n",
       "      <td>Stable</td>\n",
       "      <td>Yes</td>\n",
       "      <td>19.0</td>\n",
       "      <td>1</td>\n",
       "      <td>0</td>\n",
       "      <td>0</td>\n",
       "      <td>0</td>\n",
       "      <td>0</td>\n",
       "      <td>0</td>\n",
       "      <td>0</td>\n",
       "      <td>0</td>\n",
       "      <td>0</td>\n",
       "      <td>0</td>\n",
       "      <td>0</td>\n",
       "      <td>0</td>\n",
       "      <td>0</td>\n",
       "      <td>0</td>\n",
       "      <td>0</td>\n",
       "      <td>0</td>\n",
       "      <td>0</td>\n",
       "      <td>0</td>\n",
       "      <td>0</td>\n",
       "      <td>0</td>\n",
       "      <td>0</td>\n",
       "      <td>0</td>\n",
       "      <td>0</td>\n",
       "      <td>1</td>\n",
       "      <td>1</td>\n",
       "      <td>1</td>\n",
       "      <td>0</td>\n",
       "      <td>0</td>\n",
       "      <td>0</td>\n",
       "      <td>0</td>\n",
       "      <td>0</td>\n",
       "      <td>0</td>\n",
       "      <td>0</td>\n",
       "      <td>0</td>\n",
       "      <td>0</td>\n",
       "      <td>Discharged</td>\n",
       "    </tr>\n",
       "    <tr>\n",
       "      <th>3</th>\n",
       "      <td>43.0</td>\n",
       "      <td>M</td>\n",
       "      <td>No</td>\n",
       "      <td>Yes</td>\n",
       "      <td>Stable</td>\n",
       "      <td>Yes</td>\n",
       "      <td>11.0</td>\n",
       "      <td>1</td>\n",
       "      <td>0</td>\n",
       "      <td>0</td>\n",
       "      <td>0</td>\n",
       "      <td>0</td>\n",
       "      <td>0</td>\n",
       "      <td>0</td>\n",
       "      <td>0</td>\n",
       "      <td>0</td>\n",
       "      <td>0</td>\n",
       "      <td>0</td>\n",
       "      <td>0</td>\n",
       "      <td>0</td>\n",
       "      <td>0</td>\n",
       "      <td>0</td>\n",
       "      <td>0</td>\n",
       "      <td>0</td>\n",
       "      <td>0</td>\n",
       "      <td>0</td>\n",
       "      <td>0</td>\n",
       "      <td>0</td>\n",
       "      <td>0</td>\n",
       "      <td>0</td>\n",
       "      <td>0</td>\n",
       "      <td>1</td>\n",
       "      <td>0</td>\n",
       "      <td>0</td>\n",
       "      <td>0</td>\n",
       "      <td>0</td>\n",
       "      <td>0</td>\n",
       "      <td>0</td>\n",
       "      <td>0</td>\n",
       "      <td>0</td>\n",
       "      <td>0</td>\n",
       "      <td>0</td>\n",
       "      <td>Discharged</td>\n",
       "    </tr>\n",
       "    <tr>\n",
       "      <th>4</th>\n",
       "      <td>27.0</td>\n",
       "      <td>M</td>\n",
       "      <td>Yes</td>\n",
       "      <td>No</td>\n",
       "      <td>Stable</td>\n",
       "      <td>Yes</td>\n",
       "      <td>15.0</td>\n",
       "      <td>1</td>\n",
       "      <td>0</td>\n",
       "      <td>0</td>\n",
       "      <td>0</td>\n",
       "      <td>0</td>\n",
       "      <td>0</td>\n",
       "      <td>0</td>\n",
       "      <td>0</td>\n",
       "      <td>0</td>\n",
       "      <td>0</td>\n",
       "      <td>0</td>\n",
       "      <td>0</td>\n",
       "      <td>0</td>\n",
       "      <td>0</td>\n",
       "      <td>0</td>\n",
       "      <td>0</td>\n",
       "      <td>0</td>\n",
       "      <td>0</td>\n",
       "      <td>0</td>\n",
       "      <td>0</td>\n",
       "      <td>0</td>\n",
       "      <td>0</td>\n",
       "      <td>0</td>\n",
       "      <td>1</td>\n",
       "      <td>1</td>\n",
       "      <td>1</td>\n",
       "      <td>0</td>\n",
       "      <td>0</td>\n",
       "      <td>0</td>\n",
       "      <td>0</td>\n",
       "      <td>0</td>\n",
       "      <td>0</td>\n",
       "      <td>0</td>\n",
       "      <td>0</td>\n",
       "      <td>0</td>\n",
       "      <td>Discharged</td>\n",
       "    </tr>\n",
       "  </tbody>\n",
       "</table>\n",
       "</div>"
      ],
      "text/plain": [
       "    Age Gender  ... Diarrhoea     Outcome\n",
       "0  51.0      M  ...         0  Discharged\n",
       "1  43.0      F  ...         0  Discharged\n",
       "2  23.0      F  ...         0  Discharged\n",
       "3  43.0      M  ...         0  Discharged\n",
       "4  27.0      M  ...         0  Discharged\n",
       "\n",
       "[5 rows x 43 columns]"
      ]
     },
     "execution_count": 33,
     "metadata": {
      "tags": []
     },
     "output_type": "execute_result"
    }
   ],
   "source": [
    "df['Outcome']=df['Outcome (Discharged/Death/Admitted)']\n",
    "df=df.drop('Outcome (Discharged/Death/Admitted)',axis=1)\n",
    "df=df[(df.Outcome=='Discharged')|(df.Outcome=='Death')]\n",
    "df.head()"
   ]
  },
  {
   "cell_type": "code",
   "execution_count": 34,
   "metadata": {
    "colab": {
     "base_uri": "https://localhost:8080/",
     "height": 69
    },
    "colab_type": "code",
    "executionInfo": {
     "elapsed": 21905,
     "status": "ok",
     "timestamp": 1591620456977,
     "user": {
      "displayName": "nikhil jaiswal",
      "photoUrl": "https://lh4.googleusercontent.com/-o-e6IKA0zOQ/AAAAAAAAAAI/AAAAAAAABhk/NX-uYSjsDqE/s64/photo.jpg",
      "userId": "00010766787081222440"
     },
     "user_tz": -330
    },
    "id": "UIdK3Yt6wR5A",
    "outputId": "b187be4a-65ae-4e4c-fbb1-3a23cc13b003"
   },
   "outputs": [
    {
     "data": {
      "text/plain": [
       "Discharged    1862\n",
       "Death          203\n",
       "Name: Outcome, dtype: int64"
      ]
     },
     "execution_count": 34,
     "metadata": {
      "tags": []
     },
     "output_type": "execute_result"
    }
   ],
   "source": [
    "df['Outcome'].value_counts(dropna =False)"
   ]
  },
  {
   "cell_type": "code",
   "execution_count": 35,
   "metadata": {
    "colab": {
     "base_uri": "https://localhost:8080/",
     "height": 884
    },
    "colab_type": "code",
    "executionInfo": {
     "elapsed": 21685,
     "status": "ok",
     "timestamp": 1591620456977,
     "user": {
      "displayName": "nikhil jaiswal",
      "photoUrl": "https://lh4.googleusercontent.com/-o-e6IKA0zOQ/AAAAAAAAAAI/AAAAAAAABhk/NX-uYSjsDqE/s64/photo.jpg",
      "userId": "00010766787081222440"
     },
     "user_tz": -330
    },
    "id": "bNnm0gxlQ4wH",
    "outputId": "81c7068c-9701-4ad5-c5bd-0197ea5d0e4f"
   },
   "outputs": [
    {
     "name": "stdout",
     "output_type": "stream",
     "text": [
      "<class 'pandas.core.frame.DataFrame'>\n",
      "Int64Index: 2065 entries, 0 to 4622\n",
      "Data columns (total 43 columns):\n",
      " #   Column                                           Non-Null Count  Dtype  \n",
      "---  ------                                           --------------  -----  \n",
      " 0   Age                                              2065 non-null   float64\n",
      " 1   Gender                                           2065 non-null   object \n",
      " 2   Travel to COVID afftected country (Yes/No)       2065 non-null   object \n",
      " 3   Contact with COVID19 case (Yes/No)               2065 non-null   object \n",
      " 4   Current Clinical Status                          2065 non-null   object \n",
      " 5   Is patient member of cluster of COVID19(Yes/No)  2065 non-null   object \n",
      " 6   Total Contacts                                   2065 non-null   float64\n",
      " 7   No                                               2065 non-null   int64  \n",
      " 8   DM                                               2065 non-null   int64  \n",
      " 9   Hypertension                                     2065 non-null   int64  \n",
      " 10  Yes                                              2065 non-null   int64  \n",
      " 11  ANC                                              2065 non-null   int64  \n",
      " 12  IHD                                              2065 non-null   int64  \n",
      " 13  COPD                                             2065 non-null   int64  \n",
      " 14  Asthama                                          2065 non-null   int64  \n",
      " 15  Hypothyroidism                                   2065 non-null   int64  \n",
      " 16  Chronic_renal_disease                            2065 non-null   int64  \n",
      " 17  Obesity                                          2065 non-null   int64  \n",
      " 18  CKD                                              2065 non-null   int64  \n",
      " 19  Alcoholic_liver_disease                          2065 non-null   int64  \n",
      " 20  Tobaco_chewer                                    2065 non-null   int64  \n",
      " 21  Thyroid_disorder                                 2065 non-null   int64  \n",
      " 22  HepatitisB                                       2065 non-null   int64  \n",
      " 23  HIV                                              2065 non-null   int64  \n",
      " 24  Hemiparesis                                      2065 non-null   int64  \n",
      " 25  Bronchitis                                       2065 non-null   int64  \n",
      " 26  Chronic_kidney_disease                           2065 non-null   int64  \n",
      " 27  Alcoholic                                        2065 non-null   int64  \n",
      " 28  Renal_stone                                      2065 non-null   int64  \n",
      " 29  Breathlessness                                   2065 non-null   int64  \n",
      " 30  Fever                                            2065 non-null   int64  \n",
      " 31  Cold                                             2065 non-null   int64  \n",
      " 32  Cough                                            2065 non-null   int64  \n",
      " 33  Weakness                                         2065 non-null   int64  \n",
      " 34  Vomiting                                         2065 non-null   int64  \n",
      " 35  Sore Throat                                      2065 non-null   int64  \n",
      " 36  Chest pain                                       2065 non-null   int64  \n",
      " 37  Loss of appetite                                 2065 non-null   int64  \n",
      " 38  Nausea                                           2065 non-null   int64  \n",
      " 39  Abdominal pain                                   2065 non-null   int64  \n",
      " 40  Loose motion                                     2065 non-null   int64  \n",
      " 41  Diarrhoea                                        2065 non-null   int64  \n",
      " 42  Outcome                                          2065 non-null   object \n",
      "dtypes: float64(2), int64(35), object(6)\n",
      "memory usage: 709.8+ KB\n"
     ]
    }
   ],
   "source": [
    "df.info()"
   ]
  },
  {
   "cell_type": "code",
   "execution_count": 36,
   "metadata": {
    "colab": {
     "base_uri": "https://localhost:8080/",
     "height": 884
    },
    "colab_type": "code",
    "executionInfo": {
     "elapsed": 21420,
     "status": "ok",
     "timestamp": 1591620456979,
     "user": {
      "displayName": "nikhil jaiswal",
      "photoUrl": "https://lh4.googleusercontent.com/-o-e6IKA0zOQ/AAAAAAAAAAI/AAAAAAAABhk/NX-uYSjsDqE/s64/photo.jpg",
      "userId": "00010766787081222440"
     },
     "user_tz": -330
    },
    "id": "92SlJKO-sIHd",
    "outputId": "a7417266-f1af-48de-cc2f-dc242ca86227"
   },
   "outputs": [
    {
     "name": "stdout",
     "output_type": "stream",
     "text": [
      "<class 'pandas.core.frame.DataFrame'>\n",
      "Int64Index: 2065 entries, 0 to 4622\n",
      "Data columns (total 43 columns):\n",
      " #   Column                                           Non-Null Count  Dtype  \n",
      "---  ------                                           --------------  -----  \n",
      " 0   Age                                              2065 non-null   float64\n",
      " 1   Gender                                           2065 non-null   object \n",
      " 2   Travel to COVID afftected country (Yes/No)       2065 non-null   object \n",
      " 3   Contact with COVID19 case (Yes/No)               2065 non-null   object \n",
      " 4   Current Clinical Status                          2065 non-null   object \n",
      " 5   Is patient member of cluster of COVID19(Yes/No)  2065 non-null   object \n",
      " 6   Total Contacts                                   2065 non-null   float64\n",
      " 7   No                                               2065 non-null   int64  \n",
      " 8   DM                                               2065 non-null   int64  \n",
      " 9   Hypertension                                     2065 non-null   int64  \n",
      " 10  Yes                                              2065 non-null   int64  \n",
      " 11  ANC                                              2065 non-null   int64  \n",
      " 12  IHD                                              2065 non-null   int64  \n",
      " 13  COPD                                             2065 non-null   int64  \n",
      " 14  Asthama                                          2065 non-null   int64  \n",
      " 15  Hypothyroidism                                   2065 non-null   int64  \n",
      " 16  Chronic_renal_disease                            2065 non-null   int64  \n",
      " 17  Obesity                                          2065 non-null   int64  \n",
      " 18  CKD                                              2065 non-null   int64  \n",
      " 19  Alcoholic_liver_disease                          2065 non-null   int64  \n",
      " 20  Tobaco_chewer                                    2065 non-null   int64  \n",
      " 21  Thyroid_disorder                                 2065 non-null   int64  \n",
      " 22  HepatitisB                                       2065 non-null   int64  \n",
      " 23  HIV                                              2065 non-null   int64  \n",
      " 24  Hemiparesis                                      2065 non-null   int64  \n",
      " 25  Bronchitis                                       2065 non-null   int64  \n",
      " 26  Chronic_kidney_disease                           2065 non-null   int64  \n",
      " 27  Alcoholic                                        2065 non-null   int64  \n",
      " 28  Renal_stone                                      2065 non-null   int64  \n",
      " 29  Breathlessness                                   2065 non-null   int64  \n",
      " 30  Fever                                            2065 non-null   int64  \n",
      " 31  Cold                                             2065 non-null   int64  \n",
      " 32  Cough                                            2065 non-null   int64  \n",
      " 33  Weakness                                         2065 non-null   int64  \n",
      " 34  Vomiting                                         2065 non-null   int64  \n",
      " 35  Sore Throat                                      2065 non-null   int64  \n",
      " 36  Chest pain                                       2065 non-null   int64  \n",
      " 37  Loss of appetite                                 2065 non-null   int64  \n",
      " 38  Nausea                                           2065 non-null   int64  \n",
      " 39  Abdominal pain                                   2065 non-null   int64  \n",
      " 40  Loose motion                                     2065 non-null   int64  \n",
      " 41  Diarrhoea                                        2065 non-null   int64  \n",
      " 42  Outcome                                          2065 non-null   object \n",
      "dtypes: float64(2), int64(35), object(6)\n",
      "memory usage: 709.8+ KB\n"
     ]
    }
   ],
   "source": [
    "df = df.dropna()\n",
    "df.info()"
   ]
  },
  {
   "cell_type": "markdown",
   "metadata": {
    "colab_type": "text",
    "id": "ehUuqYoo03jf"
   },
   "source": [
    "## Splitting and transforming the dataset"
   ]
  },
  {
   "cell_type": "code",
   "execution_count": 0,
   "metadata": {
    "colab": {},
    "colab_type": "code",
    "id": "YviWN3mnPbzy"
   },
   "outputs": [],
   "source": [
    "X = df.iloc[:, :-1].values\n",
    "y = df.iloc[:, -1].values"
   ]
  },
  {
   "cell_type": "code",
   "execution_count": 0,
   "metadata": {
    "colab": {},
    "colab_type": "code",
    "id": "5I_AeCOKVUSi"
   },
   "outputs": [],
   "source": [
    "from sklearn.compose import ColumnTransformer\n",
    "from sklearn.preprocessing import OneHotEncoder\n",
    "ct = ColumnTransformer(transformers=[('encoder', OneHotEncoder(), [1,2,3,4,5])], remainder='passthrough')\n",
    "X = np.array(ct.fit_transform(X))"
   ]
  },
  {
   "cell_type": "code",
   "execution_count": 39,
   "metadata": {
    "colab": {
     "base_uri": "https://localhost:8080/",
     "height": 139
    },
    "colab_type": "code",
    "executionInfo": {
     "elapsed": 21279,
     "status": "ok",
     "timestamp": 1591620457730,
     "user": {
      "displayName": "nikhil jaiswal",
      "photoUrl": "https://lh4.googleusercontent.com/-o-e6IKA0zOQ/AAAAAAAAAAI/AAAAAAAABhk/NX-uYSjsDqE/s64/photo.jpg",
      "userId": "00010766787081222440"
     },
     "user_tz": -330
    },
    "id": "MJ0Qa-F5X5xs",
    "outputId": "397e1b86-b0b0-4ed8-9ba9-bc24e9baee84"
   },
   "outputs": [
    {
     "name": "stdout",
     "output_type": "stream",
     "text": [
      "[[0.0 1.0 0.0 ... 0 0 0]\n",
      " [1.0 0.0 0.0 ... 0 0 0]\n",
      " [1.0 0.0 0.0 ... 0 0 0]\n",
      " ...\n",
      " [0.0 1.0 0.0 ... 0 0 0]\n",
      " [0.0 1.0 0.0 ... 0 0 0]\n",
      " [1.0 0.0 0.0 ... 0 0 0]]\n"
     ]
    }
   ],
   "source": [
    "print(X)"
   ]
  },
  {
   "cell_type": "code",
   "execution_count": 40,
   "metadata": {
    "colab": {
     "base_uri": "https://localhost:8080/",
     "height": 35
    },
    "colab_type": "code",
    "executionInfo": {
     "elapsed": 21036,
     "status": "ok",
     "timestamp": 1591620457732,
     "user": {
      "displayName": "nikhil jaiswal",
      "photoUrl": "https://lh4.googleusercontent.com/-o-e6IKA0zOQ/AAAAAAAAAAI/AAAAAAAABhk/NX-uYSjsDqE/s64/photo.jpg",
      "userId": "00010766787081222440"
     },
     "user_tz": -330
    },
    "id": "mAig8E7IVUPL",
    "outputId": "143c4882-7042-4bdf-e27f-cde1ec9257a5"
   },
   "outputs": [
    {
     "name": "stdout",
     "output_type": "stream",
     "text": [
      "[1 1 1 ... 0 0 0]\n"
     ]
    }
   ],
   "source": [
    "from sklearn.preprocessing import LabelEncoder\n",
    "le = LabelEncoder()\n",
    "y = le.fit_transform(y)\n",
    "print(y)"
   ]
  },
  {
   "cell_type": "code",
   "execution_count": 0,
   "metadata": {
    "colab": {},
    "colab_type": "code",
    "id": "0xmwLhk9VUIy"
   },
   "outputs": [],
   "source": []
  },
  {
   "cell_type": "markdown",
   "metadata": {
    "colab_type": "text",
    "id": "aMN-8Rzx1fOI"
   },
   "source": [
    "## Splitting data into Training and Test set"
   ]
  },
  {
   "cell_type": "code",
   "execution_count": 0,
   "metadata": {
    "colab": {},
    "colab_type": "code",
    "id": "OLVSMXyTPmot"
   },
   "outputs": [],
   "source": [
    "from sklearn.model_selection import train_test_split\n",
    "X_train, X_test, y_train, y_test = train_test_split(X, y, test_size = 0.25, random_state = 0)"
   ]
  },
  {
   "cell_type": "markdown",
   "metadata": {
    "colab_type": "text",
    "id": "38miIh5b1sqW"
   },
   "source": [
    "# Logistic Regression\n"
   ]
  },
  {
   "cell_type": "code",
   "execution_count": 42,
   "metadata": {
    "colab": {
     "base_uri": "https://localhost:8080/",
     "height": 263
    },
    "colab_type": "code",
    "executionInfo": {
     "elapsed": 19655,
     "status": "ok",
     "timestamp": 1591620457735,
     "user": {
      "displayName": "nikhil jaiswal",
      "photoUrl": "https://lh4.googleusercontent.com/-o-e6IKA0zOQ/AAAAAAAAAAI/AAAAAAAABhk/NX-uYSjsDqE/s64/photo.jpg",
      "userId": "00010766787081222440"
     },
     "user_tz": -330
    },
    "id": "DiQMebsXWpHF",
    "outputId": "b2f02798-bc96-44fc-8d48-9f9f3424c835"
   },
   "outputs": [
    {
     "name": "stderr",
     "output_type": "stream",
     "text": [
      "/usr/local/lib/python3.6/dist-packages/sklearn/linear_model/_logistic.py:940: ConvergenceWarning: lbfgs failed to converge (status=1):\n",
      "STOP: TOTAL NO. of ITERATIONS REACHED LIMIT.\n",
      "\n",
      "Increase the number of iterations (max_iter) or scale the data as shown in:\n",
      "    https://scikit-learn.org/stable/modules/preprocessing.html\n",
      "Please also refer to the documentation for alternative solver options:\n",
      "    https://scikit-learn.org/stable/modules/linear_model.html#logistic-regression\n",
      "  extra_warning_msg=_LOGISTIC_SOLVER_CONVERGENCE_MSG)\n"
     ]
    },
    {
     "data": {
      "text/plain": [
       "LogisticRegression(C=1.0, class_weight=None, dual=False, fit_intercept=True,\n",
       "                   intercept_scaling=1, l1_ratio=None, max_iter=100,\n",
       "                   multi_class='auto', n_jobs=None, penalty='l2',\n",
       "                   random_state=0, solver='lbfgs', tol=0.0001, verbose=0,\n",
       "                   warm_start=False)"
      ]
     },
     "execution_count": 42,
     "metadata": {
      "tags": []
     },
     "output_type": "execute_result"
    }
   ],
   "source": [
    "from sklearn.linear_model import LogisticRegression\n",
    "classifier_log = LogisticRegression(random_state = 0)\n",
    "classifier_log.fit(X_train, y_train)"
   ]
  },
  {
   "cell_type": "code",
   "execution_count": 43,
   "metadata": {
    "colab": {
     "base_uri": "https://localhost:8080/",
     "height": 139
    },
    "colab_type": "code",
    "executionInfo": {
     "elapsed": 19365,
     "status": "ok",
     "timestamp": 1591620457737,
     "user": {
      "displayName": "nikhil jaiswal",
      "photoUrl": "https://lh4.googleusercontent.com/-o-e6IKA0zOQ/AAAAAAAAAAI/AAAAAAAABhk/NX-uYSjsDqE/s64/photo.jpg",
      "userId": "00010766787081222440"
     },
     "user_tz": -330
    },
    "id": "NVgUFD4FWpK0",
    "outputId": "8b770366-c358-4a59-9dad-3fd349625783"
   },
   "outputs": [
    {
     "name": "stdout",
     "output_type": "stream",
     "text": [
      "[[1 1]\n",
      " [1 1]\n",
      " [1 1]\n",
      " ...\n",
      " [1 1]\n",
      " [1 1]\n",
      " [1 1]]\n"
     ]
    }
   ],
   "source": [
    "y_pred_log = classifier_log.predict(X_test)\n",
    "print(np.concatenate((y_pred_log.reshape(len(y_pred_log),1), y_test.reshape(len(y_test),1)),1))"
   ]
  },
  {
   "cell_type": "code",
   "execution_count": 44,
   "metadata": {
    "colab": {
     "base_uri": "https://localhost:8080/",
     "height": 69
    },
    "colab_type": "code",
    "executionInfo": {
     "elapsed": 19139,
     "status": "ok",
     "timestamp": 1591620457737,
     "user": {
      "displayName": "nikhil jaiswal",
      "photoUrl": "https://lh4.googleusercontent.com/-o-e6IKA0zOQ/AAAAAAAAAAI/AAAAAAAABhk/NX-uYSjsDqE/s64/photo.jpg",
      "userId": "00010766787081222440"
     },
     "user_tz": -330
    },
    "id": "MLMviERQXTix",
    "outputId": "6d389e92-3933-408c-b6f6-1f52108a07a7"
   },
   "outputs": [
    {
     "name": "stdout",
     "output_type": "stream",
     "text": [
      "[[ 29  26]\n",
      " [  4 458]]\n"
     ]
    },
    {
     "data": {
      "text/plain": [
       "0.941972920696325"
      ]
     },
     "execution_count": 44,
     "metadata": {
      "tags": []
     },
     "output_type": "execute_result"
    }
   ],
   "source": [
    "from sklearn.metrics import confusion_matrix, accuracy_score\n",
    "cm_log = confusion_matrix(y_test, y_pred_log)\n",
    "print(cm_log)\n",
    "accuracy_score(y_test, y_pred_log)"
   ]
  },
  {
   "cell_type": "markdown",
   "metadata": {
    "colab_type": "text",
    "id": "jbPwNVzk13Yc"
   },
   "source": [
    "# KNN CLassifier"
   ]
  },
  {
   "cell_type": "code",
   "execution_count": 45,
   "metadata": {
    "colab": {
     "base_uri": "https://localhost:8080/",
     "height": 69
    },
    "colab_type": "code",
    "executionInfo": {
     "elapsed": 18390,
     "status": "ok",
     "timestamp": 1591620457739,
     "user": {
      "displayName": "nikhil jaiswal",
      "photoUrl": "https://lh4.googleusercontent.com/-o-e6IKA0zOQ/AAAAAAAAAAI/AAAAAAAABhk/NX-uYSjsDqE/s64/photo.jpg",
      "userId": "00010766787081222440"
     },
     "user_tz": -330
    },
    "id": "J-KP48QCXv8A",
    "outputId": "ff155e67-b4dc-4638-a384-e941e4c4694f"
   },
   "outputs": [
    {
     "data": {
      "text/plain": [
       "KNeighborsClassifier(algorithm='auto', leaf_size=30, metric='minkowski',\n",
       "                     metric_params=None, n_jobs=None, n_neighbors=5, p=2,\n",
       "                     weights='uniform')"
      ]
     },
     "execution_count": 45,
     "metadata": {
      "tags": []
     },
     "output_type": "execute_result"
    }
   ],
   "source": [
    "from sklearn.neighbors import KNeighborsClassifier\n",
    "classifier_knn = KNeighborsClassifier(n_neighbors = 5, metric = 'minkowski', p = 2)\n",
    "classifier_knn.fit(X_train, y_train)"
   ]
  },
  {
   "cell_type": "code",
   "execution_count": 46,
   "metadata": {
    "colab": {
     "base_uri": "https://localhost:8080/",
     "height": 139
    },
    "colab_type": "code",
    "executionInfo": {
     "elapsed": 18111,
     "status": "ok",
     "timestamp": 1591620457740,
     "user": {
      "displayName": "nikhil jaiswal",
      "photoUrl": "https://lh4.googleusercontent.com/-o-e6IKA0zOQ/AAAAAAAAAAI/AAAAAAAABhk/NX-uYSjsDqE/s64/photo.jpg",
      "userId": "00010766787081222440"
     },
     "user_tz": -330
    },
    "id": "2L3W6IkDX6Vk",
    "outputId": "695782d1-73d8-4967-ec63-01a1d51cb787"
   },
   "outputs": [
    {
     "name": "stdout",
     "output_type": "stream",
     "text": [
      "[[1 1]\n",
      " [1 1]\n",
      " [1 1]\n",
      " ...\n",
      " [1 1]\n",
      " [1 1]\n",
      " [0 1]]\n"
     ]
    }
   ],
   "source": [
    "y_pred_knn = classifier_knn.predict(X_test)\n",
    "print(np.concatenate((y_pred_knn.reshape(len(y_pred_knn),1), y_test.reshape(len(y_test),1)),1))"
   ]
  },
  {
   "cell_type": "code",
   "execution_count": 47,
   "metadata": {
    "colab": {
     "base_uri": "https://localhost:8080/",
     "height": 69
    },
    "colab_type": "code",
    "executionInfo": {
     "elapsed": 2034,
     "status": "ok",
     "timestamp": 1591620473393,
     "user": {
      "displayName": "nikhil jaiswal",
      "photoUrl": "https://lh4.googleusercontent.com/-o-e6IKA0zOQ/AAAAAAAAAAI/AAAAAAAABhk/NX-uYSjsDqE/s64/photo.jpg",
      "userId": "00010766787081222440"
     },
     "user_tz": -330
    },
    "id": "CXS24DOBYFtW",
    "outputId": "97204834-9ef4-487c-efa6-b5e5feaab14b"
   },
   "outputs": [
    {
     "name": "stdout",
     "output_type": "stream",
     "text": [
      "[[ 11  44]\n",
      " [ 13 449]]\n"
     ]
    },
    {
     "data": {
      "text/plain": [
       "0.8897485493230174"
      ]
     },
     "execution_count": 47,
     "metadata": {
      "tags": []
     },
     "output_type": "execute_result"
    }
   ],
   "source": [
    "cm_knn = confusion_matrix(y_test, y_pred_knn)\n",
    "print(cm_knn)\n",
    "accuracy_score(y_test, y_pred_knn)"
   ]
  },
  {
   "cell_type": "markdown",
   "metadata": {
    "colab_type": "text",
    "id": "IdutJ9ID18HT"
   },
   "source": [
    "# Support vector Classifier\n"
   ]
  },
  {
   "cell_type": "code",
   "execution_count": 48,
   "metadata": {
    "colab": {
     "base_uri": "https://localhost:8080/",
     "height": 87
    },
    "colab_type": "code",
    "executionInfo": {
     "elapsed": 1269,
     "status": "ok",
     "timestamp": 1591620475746,
     "user": {
      "displayName": "nikhil jaiswal",
      "photoUrl": "https://lh4.googleusercontent.com/-o-e6IKA0zOQ/AAAAAAAAAAI/AAAAAAAABhk/NX-uYSjsDqE/s64/photo.jpg",
      "userId": "00010766787081222440"
     },
     "user_tz": -330
    },
    "id": "mlaygrUiYkkv",
    "outputId": "c8d1df41-7a68-4a17-8100-ccca3597f6ee"
   },
   "outputs": [
    {
     "data": {
      "text/plain": [
       "SVC(C=1.0, break_ties=False, cache_size=200, class_weight=None, coef0=0.0,\n",
       "    decision_function_shape='ovr', degree=3, gamma='scale', kernel='linear',\n",
       "    max_iter=-1, probability=False, random_state=0, shrinking=True, tol=0.001,\n",
       "    verbose=False)"
      ]
     },
     "execution_count": 48,
     "metadata": {
      "tags": []
     },
     "output_type": "execute_result"
    }
   ],
   "source": [
    "from sklearn.svm import SVC\n",
    "classifier_svc = SVC(kernel = 'linear', random_state = 0)\n",
    "classifier_svc.fit(X_train, y_train)"
   ]
  },
  {
   "cell_type": "code",
   "execution_count": 49,
   "metadata": {
    "colab": {
     "base_uri": "https://localhost:8080/",
     "height": 139
    },
    "colab_type": "code",
    "executionInfo": {
     "elapsed": 1714,
     "status": "ok",
     "timestamp": 1591620476591,
     "user": {
      "displayName": "nikhil jaiswal",
      "photoUrl": "https://lh4.googleusercontent.com/-o-e6IKA0zOQ/AAAAAAAAAAI/AAAAAAAABhk/NX-uYSjsDqE/s64/photo.jpg",
      "userId": "00010766787081222440"
     },
     "user_tz": -330
    },
    "id": "8GTQBVfZYokH",
    "outputId": "893267b7-44c0-4277-80f9-2bb582df7b19"
   },
   "outputs": [
    {
     "name": "stdout",
     "output_type": "stream",
     "text": [
      "[[1 1]\n",
      " [1 1]\n",
      " [1 1]\n",
      " ...\n",
      " [1 1]\n",
      " [1 1]\n",
      " [1 1]]\n"
     ]
    }
   ],
   "source": [
    "y_pred_svc = classifier_svc.predict(X_test)\n",
    "print(np.concatenate((y_pred_svc.reshape(len(y_pred_svc),1), y_test.reshape(len(y_test),1)),1))"
   ]
  },
  {
   "cell_type": "code",
   "execution_count": 50,
   "metadata": {
    "colab": {
     "base_uri": "https://localhost:8080/",
     "height": 69
    },
    "colab_type": "code",
    "executionInfo": {
     "elapsed": 1274,
     "status": "ok",
     "timestamp": 1591620476593,
     "user": {
      "displayName": "nikhil jaiswal",
      "photoUrl": "https://lh4.googleusercontent.com/-o-e6IKA0zOQ/AAAAAAAAAAI/AAAAAAAABhk/NX-uYSjsDqE/s64/photo.jpg",
      "userId": "00010766787081222440"
     },
     "user_tz": -330
    },
    "id": "3xUoSTn1ZJXl",
    "outputId": "f7a337b7-58fd-4086-cc9b-7349f4d9b702"
   },
   "outputs": [
    {
     "name": "stdout",
     "output_type": "stream",
     "text": [
      "[[ 26  29]\n",
      " [  5 457]]\n"
     ]
    },
    {
     "data": {
      "text/plain": [
       "0.9342359767891683"
      ]
     },
     "execution_count": 50,
     "metadata": {
      "tags": []
     },
     "output_type": "execute_result"
    }
   ],
   "source": [
    "cm_svc = confusion_matrix(y_test, y_pred_svc)\n",
    "print(cm_svc)\n",
    "accuracy_score(y_test, y_pred_svc)"
   ]
  },
  {
   "cell_type": "markdown",
   "metadata": {
    "colab_type": "text",
    "id": "kPOdZ3Le2B63"
   },
   "source": [
    "# Support Vector 'rbf' Classifier"
   ]
  },
  {
   "cell_type": "code",
   "execution_count": 51,
   "metadata": {
    "colab": {
     "base_uri": "https://localhost:8080/",
     "height": 87
    },
    "colab_type": "code",
    "executionInfo": {
     "elapsed": 1133,
     "status": "ok",
     "timestamp": 1591620478493,
     "user": {
      "displayName": "nikhil jaiswal",
      "photoUrl": "https://lh4.googleusercontent.com/-o-e6IKA0zOQ/AAAAAAAAAAI/AAAAAAAABhk/NX-uYSjsDqE/s64/photo.jpg",
      "userId": "00010766787081222440"
     },
     "user_tz": -330
    },
    "id": "E-xE86MbgMi7",
    "outputId": "8c9841d6-3010-415d-c0ed-76b529d6f4a5"
   },
   "outputs": [
    {
     "data": {
      "text/plain": [
       "SVC(C=1.0, break_ties=False, cache_size=200, class_weight=None, coef0=0.0,\n",
       "    decision_function_shape='ovr', degree=3, gamma='scale', kernel='rbf',\n",
       "    max_iter=-1, probability=False, random_state=1, shrinking=True, tol=0.001,\n",
       "    verbose=False)"
      ]
     },
     "execution_count": 51,
     "metadata": {
      "tags": []
     },
     "output_type": "execute_result"
    }
   ],
   "source": [
    "from sklearn.svm import SVC\n",
    "classifier_svcrbf = SVC(kernel = 'rbf', random_state = 1)\n",
    "classifier_svcrbf.fit(X_train, y_train)"
   ]
  },
  {
   "cell_type": "code",
   "execution_count": 52,
   "metadata": {
    "colab": {
     "base_uri": "https://localhost:8080/",
     "height": 139
    },
    "colab_type": "code",
    "executionInfo": {
     "elapsed": 1467,
     "status": "ok",
     "timestamp": 1591620479154,
     "user": {
      "displayName": "nikhil jaiswal",
      "photoUrl": "https://lh4.googleusercontent.com/-o-e6IKA0zOQ/AAAAAAAAAAI/AAAAAAAABhk/NX-uYSjsDqE/s64/photo.jpg",
      "userId": "00010766787081222440"
     },
     "user_tz": -330
    },
    "id": "6sVi5Q4ZglUz",
    "outputId": "53bcf2cd-dd2e-4ad9-b84a-6b15142b8a76"
   },
   "outputs": [
    {
     "name": "stdout",
     "output_type": "stream",
     "text": [
      "[[1 1]\n",
      " [1 1]\n",
      " [1 1]\n",
      " ...\n",
      " [1 1]\n",
      " [1 1]\n",
      " [1 1]]\n"
     ]
    }
   ],
   "source": [
    "y_pred_svcrbf = classifier_svcrbf.predict(X_test)\n",
    "print(np.concatenate((y_pred_svcrbf.reshape(len(y_pred_svcrbf),1), y_test.reshape(len(y_test),1)),1))"
   ]
  },
  {
   "cell_type": "code",
   "execution_count": 53,
   "metadata": {
    "colab": {
     "base_uri": "https://localhost:8080/",
     "height": 69
    },
    "colab_type": "code",
    "executionInfo": {
     "elapsed": 1052,
     "status": "ok",
     "timestamp": 1591620479157,
     "user": {
      "displayName": "nikhil jaiswal",
      "photoUrl": "https://lh4.googleusercontent.com/-o-e6IKA0zOQ/AAAAAAAAAAI/AAAAAAAABhk/NX-uYSjsDqE/s64/photo.jpg",
      "userId": "00010766787081222440"
     },
     "user_tz": -330
    },
    "id": "qA06gXCCg_DP",
    "outputId": "cb0fc510-4ae5-4b00-c13f-01991791c6a7"
   },
   "outputs": [
    {
     "name": "stdout",
     "output_type": "stream",
     "text": [
      "[[  0  55]\n",
      " [  0 462]]\n"
     ]
    },
    {
     "data": {
      "text/plain": [
       "0.8936170212765957"
      ]
     },
     "execution_count": 53,
     "metadata": {
      "tags": []
     },
     "output_type": "execute_result"
    }
   ],
   "source": [
    "cm_svcrbf = confusion_matrix(y_test, y_pred_svcrbf)\n",
    "print(cm_svcrbf)\n",
    "accuracy_score(y_test, y_pred_svcrbf)"
   ]
  },
  {
   "cell_type": "markdown",
   "metadata": {
    "colab_type": "text",
    "id": "v738eLAG2KDR"
   },
   "source": [
    "# Gaussian NB Classifier"
   ]
  },
  {
   "cell_type": "code",
   "execution_count": 54,
   "metadata": {
    "colab": {
     "base_uri": "https://localhost:8080/",
     "height": 35
    },
    "colab_type": "code",
    "executionInfo": {
     "elapsed": 2077,
     "status": "ok",
     "timestamp": 1591620482245,
     "user": {
      "displayName": "nikhil jaiswal",
      "photoUrl": "https://lh4.googleusercontent.com/-o-e6IKA0zOQ/AAAAAAAAAAI/AAAAAAAABhk/NX-uYSjsDqE/s64/photo.jpg",
      "userId": "00010766787081222440"
     },
     "user_tz": -330
    },
    "id": "mPG03whUh7oS",
    "outputId": "8fc2d4fd-bec4-46eb-bba0-157b36f09ad6"
   },
   "outputs": [
    {
     "data": {
      "text/plain": [
       "GaussianNB(priors=None, var_smoothing=1e-09)"
      ]
     },
     "execution_count": 54,
     "metadata": {
      "tags": []
     },
     "output_type": "execute_result"
    }
   ],
   "source": [
    "from sklearn.naive_bayes import GaussianNB\n",
    "classifier_nb = GaussianNB()\n",
    "classifier_nb.fit(X_train, y_train)"
   ]
  },
  {
   "cell_type": "code",
   "execution_count": 55,
   "metadata": {
    "colab": {
     "base_uri": "https://localhost:8080/",
     "height": 139
    },
    "colab_type": "code",
    "executionInfo": {
     "elapsed": 2767,
     "status": "ok",
     "timestamp": 1591620483314,
     "user": {
      "displayName": "nikhil jaiswal",
      "photoUrl": "https://lh4.googleusercontent.com/-o-e6IKA0zOQ/AAAAAAAAAAI/AAAAAAAABhk/NX-uYSjsDqE/s64/photo.jpg",
      "userId": "00010766787081222440"
     },
     "user_tz": -330
    },
    "id": "4scjauRDsZYP",
    "outputId": "3885c78f-5481-4ef7-bd2e-80c8eba105d0"
   },
   "outputs": [
    {
     "name": "stdout",
     "output_type": "stream",
     "text": [
      "[[1 1]\n",
      " [1 1]\n",
      " [1 1]\n",
      " ...\n",
      " [1 1]\n",
      " [1 1]\n",
      " [1 1]]\n"
     ]
    }
   ],
   "source": [
    "y_pred_nb = classifier_nb.predict(X_test)\n",
    "print(np.concatenate((y_pred_nb.reshape(len(y_pred_nb),1), y_test.reshape(len(y_test),1)),1))"
   ]
  },
  {
   "cell_type": "code",
   "execution_count": 56,
   "metadata": {
    "colab": {
     "base_uri": "https://localhost:8080/",
     "height": 69
    },
    "colab_type": "code",
    "executionInfo": {
     "elapsed": 2413,
     "status": "ok",
     "timestamp": 1591620483316,
     "user": {
      "displayName": "nikhil jaiswal",
      "photoUrl": "https://lh4.googleusercontent.com/-o-e6IKA0zOQ/AAAAAAAAAAI/AAAAAAAABhk/NX-uYSjsDqE/s64/photo.jpg",
      "userId": "00010766787081222440"
     },
     "user_tz": -330
    },
    "id": "xTljLy-HsMK_",
    "outputId": "9a49e9f2-f2f2-49c2-c6cf-ea115dde2f9d"
   },
   "outputs": [
    {
     "name": "stdout",
     "output_type": "stream",
     "text": [
      "[[ 33  22]\n",
      " [ 12 450]]\n"
     ]
    },
    {
     "data": {
      "text/plain": [
       "0.9342359767891683"
      ]
     },
     "execution_count": 56,
     "metadata": {
      "tags": []
     },
     "output_type": "execute_result"
    }
   ],
   "source": [
    "cm_nb = confusion_matrix(y_test, y_pred_nb)\n",
    "print(cm_nb)\n",
    "accuracy_score(y_test, y_pred_nb)"
   ]
  },
  {
   "cell_type": "markdown",
   "metadata": {
    "colab_type": "text",
    "id": "ErkNRP2b2PgT"
   },
   "source": [
    "# Decision Tree"
   ]
  },
  {
   "cell_type": "code",
   "execution_count": 57,
   "metadata": {
    "colab": {
     "base_uri": "https://localhost:8080/",
     "height": 121
    },
    "colab_type": "code",
    "executionInfo": {
     "elapsed": 1377,
     "status": "ok",
     "timestamp": 1591620485873,
     "user": {
      "displayName": "nikhil jaiswal",
      "photoUrl": "https://lh4.googleusercontent.com/-o-e6IKA0zOQ/AAAAAAAAAAI/AAAAAAAABhk/NX-uYSjsDqE/s64/photo.jpg",
      "userId": "00010766787081222440"
     },
     "user_tz": -330
    },
    "id": "Rva3WH74su-l",
    "outputId": "16176a8e-08b2-486f-f1f6-8486d99af8b9"
   },
   "outputs": [
    {
     "data": {
      "text/plain": [
       "DecisionTreeClassifier(ccp_alpha=0.0, class_weight=None, criterion='entropy',\n",
       "                       max_depth=None, max_features=None, max_leaf_nodes=None,\n",
       "                       min_impurity_decrease=0.0, min_impurity_split=None,\n",
       "                       min_samples_leaf=1, min_samples_split=2,\n",
       "                       min_weight_fraction_leaf=0.0, presort='deprecated',\n",
       "                       random_state=2, splitter='best')"
      ]
     },
     "execution_count": 57,
     "metadata": {
      "tags": []
     },
     "output_type": "execute_result"
    }
   ],
   "source": [
    "from sklearn.tree import DecisionTreeClassifier\n",
    "classifier_dt = DecisionTreeClassifier(criterion = 'entropy', random_state = 2)\n",
    "classifier_dt.fit(X_train, y_train)"
   ]
  },
  {
   "cell_type": "code",
   "execution_count": 58,
   "metadata": {
    "colab": {
     "base_uri": "https://localhost:8080/",
     "height": 139
    },
    "colab_type": "code",
    "executionInfo": {
     "elapsed": 1729,
     "status": "ok",
     "timestamp": 1591620486509,
     "user": {
      "displayName": "nikhil jaiswal",
      "photoUrl": "https://lh4.googleusercontent.com/-o-e6IKA0zOQ/AAAAAAAAAAI/AAAAAAAABhk/NX-uYSjsDqE/s64/photo.jpg",
      "userId": "00010766787081222440"
     },
     "user_tz": -330
    },
    "id": "GAmq7Yqis40j",
    "outputId": "c2c9a3f6-f6c7-4877-cc95-89d3209201b6"
   },
   "outputs": [
    {
     "name": "stdout",
     "output_type": "stream",
     "text": [
      "[[1 1]\n",
      " [1 1]\n",
      " [1 1]\n",
      " ...\n",
      " [1 1]\n",
      " [1 1]\n",
      " [0 1]]\n"
     ]
    }
   ],
   "source": [
    "y_pred_dt = classifier_dt.predict(X_test)\n",
    "print(np.concatenate((y_pred_dt.reshape(len(y_pred_dt),1), y_test.reshape(len(y_test),1)),1))"
   ]
  },
  {
   "cell_type": "code",
   "execution_count": 59,
   "metadata": {
    "colab": {
     "base_uri": "https://localhost:8080/",
     "height": 69
    },
    "colab_type": "code",
    "executionInfo": {
     "elapsed": 1684,
     "status": "ok",
     "timestamp": 1591620487794,
     "user": {
      "displayName": "nikhil jaiswal",
      "photoUrl": "https://lh4.googleusercontent.com/-o-e6IKA0zOQ/AAAAAAAAAAI/AAAAAAAABhk/NX-uYSjsDqE/s64/photo.jpg",
      "userId": "00010766787081222440"
     },
     "user_tz": -330
    },
    "id": "WRCT3uaSs44K",
    "outputId": "f2cc0c80-eaf7-48de-9f21-c526c8f96577"
   },
   "outputs": [
    {
     "name": "stdout",
     "output_type": "stream",
     "text": [
      "[[ 38  17]\n",
      " [ 29 433]]\n"
     ]
    },
    {
     "data": {
      "text/plain": [
       "0.9110251450676983"
      ]
     },
     "execution_count": 59,
     "metadata": {
      "tags": []
     },
     "output_type": "execute_result"
    }
   ],
   "source": [
    "cm_dt = confusion_matrix(y_test, y_pred_dt)\n",
    "print(cm_dt)\n",
    "accuracy_score(y_test, y_pred_dt)"
   ]
  },
  {
   "cell_type": "markdown",
   "metadata": {
    "colab_type": "text",
    "id": "hVbNwszg2T_I"
   },
   "source": [
    "# Random Forest"
   ]
  },
  {
   "cell_type": "code",
   "execution_count": 60,
   "metadata": {
    "colab": {
     "base_uri": "https://localhost:8080/",
     "height": 156
    },
    "colab_type": "code",
    "executionInfo": {
     "elapsed": 1645,
     "status": "ok",
     "timestamp": 1591620490698,
     "user": {
      "displayName": "nikhil jaiswal",
      "photoUrl": "https://lh4.googleusercontent.com/-o-e6IKA0zOQ/AAAAAAAAAAI/AAAAAAAABhk/NX-uYSjsDqE/s64/photo.jpg",
      "userId": "00010766787081222440"
     },
     "user_tz": -330
    },
    "id": "5cOmlTlTuG47",
    "outputId": "bcf36fb1-8244-4b3e-85e7-d20c2639d11d"
   },
   "outputs": [
    {
     "data": {
      "text/plain": [
       "RandomForestClassifier(bootstrap=True, ccp_alpha=0.0, class_weight=None,\n",
       "                       criterion='gini', max_depth=None, max_features='auto',\n",
       "                       max_leaf_nodes=None, max_samples=None,\n",
       "                       min_impurity_decrease=0.0, min_impurity_split=None,\n",
       "                       min_samples_leaf=1, min_samples_split=2,\n",
       "                       min_weight_fraction_leaf=0.0, n_estimators=100,\n",
       "                       n_jobs=None, oob_score=False, random_state=10, verbose=0,\n",
       "                       warm_start=False)"
      ]
     },
     "execution_count": 60,
     "metadata": {
      "tags": []
     },
     "output_type": "execute_result"
    }
   ],
   "source": [
    "from sklearn.ensemble import RandomForestClassifier\n",
    "classifier_rf = RandomForestClassifier(n_estimators = 100, criterion ='gini',random_state=10)\n",
    "classifier_rf.fit(X_train, y_train)"
   ]
  },
  {
   "cell_type": "code",
   "execution_count": 61,
   "metadata": {
    "colab": {
     "base_uri": "https://localhost:8080/",
     "height": 139
    },
    "colab_type": "code",
    "executionInfo": {
     "elapsed": 3487,
     "status": "ok",
     "timestamp": 1591620492938,
     "user": {
      "displayName": "nikhil jaiswal",
      "photoUrl": "https://lh4.googleusercontent.com/-o-e6IKA0zOQ/AAAAAAAAAAI/AAAAAAAABhk/NX-uYSjsDqE/s64/photo.jpg",
      "userId": "00010766787081222440"
     },
     "user_tz": -330
    },
    "id": "iUvt7bpVugD5",
    "outputId": "e29e1623-f30a-40bf-e052-aa70c50b1712"
   },
   "outputs": [
    {
     "name": "stdout",
     "output_type": "stream",
     "text": [
      "[[1 1]\n",
      " [1 1]\n",
      " [1 1]\n",
      " ...\n",
      " [1 1]\n",
      " [1 1]\n",
      " [0 1]]\n"
     ]
    }
   ],
   "source": [
    "y_pred_rf = classifier_rf.predict(X_test)\n",
    "print(np.concatenate((y_pred_rf.reshape(len(y_pred_rf),1), y_test.reshape(len(y_test),1)),1))"
   ]
  },
  {
   "cell_type": "code",
   "execution_count": 62,
   "metadata": {
    "colab": {
     "base_uri": "https://localhost:8080/",
     "height": 69
    },
    "colab_type": "code",
    "executionInfo": {
     "elapsed": 3132,
     "status": "ok",
     "timestamp": 1591620492943,
     "user": {
      "displayName": "nikhil jaiswal",
      "photoUrl": "https://lh4.googleusercontent.com/-o-e6IKA0zOQ/AAAAAAAAAAI/AAAAAAAABhk/NX-uYSjsDqE/s64/photo.jpg",
      "userId": "00010766787081222440"
     },
     "user_tz": -330
    },
    "id": "yK7nDOVZua8q",
    "outputId": "c5636338-fa49-48cf-aba7-088cb0697f0c"
   },
   "outputs": [
    {
     "name": "stdout",
     "output_type": "stream",
     "text": [
      "[[ 31  24]\n",
      " [ 13 449]]\n"
     ]
    },
    {
     "data": {
      "text/plain": [
       "0.9284332688588007"
      ]
     },
     "execution_count": 62,
     "metadata": {
      "tags": []
     },
     "output_type": "execute_result"
    }
   ],
   "source": [
    "cm_rf = confusion_matrix(y_test, y_pred_rf)\n",
    "print(cm_rf)\n",
    "accuracy_score(y_test, y_pred_rf)"
   ]
  },
  {
   "cell_type": "markdown",
   "metadata": {
    "colab_type": "text",
    "id": "dus2wfW42ZO2"
   },
   "source": [
    "# Nearest Centroid Classifier"
   ]
  },
  {
   "cell_type": "code",
   "execution_count": 63,
   "metadata": {
    "colab": {
     "base_uri": "https://localhost:8080/",
     "height": 35
    },
    "colab_type": "code",
    "executionInfo": {
     "elapsed": 921,
     "status": "ok",
     "timestamp": 1591620495057,
     "user": {
      "displayName": "nikhil jaiswal",
      "photoUrl": "https://lh4.googleusercontent.com/-o-e6IKA0zOQ/AAAAAAAAAAI/AAAAAAAABhk/NX-uYSjsDqE/s64/photo.jpg",
      "userId": "00010766787081222440"
     },
     "user_tz": -330
    },
    "id": "0kstPZWm-Srt",
    "outputId": "30dd8638-fce0-4694-c35c-892ff4295688"
   },
   "outputs": [
    {
     "data": {
      "text/plain": [
       "NearestCentroid(metric='euclidean', shrink_threshold=None)"
      ]
     },
     "execution_count": 63,
     "metadata": {
      "tags": []
     },
     "output_type": "execute_result"
    }
   ],
   "source": [
    "\n",
    "from sklearn.neighbors import NearestCentroid\n",
    "classifier_nc = NearestCentroid()\n",
    "classifier_nc.fit(X_train,y_train)"
   ]
  },
  {
   "cell_type": "code",
   "execution_count": 64,
   "metadata": {
    "colab": {
     "base_uri": "https://localhost:8080/",
     "height": 139
    },
    "colab_type": "code",
    "executionInfo": {
     "elapsed": 1366,
     "status": "ok",
     "timestamp": 1591620495874,
     "user": {
      "displayName": "nikhil jaiswal",
      "photoUrl": "https://lh4.googleusercontent.com/-o-e6IKA0zOQ/AAAAAAAAAAI/AAAAAAAABhk/NX-uYSjsDqE/s64/photo.jpg",
      "userId": "00010766787081222440"
     },
     "user_tz": -330
    },
    "id": "hbrzn_Vo-4Q-",
    "outputId": "858e4e61-2820-4873-c9e7-70f65f635433"
   },
   "outputs": [
    {
     "name": "stdout",
     "output_type": "stream",
     "text": [
      "[[0 1]\n",
      " [1 1]\n",
      " [1 1]\n",
      " ...\n",
      " [1 1]\n",
      " [1 1]\n",
      " [0 1]]\n"
     ]
    }
   ],
   "source": [
    "y_pred_nc = classifier_nc.predict(X_test)\n",
    "print(np.concatenate((y_pred_nc.reshape(len(y_pred_nc),1), y_test.reshape(len(y_test),1)),1))"
   ]
  },
  {
   "cell_type": "code",
   "execution_count": 65,
   "metadata": {
    "colab": {
     "base_uri": "https://localhost:8080/",
     "height": 69
    },
    "colab_type": "code",
    "executionInfo": {
     "elapsed": 993,
     "status": "ok",
     "timestamp": 1591620495876,
     "user": {
      "displayName": "nikhil jaiswal",
      "photoUrl": "https://lh4.googleusercontent.com/-o-e6IKA0zOQ/AAAAAAAAAAI/AAAAAAAABhk/NX-uYSjsDqE/s64/photo.jpg",
      "userId": "00010766787081222440"
     },
     "user_tz": -330
    },
    "id": "kROYnPyp_WEy",
    "outputId": "26f6fbcd-4e54-4c20-db89-f82ef34739d8"
   },
   "outputs": [
    {
     "name": "stdout",
     "output_type": "stream",
     "text": [
      "[[ 41  14]\n",
      " [127 335]]\n"
     ]
    },
    {
     "data": {
      "text/plain": [
       "0.7272727272727273"
      ]
     },
     "execution_count": 65,
     "metadata": {
      "tags": []
     },
     "output_type": "execute_result"
    }
   ],
   "source": [
    "cm_nc = confusion_matrix(y_test, y_pred_nc)\n",
    "print(cm_nc)\n",
    "accuracy_score(y_test, y_pred_nc)"
   ]
  },
  {
   "cell_type": "code",
   "execution_count": 0,
   "metadata": {
    "colab": {},
    "colab_type": "code",
    "id": "jGMCsbbMo6l3"
   },
   "outputs": [],
   "source": []
  }
 ],
 "metadata": {
  "colab": {
   "collapsed_sections": [],
   "name": "Project_classification(Death/Discharge).ipynb",
   "provenance": [
    {
     "file_id": "1n3_Kh-_SK2iK2qJLgSHD4JnredxiWdtv",
     "timestamp": 1591605318099
    },
    {
     "file_id": "1CqNh2enhwgcOjKtKB7O7bBiruQ7c4dIe",
     "timestamp": 1591605070493
    },
    {
     "file_id": "1qclVDJBuVkjLdHrn9i9VaYFLQJ_yc_Hb",
     "timestamp": 1590390527160
    },
    {
     "file_id": "1t7D8skIV2T55w4US5QuCFDVBTPzvYcHp",
     "timestamp": 1590343122674
    },
    {
     "file_id": "13R8KuLIpORpuPOqwr2jNn9fUDWl2vTqF",
     "timestamp": 1590201968997
    },
    {
     "file_id": "111AO-raw2Q0m_26EplL3Pt5b7WJArLEE",
     "timestamp": 1590197777897
    }
   ],
   "toc_visible": true
  },
  "kernelspec": {
   "display_name": "Python 3",
   "language": "python",
   "name": "python3"
  },
  "language_info": {
   "codemirror_mode": {
    "name": "ipython",
    "version": 3
   },
   "file_extension": ".py",
   "mimetype": "text/x-python",
   "name": "python",
   "nbconvert_exporter": "python",
   "pygments_lexer": "ipython3",
   "version": "3.7.7"
  }
 },
 "nbformat": 4,
 "nbformat_minor": 1
}
