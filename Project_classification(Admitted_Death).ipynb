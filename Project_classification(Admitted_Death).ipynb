{
 "cells": [
  {
   "cell_type": "code",
   "execution_count": 1,
   "metadata": {
    "colab": {},
    "colab_type": "code",
    "id": "qNW_ZZke-wed"
   },
   "outputs": [],
   "source": [
    "import pandas as pd\n",
    "import numpy as np\n",
    "import matplotlib.pyplot as plt"
   ]
  },
  {
   "cell_type": "code",
   "execution_count": 2,
   "metadata": {
    "colab": {},
    "colab_type": "code",
    "id": "yoJNVY8K_GTS"
   },
   "outputs": [],
   "source": [
    "df = pd.read_excel('C:\\\\Users\\\\jaisw\\\\Desktop\\\\Sabni_sir_project\\\\Covid_classification_project_dataset.xlsx')"
   ]
  },
  {
   "cell_type": "code",
   "execution_count": 3,
   "metadata": {
    "colab": {
     "base_uri": "https://localhost:8080/",
     "height": 659
    },
    "colab_type": "code",
    "id": "8NkjLUx-AC7H",
    "outputId": "5361b0c1-be67-4220-a79a-3112e810a6de"
   },
   "outputs": [
    {
     "name": "stdout",
     "output_type": "stream",
     "text": [
      "<class 'pandas.core.frame.DataFrame'>\n",
      "RangeIndex: 4626 entries, 0 to 4625\n",
      "Data columns (total 30 columns):\n",
      " #   Column                                           Non-Null Count  Dtype         \n",
      "---  ------                                           --------------  -----         \n",
      " 0   Sr No                                            4626 non-null   int64         \n",
      " 1   Hospital Code                                    4626 non-null   object        \n",
      " 2   Case No.                                         4625 non-null   object        \n",
      " 3   Age                                              4600 non-null   float64       \n",
      " 4   Gender                                           4624 non-null   object        \n",
      " 5   Ward                                             4623 non-null   object        \n",
      " 6   Occupation                                       348 non-null    object        \n",
      " 7   District                                         4626 non-null   object        \n",
      " 8   State                                            4626 non-null   object        \n",
      " 9   Date of arrival in India                         13 non-null     datetime64[ns]\n",
      " 10  Travel to COVID afftected country (Yes/No)       134 non-null    object        \n",
      " 11  Flight No                                        133 non-null    object        \n",
      " 12  Seat No                                          6 non-null      object        \n",
      " 13  Contact with COVID19 case (Yes/No)               690 non-null    object        \n",
      " 14  Date of onset of symptoms                        3139 non-null   datetime64[ns]\n",
      " 15  Symptoms at admission                            3720 non-null   object        \n",
      " 16  Date of Isolation                                4625 non-null   datetime64[ns]\n",
      " 17  Sample collected (Yes/No)                        4206 non-null   object        \n",
      " 18  Date of sample collection                        4392 non-null   datetime64[ns]\n",
      " 19  Sample collection centre                         4516 non-null   object        \n",
      " 20  Sample tested at                                 4530 non-null   object        \n",
      " 21  Lab that confirmed the result                    4510 non-null   object        \n",
      " 22  Underlying medical condition                     327 non-null    object        \n",
      " 23  Current Clinical Status                          4461 non-null   object        \n",
      " 24  Outcome (Discharged/Death/Admitted)              4623 non-null   object        \n",
      " 25  Date of outcome                                  2770 non-null   object        \n",
      " 26  Is patient member of cluster of COVID19(Yes/No)  722 non-null    object        \n",
      " 27  Total Contacts                                   3113 non-null   float64       \n",
      " 28  Remarks                                          92 non-null     object        \n",
      " 29  Date of Reporting                                1627 non-null   datetime64[ns]\n",
      "dtypes: datetime64[ns](5), float64(2), int64(1), object(22)\n",
      "memory usage: 1.1+ MB\n",
      "None\n"
     ]
    }
   ],
   "source": [
    "print(df.info())"
   ]
  },
  {
   "cell_type": "markdown",
   "metadata": {
    "colab_type": "text",
    "id": "fQqxMOV4zc5q"
   },
   "source": [
    "## Dropping irrelevant columns"
   ]
  },
  {
   "cell_type": "code",
   "execution_count": 4,
   "metadata": {
    "colab": {},
    "colab_type": "code",
    "id": "IyyTwrxHOhGV"
   },
   "outputs": [],
   "source": [
    "df=df.drop(['Sr No', 'Hospital Code','Case No.','Occupation','District', 'State','Ward',\n",
    "            'Sample collected (Yes/No)','Date of arrival in India','Flight No','Seat No',\n",
    "            'Date of onset of symptoms','Date of sample collection','Remarks','Sample collection centre',\n",
    "            'Sample tested at','Lab that confirmed the result',\n",
    "            'Date of Reporting','Date of Isolation','Date of outcome'],axis=1)  "
   ]
  },
  {
   "cell_type": "code",
   "execution_count": 5,
   "metadata": {
    "colab": {
     "base_uri": "https://localhost:8080/",
     "height": 312
    },
    "colab_type": "code",
    "id": "qak-IMoVQL5y",
    "outputId": "dd5d6b71-d62b-4d2e-8afc-66b51d4d571c"
   },
   "outputs": [
    {
     "name": "stdout",
     "output_type": "stream",
     "text": [
      "<class 'pandas.core.frame.DataFrame'>\n",
      "RangeIndex: 4626 entries, 0 to 4625\n",
      "Data columns (total 10 columns):\n",
      " #   Column                                           Non-Null Count  Dtype  \n",
      "---  ------                                           --------------  -----  \n",
      " 0   Age                                              4600 non-null   float64\n",
      " 1   Gender                                           4624 non-null   object \n",
      " 2   Travel to COVID afftected country (Yes/No)       134 non-null    object \n",
      " 3   Contact with COVID19 case (Yes/No)               690 non-null    object \n",
      " 4   Symptoms at admission                            3720 non-null   object \n",
      " 5   Underlying medical condition                     327 non-null    object \n",
      " 6   Current Clinical Status                          4461 non-null   object \n",
      " 7   Outcome (Discharged/Death/Admitted)              4623 non-null   object \n",
      " 8   Is patient member of cluster of COVID19(Yes/No)  722 non-null    object \n",
      " 9   Total Contacts                                   3113 non-null   float64\n",
      "dtypes: float64(2), object(8)\n",
      "memory usage: 361.5+ KB\n"
     ]
    }
   ],
   "source": [
    "df.info()"
   ]
  },
  {
   "cell_type": "markdown",
   "metadata": {
    "colab_type": "text",
    "id": "l6Dv0a9MzhEj"
   },
   "source": [
    "## Filling Missing Age Values"
   ]
  },
  {
   "cell_type": "code",
   "execution_count": 6,
   "metadata": {
    "colab": {
     "base_uri": "https://localhost:8080/",
     "height": 35
    },
    "colab_type": "code",
    "id": "VdLB2IsJQd-T",
    "outputId": "33af0ccb-24fe-4b4a-b1b2-927d87d196b7"
   },
   "outputs": [
    {
     "data": {
      "text/plain": [
       "37.79836956521739"
      ]
     },
     "execution_count": 6,
     "metadata": {},
     "output_type": "execute_result"
    }
   ],
   "source": [
    "df['Age'].mean()"
   ]
  },
  {
   "cell_type": "code",
   "execution_count": 7,
   "metadata": {
    "colab": {},
    "colab_type": "code",
    "id": "yc9z6u7wkf0J"
   },
   "outputs": [],
   "source": [
    "df['Age'].fillna(38,inplace=True)"
   ]
  },
  {
   "cell_type": "markdown",
   "metadata": {
    "colab_type": "text",
    "id": "liiaBXqGvXUd"
   },
   "source": [
    "## Cleaning 'Underlying medical condition'"
   ]
  },
  {
   "cell_type": "code",
   "execution_count": 8,
   "metadata": {
    "colab": {
     "base_uri": "https://localhost:8080/",
     "height": 884
    },
    "colab_type": "code",
    "id": "Yay1Tw6cjSbK",
    "outputId": "6886bb8e-4ab2-4ba9-b3a0-95e14d290608"
   },
   "outputs": [
    {
     "data": {
      "text/plain": [
       "NaN                                       4299\n",
       "No                                          74\n",
       "DM,Hypertension                             50\n",
       "Hypertension                                40\n",
       "None                                        35\n",
       "NO                                          28\n",
       "DM                                          19\n",
       "Yes                                          9\n",
       "ANC                                          7\n",
       "IHD                                          5\n",
       "Stable                                       5\n",
       "COPD                                         4\n",
       "Asthma                                       4\n",
       "Hypertension,IHD                             4\n",
       "DM,Hypertension,IHD                          2\n",
       "Hypothyroidism                               2\n",
       "DM,Asthma                                    2\n",
       "DM,CKD                                       2\n",
       "Obesity                                      2\n",
       "Hypertension,Hypothyroidism                  2\n",
       "Hypertension,Chronic_renal_disease           2\n",
       "Alcoholic_liver_disease                      2\n",
       "Hypertension,CKD                             1\n",
       "Hypertension,Thyroid_disorder                1\n",
       "Alcoholic,Tobacco_chewer                     1\n",
       "DM,Hypertension,Chronic_kidney_disease       1\n",
       "Hypertension,Hemiparesis                     1\n",
       "Hypothyroidism,Obesity                       1\n",
       "DM,Hypertension,IHD,Obesity                  1\n",
       "Hypertension,Asthma,HIV                      1\n",
       "DM,IHD,Hypertension                          1\n",
       "HepatitisB                                   1\n",
       "Hypertension,Hypothyrioidism                 1\n",
       "IHD,DM,Obesity                               1\n",
       "CKD,DM                                       1\n",
       "DM,Hypertension,CKD                          1\n",
       "no                                           1\n",
       "HIV                                          1\n",
       "DM,Hypertension,Hypothyroidism               1\n",
       "DM,Alcoholic_liver_disease                   1\n",
       "Bronchitis,Asthma,Hypertension               1\n",
       "Hypertension,Renal_stone                     1\n",
       "Chronic_renal_disease                        1\n",
       "DM,Hypertension,Asthma                       1\n",
       "Breathlessness                               1\n",
       "Hypertension,Obesity,                        1\n",
       "CKD                                          1\n",
       "Hypertension,Tobaco_chewer                   1\n",
       "DM,Obesity                                   1\n",
       "Name: Underlying medical condition, dtype: int64"
      ]
     },
     "execution_count": 8,
     "metadata": {},
     "output_type": "execute_result"
    }
   ],
   "source": [
    "df['Underlying medical condition'].value_counts(dropna=False)"
   ]
  },
  {
   "cell_type": "code",
   "execution_count": 9,
   "metadata": {
    "colab": {},
    "colab_type": "code",
    "id": "tB07JxrnjSYI"
   },
   "outputs": [],
   "source": [
    "df = df.fillna({'Underlying medical condition':'No'})\n",
    "df = df.replace({'Underlying medical condition':['None','NO','no','Stable']},'No')\n",
    "df = df.replace({'Underlying medical condition':['None','NO']},'No')"
   ]
  },
  {
   "cell_type": "code",
   "execution_count": 10,
   "metadata": {
    "colab": {},
    "colab_type": "code",
    "id": "JijwA5_N9cI7"
   },
   "outputs": [],
   "source": [
    "# Making different columns for each condition\n",
    "col=df['Underlying medical condition']\n",
    "\n",
    "for i in col:\n",
    "    x=[]\n",
    "    k=i.split(',')\n",
    "    for j in k:\n",
    "        x.append(j.strip())\n",
    "    \n",
    "    conditions=['No','DM','Hypertension','Yes','ANC','IHD','COPD','Asthama','Hypothyroidism',\n",
    "               'Chronic_renal_disease','Obesity','CKD','Alcoholic_liver_disease','Tobaco_chewer',\n",
    "               'Thyroid_disorder','HepatitisB','HIV','Hemiparesis','Bronchitis','Chronic_kidney_disease',\n",
    "               'Alcoholic','Renal_stone','Breathlessness']\n",
    "    \n",
    "    for ele in conditions:\n",
    "  \n",
    "        if ele in x:\n",
    "\n",
    "      \n",
    "            df[ele]=1\n",
    "        \n",
    "        else:\n",
    "            df[ele]=0"
   ]
  },
  {
   "cell_type": "code",
   "execution_count": 11,
   "metadata": {
    "colab": {
     "base_uri": "https://localhost:8080/",
     "height": 176
    },
    "colab_type": "code",
    "id": "V6GPuc799b_L",
    "outputId": "324b37ee-9c79-41ea-bbaf-e16d9cc1b8ce"
   },
   "outputs": [
    {
     "name": "stderr",
     "output_type": "stream",
     "text": [
      "C:\\Users\\jaisw\\Anaconda3\\lib\\site-packages\\ipykernel_launcher.py:18: SettingWithCopyWarning: \n",
      "A value is trying to be set on a copy of a slice from a DataFrame\n",
      "\n",
      "See the caveats in the documentation: https://pandas.pydata.org/pandas-docs/stable/user_guide/indexing.html#returning-a-view-versus-a-copy\n",
      "C:\\Users\\jaisw\\Anaconda3\\lib\\site-packages\\ipykernel_launcher.py:21: SettingWithCopyWarning: \n",
      "A value is trying to be set on a copy of a slice from a DataFrame\n",
      "\n",
      "See the caveats in the documentation: https://pandas.pydata.org/pandas-docs/stable/user_guide/indexing.html#returning-a-view-versus-a-copy\n"
     ]
    }
   ],
   "source": [
    "col=df['Underlying medical condition']\n",
    "t=0\n",
    "for i in col:\n",
    "    x=[]\n",
    "    k=i.split(',')\n",
    "    for j in k:\n",
    "        x.append(j.strip())\n",
    "    \n",
    "    conditions=['No','DM','Hypertension','Yes','ANC','IHD','COPD','Asthama','Hypothyroidism',\n",
    "               'Chronic_renal_disease','Obesity','CKD','Alcoholic_liver_disease','Tobaco_chewer',\n",
    "               'Thyroid_disorder','HepatitisB','HIV','Hemiparesis','Bronchitis','Chronic_kidney_disease',\n",
    "               'Alcoholic','Renal_stone','Breathlessness']\n",
    "    for ele in conditions:\n",
    "  \n",
    "        if ele in x:\n",
    "\n",
    "      \n",
    "            df[ele][t]=1\n",
    "        \n",
    "        else:\n",
    "            df[ele][t]=0\n",
    "    t=t+1\n",
    "    "
   ]
  },
  {
   "cell_type": "code",
   "execution_count": 12,
   "metadata": {
    "colab": {},
    "colab_type": "code",
    "id": "BPK5LWH-9b8V"
   },
   "outputs": [],
   "source": [
    "df = df.drop(['Underlying medical condition'],axis=1)"
   ]
  },
  {
   "cell_type": "code",
   "execution_count": 13,
   "metadata": {
    "colab": {
     "base_uri": "https://localhost:8080/",
     "height": 693
    },
    "colab_type": "code",
    "id": "ALcicQo89b3T",
    "outputId": "70a2ec39-7946-4406-c2ac-8e36572417d2"
   },
   "outputs": [
    {
     "name": "stdout",
     "output_type": "stream",
     "text": [
      "<class 'pandas.core.frame.DataFrame'>\n",
      "RangeIndex: 4626 entries, 0 to 4625\n",
      "Data columns (total 32 columns):\n",
      " #   Column                                           Non-Null Count  Dtype  \n",
      "---  ------                                           --------------  -----  \n",
      " 0   Age                                              4626 non-null   float64\n",
      " 1   Gender                                           4624 non-null   object \n",
      " 2   Travel to COVID afftected country (Yes/No)       134 non-null    object \n",
      " 3   Contact with COVID19 case (Yes/No)               690 non-null    object \n",
      " 4   Symptoms at admission                            3720 non-null   object \n",
      " 5   Current Clinical Status                          4461 non-null   object \n",
      " 6   Outcome (Discharged/Death/Admitted)              4623 non-null   object \n",
      " 7   Is patient member of cluster of COVID19(Yes/No)  722 non-null    object \n",
      " 8   Total Contacts                                   3113 non-null   float64\n",
      " 9   No                                               4626 non-null   int64  \n",
      " 10  DM                                               4626 non-null   int64  \n",
      " 11  Hypertension                                     4626 non-null   int64  \n",
      " 12  Yes                                              4626 non-null   int64  \n",
      " 13  ANC                                              4626 non-null   int64  \n",
      " 14  IHD                                              4626 non-null   int64  \n",
      " 15  COPD                                             4626 non-null   int64  \n",
      " 16  Asthama                                          4626 non-null   int64  \n",
      " 17  Hypothyroidism                                   4626 non-null   int64  \n",
      " 18  Chronic_renal_disease                            4626 non-null   int64  \n",
      " 19  Obesity                                          4626 non-null   int64  \n",
      " 20  CKD                                              4626 non-null   int64  \n",
      " 21  Alcoholic_liver_disease                          4626 non-null   int64  \n",
      " 22  Tobaco_chewer                                    4626 non-null   int64  \n",
      " 23  Thyroid_disorder                                 4626 non-null   int64  \n",
      " 24  HepatitisB                                       4626 non-null   int64  \n",
      " 25  HIV                                              4626 non-null   int64  \n",
      " 26  Hemiparesis                                      4626 non-null   int64  \n",
      " 27  Bronchitis                                       4626 non-null   int64  \n",
      " 28  Chronic_kidney_disease                           4626 non-null   int64  \n",
      " 29  Alcoholic                                        4626 non-null   int64  \n",
      " 30  Renal_stone                                      4626 non-null   int64  \n",
      " 31  Breathlessness                                   4626 non-null   int64  \n",
      "dtypes: float64(2), int64(23), object(7)\n",
      "memory usage: 1.1+ MB\n"
     ]
    }
   ],
   "source": [
    "df.info()"
   ]
  },
  {
   "cell_type": "markdown",
   "metadata": {
    "colab_type": "text",
    "id": "qQZvYJ3dzvAi"
   },
   "source": [
    "## Cleaning 'Current Clinical Status' Column"
   ]
  },
  {
   "cell_type": "code",
   "execution_count": 14,
   "metadata": {
    "colab": {
     "base_uri": "https://localhost:8080/",
     "height": 433
    },
    "colab_type": "code",
    "id": "BWYnONDCB1tW",
    "outputId": "ee888162-f489-487d-e2db-64aa3fe7819e"
   },
   "outputs": [
    {
     "data": {
      "text/plain": [
       "Stable                            3948\n",
       "Admitted                           392\n",
       "NaN                                165\n",
       "Death                               54\n",
       "Asymptomatic                        28\n",
       "DEATH                                9\n",
       "death                                6\n",
       "UnStable                             3\n",
       "on oxygen                            3\n",
       "Critical                             3\n",
       "criticl on ventilater                2\n",
       "PATIENT ON BIPAP                     2\n",
       "CRITICAL                             1\n",
       "On Oxygen Support                    1\n",
       "Critical on o2                       1\n",
       "Critical on ventilator               1\n",
       "Intubated                            1\n",
       "Roudy                                1\n",
       "NIV                                  1\n",
       "UnStable on NIV                      1\n",
       "EXPIRED ON03/05/2020.(2.00 AM)       1\n",
       "OnO2ICU                              1\n",
       "In ICU                               1\n",
       "Name: Current Clinical Status, dtype: int64"
      ]
     },
     "execution_count": 14,
     "metadata": {},
     "output_type": "execute_result"
    }
   ],
   "source": [
    "df['Current Clinical Status'].value_counts(dropna=False)"
   ]
  },
  {
   "cell_type": "code",
   "execution_count": 15,
   "metadata": {
    "colab": {
     "base_uri": "https://localhost:8080/",
     "height": 104
    },
    "colab_type": "code",
    "id": "xZID-qv_FFdB",
    "outputId": "d355f30c-b183-47eb-8778-93c56045e728"
   },
   "outputs": [
    {
     "data": {
      "text/plain": [
       "Stable      3954\n",
       "Admitted     557\n",
       "Death         70\n",
       "Critical      45\n",
       "Name: Current Clinical Status, dtype: int64"
      ]
     },
     "execution_count": 15,
     "metadata": {},
     "output_type": "execute_result"
    }
   ],
   "source": [
    "df = df.fillna({'Current Clinical Status':'Admitted'})\n",
    "df = df.replace({'Current Clinical Status':['Admited','ADMITED','Admitted (7A)']},'Admitted')\n",
    "df = df.replace({'Current Clinical Status':['DEATH','death','EXPIRED ON03/05/2020.(2.00 AM)']},'Death')\n",
    "df = df.replace({'Current Clinical Status':['Asymptomatic','Unstable','criticl on ventilater','PATIENT ON BIPAP','INTUBATED','CRITICAL',\n",
    "                                            'UnStable','Critical on ventilator','In ICU','Roudy','UnStable on NIV','Critical on o2','Intubated',\n",
    "                                            ]},'Critical')\n",
    "df = df.replace({'Current Clinical Status':['NIV','on oxygen','On Oxygen Support','OnO2ICU']},'Stable')\n",
    "df['Current Clinical Status'].value_counts(dropna=False)"
   ]
  },
  {
   "cell_type": "markdown",
   "metadata": {
    "colab_type": "text",
    "id": "AmHBF-khz6In"
   },
   "source": [
    "## Cleaning 'Travel to COVID affected country' column"
   ]
  },
  {
   "cell_type": "code",
   "execution_count": 16,
   "metadata": {
    "colab": {
     "base_uri": "https://localhost:8080/",
     "height": 69
    },
    "colab_type": "code",
    "id": "m7t78NooqjTm",
    "outputId": "0bec8ae5-6b42-4c38-e822-8df5850dbc82"
   },
   "outputs": [
    {
     "data": {
      "text/plain": [
       "No     4613\n",
       "Yes      13\n",
       "Name: Travel to COVID afftected country (Yes/No), dtype: int64"
      ]
     },
     "execution_count": 16,
     "metadata": {},
     "output_type": "execute_result"
    }
   ],
   "source": [
    "df = df.fillna({'Travel to COVID afftected country (Yes/No)':'No'})\n",
    "df = df.replace({'Travel to COVID afftected country (Yes/No)':['NO']},'No')\n",
    "df['Travel to COVID afftected country (Yes/No)'].value_counts(dropna=False)"
   ]
  },
  {
   "cell_type": "markdown",
   "metadata": {
    "colab_type": "text",
    "id": "28AzvARz0EPH"
   },
   "source": [
    "## Cleaning 'Contacts with COVID case' column"
   ]
  },
  {
   "cell_type": "code",
   "execution_count": 17,
   "metadata": {
    "colab": {
     "base_uri": "https://localhost:8080/",
     "height": 191
    },
    "colab_type": "code",
    "id": "aaEZNDJDR9oL",
    "outputId": "79941e40-1b88-4ca1-8a53-8e3fc1047325"
   },
   "outputs": [
    {
     "data": {
      "text/plain": [
       "NaN             3936\n",
       "NO               354\n",
       "No               161\n",
       "Yes              107\n",
       "Stable            60\n",
       "Yes                3\n",
       "Asymptomatic       3\n",
       "no                 1\n",
       "Hospitalies        1\n",
       "Name: Contact with COVID19 case (Yes/No), dtype: int64"
      ]
     },
     "execution_count": 17,
     "metadata": {},
     "output_type": "execute_result"
    }
   ],
   "source": [
    "df['Contact with COVID19 case (Yes/No)'].value_counts(dropna=False)"
   ]
  },
  {
   "cell_type": "code",
   "execution_count": 18,
   "metadata": {
    "colab": {
     "base_uri": "https://localhost:8080/",
     "height": 69
    },
    "colab_type": "code",
    "id": "JhAGWBj7spl0",
    "outputId": "30abbf12-a5be-4bb8-8f5b-bafdd326b887"
   },
   "outputs": [
    {
     "data": {
      "text/plain": [
       "No     4452\n",
       "Yes     174\n",
       "Name: Contact with COVID19 case (Yes/No), dtype: int64"
      ]
     },
     "execution_count": 18,
     "metadata": {},
     "output_type": "execute_result"
    }
   ],
   "source": [
    "df = df.fillna({'Contact with COVID19 case (Yes/No)':'No'})\n",
    "df = df.replace({'Contact with COVID19 case (Yes/No)':['NO','no']},'No')\n",
    "df = df.replace({'Contact with COVID19 case (Yes/No)':['STABLE','Stable','yes','YES','Yes ','Asymptomatic','Hospitalies']},'Yes')\n",
    "df['Contact with COVID19 case (Yes/No)'].value_counts()"
   ]
  },
  {
   "cell_type": "markdown",
   "metadata": {
    "colab_type": "text",
    "id": "OI8WWY7m0RS6"
   },
   "source": [
    "## Cleaning 'Is patitent member of cluster COVID' column"
   ]
  },
  {
   "cell_type": "code",
   "execution_count": 19,
   "metadata": {
    "colab": {
     "base_uri": "https://localhost:8080/",
     "height": 121
    },
    "colab_type": "code",
    "id": "RWd_e07FEcH1",
    "outputId": "0c1e075d-0301-4a59-d343-7ee4cc2ed65f"
   },
   "outputs": [
    {
     "data": {
      "text/plain": [
       "NaN    3904\n",
       "NO      523\n",
       "Yes     112\n",
       "No       85\n",
       "no        2\n",
       "Name: Is patient member of cluster of COVID19(Yes/No), dtype: int64"
      ]
     },
     "execution_count": 19,
     "metadata": {},
     "output_type": "execute_result"
    }
   ],
   "source": [
    "df['Is patient member of cluster of COVID19(Yes/No)'].value_counts(dropna=False)"
   ]
  },
  {
   "cell_type": "code",
   "execution_count": 20,
   "metadata": {
    "colab": {
     "base_uri": "https://localhost:8080/",
     "height": 69
    },
    "colab_type": "code",
    "id": "zEOwEDruifx3",
    "outputId": "aee337bf-4785-4d4a-a989-c3071bbd46b7"
   },
   "outputs": [
    {
     "data": {
      "text/plain": [
       "No     4514\n",
       "Yes     112\n",
       "Name: Is patient member of cluster of COVID19(Yes/No), dtype: int64"
      ]
     },
     "execution_count": 20,
     "metadata": {},
     "output_type": "execute_result"
    }
   ],
   "source": [
    "df = df.replace({'Is patient member of cluster of COVID19(Yes/No)':['NO','no']},'No')\n",
    "df = df.replace({'Is patient member of cluster of COVID19(Yes/No)':['YES','yes']},'Yes')\n",
    "df = df.fillna({'Is patient member of cluster of COVID19(Yes/No)':'No'})\n",
    "df['Is patient member of cluster of COVID19(Yes/No)'].value_counts(dropna=False)"
   ]
  },
  {
   "cell_type": "markdown",
   "metadata": {
    "colab_type": "text",
    "id": "ZI9QYXuhP0OL"
   },
   "source": [
    "##  Filling 'Total contacts' column"
   ]
  },
  {
   "cell_type": "code",
   "execution_count": 21,
   "metadata": {
    "colab": {
     "base_uri": "https://localhost:8080/",
     "height": 745
    },
    "colab_type": "code",
    "id": "FsCllrdCPz8B",
    "outputId": "36c49d91-e6d6-4218-95a0-d5b9dc8453f6"
   },
   "outputs": [
    {
     "data": {
      "text/plain": [
       "0.0     1547\n",
       "NaN     1513\n",
       "3.0      206\n",
       "4.0      183\n",
       "5.0      182\n",
       "6.0      134\n",
       "2.0      119\n",
       "7.0      114\n",
       "8.0       91\n",
       "1.0       75\n",
       "9.0       69\n",
       "10.0      62\n",
       "11.0      49\n",
       "12.0      46\n",
       "13.0      41\n",
       "14.0      40\n",
       "16.0      23\n",
       "15.0      22\n",
       "22.0      18\n",
       "18.0      15\n",
       "17.0      11\n",
       "34.0      10\n",
       "21.0       9\n",
       "19.0       7\n",
       "25.0       6\n",
       "27.0       6\n",
       "29.0       6\n",
       "24.0       4\n",
       "28.0       3\n",
       "23.0       2\n",
       "36.0       2\n",
       "30.0       2\n",
       "31.0       1\n",
       "20.0       1\n",
       "64.0       1\n",
       "40.0       1\n",
       "48.0       1\n",
       "39.0       1\n",
       "35.0       1\n",
       "37.0       1\n",
       "45.0       1\n",
       "Name: Total Contacts, dtype: int64"
      ]
     },
     "execution_count": 21,
     "metadata": {},
     "output_type": "execute_result"
    }
   ],
   "source": [
    "df['Total Contacts'].value_counts(dropna=False)"
   ]
  },
  {
   "cell_type": "code",
   "execution_count": 22,
   "metadata": {
    "colab": {},
    "colab_type": "code",
    "id": "U--EH1xPPz0D"
   },
   "outputs": [],
   "source": [
    "df = df.fillna({'Total Contacts':0})"
   ]
  },
  {
   "cell_type": "markdown",
   "metadata": {
    "colab_type": "text",
    "id": "tT8rS0ho1Whz"
   },
   "source": [
    "## Cleaning 'Symptoms' column\n"
   ]
  },
  {
   "cell_type": "code",
   "execution_count": 23,
   "metadata": {
    "colab": {
     "base_uri": "https://localhost:8080/",
     "height": 225
    },
    "colab_type": "code",
    "id": "9QYUfUMW9XeU",
    "outputId": "88843c2a-e28c-4f79-a966-da85f88dfd8e"
   },
   "outputs": [
    {
     "data": {
      "text/plain": [
       "Fever,Cough                                   2268\n",
       "NaN                                            906\n",
       "Cough,Cold,Fever                               815\n",
       "Asymptomatic                                   184\n",
       "Breathlessness                                  59\n",
       "                                              ... \n",
       "Chest pain                                       1\n",
       "Fever,Sore Throat,Cough                          1\n",
       "Cough,Breathlessness,Sore Thoat,Chest pain       1\n",
       " Cough,Breathlessness,Fever                      1\n",
       "Cough,Diarrhoea                                  1\n",
       "Name: Symptoms at admission , Length: 154, dtype: int64"
      ]
     },
     "execution_count": 23,
     "metadata": {},
     "output_type": "execute_result"
    }
   ],
   "source": [
    "df['Symptoms at admission '].value_counts(dropna=False)"
   ]
  },
  {
   "cell_type": "code",
   "execution_count": 24,
   "metadata": {
    "colab": {
     "base_uri": "https://localhost:8080/",
     "height": 35
    },
    "colab_type": "code",
    "id": "xkBhtQCeleZA",
    "outputId": "4d63ba6e-62e1-4c6a-e5cb-42bfbeff51fb"
   },
   "outputs": [
    {
     "data": {
      "text/plain": [
       "0"
      ]
     },
     "execution_count": 24,
     "metadata": {},
     "output_type": "execute_result"
    }
   ],
   "source": [
    "df['Symptoms at admission '].fillna('Fever',inplace=True)\n",
    "df['Symptoms at admission '].isnull().sum()"
   ]
  },
  {
   "cell_type": "code",
   "execution_count": 25,
   "metadata": {
    "colab": {},
    "colab_type": "code",
    "id": "-HB9MiiBd4gS"
   },
   "outputs": [],
   "source": [
    "#Making different columns for each symptom\n",
    "\n",
    "\n",
    "col=df['Symptoms at admission ']\n",
    "\n",
    "for i in col:\n",
    "    x=[]\n",
    "    k=i.split(',')\n",
    "    for j in k:\n",
    "        x.append(j.strip())\n",
    "    \n",
    "    symptoms=['Fever','Cold','Cough','Breathlessness','Weakness','Vomiting','Sore Throat','Chest pain','Loss of appetite','Nausea','Abdominal pain','Loose motion','Diarrhoea']\n",
    "    \n",
    "    for ele in symptoms:\n",
    "  \n",
    "        if ele in x:\n",
    "\n",
    "      \n",
    "            df[ele]=1\n",
    "        \n",
    "        else:\n",
    "            df[ele]=0\n",
    "    \n",
    "    "
   ]
  },
  {
   "cell_type": "code",
   "execution_count": 26,
   "metadata": {
    "colab": {
     "base_uri": "https://localhost:8080/",
     "height": 176
    },
    "colab_type": "code",
    "id": "xHT9zwFypPjx",
    "outputId": "c7d216c4-2a4b-4258-dac2-443e3441b365"
   },
   "outputs": [
    {
     "name": "stderr",
     "output_type": "stream",
     "text": [
      "C:\\Users\\jaisw\\Anaconda3\\lib\\site-packages\\ipykernel_launcher.py:19: SettingWithCopyWarning: \n",
      "A value is trying to be set on a copy of a slice from a DataFrame\n",
      "\n",
      "See the caveats in the documentation: https://pandas.pydata.org/pandas-docs/stable/user_guide/indexing.html#returning-a-view-versus-a-copy\n",
      "C:\\Users\\jaisw\\Anaconda3\\lib\\site-packages\\ipykernel_launcher.py:22: SettingWithCopyWarning: \n",
      "A value is trying to be set on a copy of a slice from a DataFrame\n",
      "\n",
      "See the caveats in the documentation: https://pandas.pydata.org/pandas-docs/stable/user_guide/indexing.html#returning-a-view-versus-a-copy\n"
     ]
    }
   ],
   "source": [
    "#Making different columns for each symptom\n",
    "\n",
    "\n",
    "col=df['Symptoms at admission ']\n",
    "t=0\n",
    "for i in col:\n",
    "    x=[]\n",
    "    k=i.split(',')\n",
    "    for j in k:\n",
    "        x.append(j.strip())\n",
    "    \n",
    "    symptoms=['Fever','Cold','Cough','Breathlessness','Weakness','Vomiting','Sore Throat','Chest pain','Loss of appetite','Nausea','Abdominal pain','Loose motion','Diarrhoea']\n",
    "    \n",
    "    for ele in symptoms:\n",
    "  \n",
    "        if ele in x:\n",
    "\n",
    "      \n",
    "            df[ele][t]=1\n",
    "        \n",
    "        else:\n",
    "            df[ele][t]=0\n",
    "    t=t+1\n",
    "    "
   ]
  },
  {
   "cell_type": "code",
   "execution_count": 27,
   "metadata": {
    "colab": {},
    "colab_type": "code",
    "id": "8wqNZrMfpPaK"
   },
   "outputs": [],
   "source": [
    "df = df.drop(['Symptoms at admission '],axis=1)"
   ]
  },
  {
   "cell_type": "markdown",
   "metadata": {
    "colab_type": "text",
    "id": "2_nf7wey0mQL"
   },
   "source": [
    "## Cleaning 'Outcome' column"
   ]
  },
  {
   "cell_type": "code",
   "execution_count": 28,
   "metadata": {
    "colab": {
     "base_uri": "https://localhost:8080/",
     "height": 173
    },
    "colab_type": "code",
    "id": "F_eRRlTX0hba",
    "outputId": "6f300808-8821-496b-8c3d-6882a8473c9a"
   },
   "outputs": [
    {
     "data": {
      "text/plain": [
       "Admitted      2558\n",
       "Discharged    1599\n",
       "Death          194\n",
       "DIscharged     135\n",
       "discharged     122\n",
       "dIscharged       6\n",
       "death            5\n",
       "DEATH            4\n",
       "Name: Outcome (Discharged/Death/Admitted), dtype: int64"
      ]
     },
     "execution_count": 28,
     "metadata": {},
     "output_type": "execute_result"
    }
   ],
   "source": [
    "df['Outcome (Discharged/Death/Admitted)'].value_counts()"
   ]
  },
  {
   "cell_type": "code",
   "execution_count": 29,
   "metadata": {
    "colab": {
     "base_uri": "https://localhost:8080/",
     "height": 87
    },
    "colab_type": "code",
    "id": "STfvWz1W0hWY",
    "outputId": "482e36a9-fcbb-467b-d4f5-8cd155c0253d"
   },
   "outputs": [
    {
     "data": {
      "text/plain": [
       "Admitted      2558\n",
       "Discharged    1862\n",
       "Death          203\n",
       "Name: Outcome (Discharged/Death/Admitted), dtype: int64"
      ]
     },
     "execution_count": 29,
     "metadata": {},
     "output_type": "execute_result"
    }
   ],
   "source": [
    "df = df.replace({'Outcome (Discharged/Death/Admitted)':['ADMITTED','Admitted ']},'Admitted')\n",
    "df = df.replace({'Outcome (Discharged/Death/Admitted)':['DIscharged','discharged','dIscharged']},'Discharged')\n",
    "df = df.replace({'Outcome (Discharged/Death/Admitted)':['death','DEATH']},'Death')\n",
    "df['Outcome (Discharged/Death/Admitted)'].value_counts()"
   ]
  },
  {
   "cell_type": "code",
   "execution_count": 30,
   "metadata": {
    "colab": {
     "base_uri": "https://localhost:8080/",
     "height": 291
    },
    "colab_type": "code",
    "id": "UGiqEUM9sIM_",
    "outputId": "4ce537e9-fe3e-40ff-878a-b78c0073b39b"
   },
   "outputs": [
    {
     "data": {
      "text/html": [
       "<div>\n",
       "<style scoped>\n",
       "    .dataframe tbody tr th:only-of-type {\n",
       "        vertical-align: middle;\n",
       "    }\n",
       "\n",
       "    .dataframe tbody tr th {\n",
       "        vertical-align: top;\n",
       "    }\n",
       "\n",
       "    .dataframe thead th {\n",
       "        text-align: right;\n",
       "    }\n",
       "</style>\n",
       "<table border=\"1\" class=\"dataframe\">\n",
       "  <thead>\n",
       "    <tr style=\"text-align: right;\">\n",
       "      <th></th>\n",
       "      <th>Age</th>\n",
       "      <th>Gender</th>\n",
       "      <th>Travel to COVID afftected country (Yes/No)</th>\n",
       "      <th>Contact with COVID19 case (Yes/No)</th>\n",
       "      <th>Current Clinical Status</th>\n",
       "      <th>Is patient member of cluster of COVID19(Yes/No)</th>\n",
       "      <th>Total Contacts</th>\n",
       "      <th>No</th>\n",
       "      <th>DM</th>\n",
       "      <th>Hypertension</th>\n",
       "      <th>...</th>\n",
       "      <th>Weakness</th>\n",
       "      <th>Vomiting</th>\n",
       "      <th>Sore Throat</th>\n",
       "      <th>Chest pain</th>\n",
       "      <th>Loss of appetite</th>\n",
       "      <th>Nausea</th>\n",
       "      <th>Abdominal pain</th>\n",
       "      <th>Loose motion</th>\n",
       "      <th>Diarrhoea</th>\n",
       "      <th>Outcome</th>\n",
       "    </tr>\n",
       "  </thead>\n",
       "  <tbody>\n",
       "    <tr>\n",
       "      <th>18</th>\n",
       "      <td>52.0</td>\n",
       "      <td>M</td>\n",
       "      <td>No</td>\n",
       "      <td>No</td>\n",
       "      <td>Death</td>\n",
       "      <td>No</td>\n",
       "      <td>36.0</td>\n",
       "      <td>1</td>\n",
       "      <td>0</td>\n",
       "      <td>0</td>\n",
       "      <td>...</td>\n",
       "      <td>0</td>\n",
       "      <td>0</td>\n",
       "      <td>0</td>\n",
       "      <td>0</td>\n",
       "      <td>0</td>\n",
       "      <td>0</td>\n",
       "      <td>0</td>\n",
       "      <td>0</td>\n",
       "      <td>0</td>\n",
       "      <td>Death</td>\n",
       "    </tr>\n",
       "    <tr>\n",
       "      <th>19</th>\n",
       "      <td>40.0</td>\n",
       "      <td>M</td>\n",
       "      <td>No</td>\n",
       "      <td>No</td>\n",
       "      <td>Stable</td>\n",
       "      <td>No</td>\n",
       "      <td>64.0</td>\n",
       "      <td>0</td>\n",
       "      <td>0</td>\n",
       "      <td>0</td>\n",
       "      <td>...</td>\n",
       "      <td>0</td>\n",
       "      <td>1</td>\n",
       "      <td>0</td>\n",
       "      <td>0</td>\n",
       "      <td>0</td>\n",
       "      <td>0</td>\n",
       "      <td>1</td>\n",
       "      <td>0</td>\n",
       "      <td>0</td>\n",
       "      <td>Death</td>\n",
       "    </tr>\n",
       "    <tr>\n",
       "      <th>41</th>\n",
       "      <td>65.0</td>\n",
       "      <td>F</td>\n",
       "      <td>No</td>\n",
       "      <td>No</td>\n",
       "      <td>Stable</td>\n",
       "      <td>No</td>\n",
       "      <td>25.0</td>\n",
       "      <td>0</td>\n",
       "      <td>0</td>\n",
       "      <td>0</td>\n",
       "      <td>...</td>\n",
       "      <td>0</td>\n",
       "      <td>1</td>\n",
       "      <td>0</td>\n",
       "      <td>0</td>\n",
       "      <td>0</td>\n",
       "      <td>1</td>\n",
       "      <td>0</td>\n",
       "      <td>0</td>\n",
       "      <td>0</td>\n",
       "      <td>Death</td>\n",
       "    </tr>\n",
       "    <tr>\n",
       "      <th>44</th>\n",
       "      <td>69.0</td>\n",
       "      <td>F</td>\n",
       "      <td>No</td>\n",
       "      <td>No</td>\n",
       "      <td>Death</td>\n",
       "      <td>No</td>\n",
       "      <td>1.0</td>\n",
       "      <td>1</td>\n",
       "      <td>0</td>\n",
       "      <td>0</td>\n",
       "      <td>...</td>\n",
       "      <td>0</td>\n",
       "      <td>0</td>\n",
       "      <td>0</td>\n",
       "      <td>0</td>\n",
       "      <td>0</td>\n",
       "      <td>0</td>\n",
       "      <td>0</td>\n",
       "      <td>0</td>\n",
       "      <td>0</td>\n",
       "      <td>Death</td>\n",
       "    </tr>\n",
       "    <tr>\n",
       "      <th>45</th>\n",
       "      <td>73.0</td>\n",
       "      <td>F</td>\n",
       "      <td>No</td>\n",
       "      <td>No</td>\n",
       "      <td>Stable</td>\n",
       "      <td>No</td>\n",
       "      <td>12.0</td>\n",
       "      <td>1</td>\n",
       "      <td>0</td>\n",
       "      <td>0</td>\n",
       "      <td>...</td>\n",
       "      <td>0</td>\n",
       "      <td>0</td>\n",
       "      <td>0</td>\n",
       "      <td>0</td>\n",
       "      <td>0</td>\n",
       "      <td>0</td>\n",
       "      <td>0</td>\n",
       "      <td>0</td>\n",
       "      <td>0</td>\n",
       "      <td>Death</td>\n",
       "    </tr>\n",
       "  </tbody>\n",
       "</table>\n",
       "<p>5 rows × 43 columns</p>\n",
       "</div>"
      ],
      "text/plain": [
       "     Age Gender Travel to COVID afftected country (Yes/No)  \\\n",
       "18  52.0      M                                         No   \n",
       "19  40.0      M                                         No   \n",
       "41  65.0      F                                         No   \n",
       "44  69.0      F                                         No   \n",
       "45  73.0      F                                         No   \n",
       "\n",
       "   Contact with COVID19 case (Yes/No) Current Clinical Status  \\\n",
       "18                                 No                   Death   \n",
       "19                                 No                  Stable   \n",
       "41                                 No                  Stable   \n",
       "44                                 No                   Death   \n",
       "45                                 No                  Stable   \n",
       "\n",
       "   Is patient member of cluster of COVID19(Yes/No)  Total Contacts  No  DM  \\\n",
       "18                                              No            36.0   1   0   \n",
       "19                                              No            64.0   0   0   \n",
       "41                                              No            25.0   0   0   \n",
       "44                                              No             1.0   1   0   \n",
       "45                                              No            12.0   1   0   \n",
       "\n",
       "    Hypertension  ...  Weakness  Vomiting  Sore Throat  Chest pain  \\\n",
       "18             0  ...         0         0            0           0   \n",
       "19             0  ...         0         1            0           0   \n",
       "41             0  ...         0         1            0           0   \n",
       "44             0  ...         0         0            0           0   \n",
       "45             0  ...         0         0            0           0   \n",
       "\n",
       "    Loss of appetite  Nausea  Abdominal pain  Loose motion  Diarrhoea  Outcome  \n",
       "18                 0       0               0             0          0    Death  \n",
       "19                 0       0               1             0          0    Death  \n",
       "41                 0       1               0             0          0    Death  \n",
       "44                 0       0               0             0          0    Death  \n",
       "45                 0       0               0             0          0    Death  \n",
       "\n",
       "[5 rows x 43 columns]"
      ]
     },
     "execution_count": 30,
     "metadata": {},
     "output_type": "execute_result"
    }
   ],
   "source": [
    "df['Outcome']=df['Outcome (Discharged/Death/Admitted)']\n",
    "df=df.drop('Outcome (Discharged/Death/Admitted)',axis=1)\n",
    "df=df[(df.Outcome=='Death')|(df.Outcome=='Admitted')]\n",
    "df.head()"
   ]
  },
  {
   "cell_type": "code",
   "execution_count": 31,
   "metadata": {
    "colab": {
     "base_uri": "https://localhost:8080/",
     "height": 69
    },
    "colab_type": "code",
    "id": "UIdK3Yt6wR5A",
    "outputId": "1e8f77a0-1399-43e9-8b96-9aab5302c2bf"
   },
   "outputs": [
    {
     "data": {
      "text/plain": [
       "Admitted    2558\n",
       "Death        203\n",
       "Name: Outcome, dtype: int64"
      ]
     },
     "execution_count": 31,
     "metadata": {},
     "output_type": "execute_result"
    }
   ],
   "source": [
    "df['Outcome'].value_counts(dropna =False)"
   ]
  },
  {
   "cell_type": "code",
   "execution_count": 32,
   "metadata": {
    "colab": {
     "base_uri": "https://localhost:8080/",
     "height": 884
    },
    "colab_type": "code",
    "id": "bNnm0gxlQ4wH",
    "outputId": "dead9814-2986-4711-fb43-f9ec9d7295fe"
   },
   "outputs": [
    {
     "name": "stdout",
     "output_type": "stream",
     "text": [
      "<class 'pandas.core.frame.DataFrame'>\n",
      "Int64Index: 2761 entries, 18 to 4625\n",
      "Data columns (total 43 columns):\n",
      " #   Column                                           Non-Null Count  Dtype  \n",
      "---  ------                                           --------------  -----  \n",
      " 0   Age                                              2761 non-null   float64\n",
      " 1   Gender                                           2759 non-null   object \n",
      " 2   Travel to COVID afftected country (Yes/No)       2761 non-null   object \n",
      " 3   Contact with COVID19 case (Yes/No)               2761 non-null   object \n",
      " 4   Current Clinical Status                          2761 non-null   object \n",
      " 5   Is patient member of cluster of COVID19(Yes/No)  2761 non-null   object \n",
      " 6   Total Contacts                                   2761 non-null   float64\n",
      " 7   No                                               2761 non-null   int64  \n",
      " 8   DM                                               2761 non-null   int64  \n",
      " 9   Hypertension                                     2761 non-null   int64  \n",
      " 10  Yes                                              2761 non-null   int64  \n",
      " 11  ANC                                              2761 non-null   int64  \n",
      " 12  IHD                                              2761 non-null   int64  \n",
      " 13  COPD                                             2761 non-null   int64  \n",
      " 14  Asthama                                          2761 non-null   int64  \n",
      " 15  Hypothyroidism                                   2761 non-null   int64  \n",
      " 16  Chronic_renal_disease                            2761 non-null   int64  \n",
      " 17  Obesity                                          2761 non-null   int64  \n",
      " 18  CKD                                              2761 non-null   int64  \n",
      " 19  Alcoholic_liver_disease                          2761 non-null   int64  \n",
      " 20  Tobaco_chewer                                    2761 non-null   int64  \n",
      " 21  Thyroid_disorder                                 2761 non-null   int64  \n",
      " 22  HepatitisB                                       2761 non-null   int64  \n",
      " 23  HIV                                              2761 non-null   int64  \n",
      " 24  Hemiparesis                                      2761 non-null   int64  \n",
      " 25  Bronchitis                                       2761 non-null   int64  \n",
      " 26  Chronic_kidney_disease                           2761 non-null   int64  \n",
      " 27  Alcoholic                                        2761 non-null   int64  \n",
      " 28  Renal_stone                                      2761 non-null   int64  \n",
      " 29  Breathlessness                                   2761 non-null   int64  \n",
      " 30  Fever                                            2761 non-null   int64  \n",
      " 31  Cold                                             2761 non-null   int64  \n",
      " 32  Cough                                            2761 non-null   int64  \n",
      " 33  Weakness                                         2761 non-null   int64  \n",
      " 34  Vomiting                                         2761 non-null   int64  \n",
      " 35  Sore Throat                                      2761 non-null   int64  \n",
      " 36  Chest pain                                       2761 non-null   int64  \n",
      " 37  Loss of appetite                                 2761 non-null   int64  \n",
      " 38  Nausea                                           2761 non-null   int64  \n",
      " 39  Abdominal pain                                   2761 non-null   int64  \n",
      " 40  Loose motion                                     2761 non-null   int64  \n",
      " 41  Diarrhoea                                        2761 non-null   int64  \n",
      " 42  Outcome                                          2761 non-null   object \n",
      "dtypes: float64(2), int64(35), object(6)\n",
      "memory usage: 949.1+ KB\n"
     ]
    }
   ],
   "source": [
    "df.info()"
   ]
  },
  {
   "cell_type": "code",
   "execution_count": 33,
   "metadata": {
    "colab": {
     "base_uri": "https://localhost:8080/",
     "height": 884
    },
    "colab_type": "code",
    "id": "92SlJKO-sIHd",
    "outputId": "869b698b-7a76-4e91-ee7b-a990af21f5a4"
   },
   "outputs": [
    {
     "name": "stdout",
     "output_type": "stream",
     "text": [
      "<class 'pandas.core.frame.DataFrame'>\n",
      "Int64Index: 2759 entries, 18 to 4625\n",
      "Data columns (total 43 columns):\n",
      " #   Column                                           Non-Null Count  Dtype  \n",
      "---  ------                                           --------------  -----  \n",
      " 0   Age                                              2759 non-null   float64\n",
      " 1   Gender                                           2759 non-null   object \n",
      " 2   Travel to COVID afftected country (Yes/No)       2759 non-null   object \n",
      " 3   Contact with COVID19 case (Yes/No)               2759 non-null   object \n",
      " 4   Current Clinical Status                          2759 non-null   object \n",
      " 5   Is patient member of cluster of COVID19(Yes/No)  2759 non-null   object \n",
      " 6   Total Contacts                                   2759 non-null   float64\n",
      " 7   No                                               2759 non-null   int64  \n",
      " 8   DM                                               2759 non-null   int64  \n",
      " 9   Hypertension                                     2759 non-null   int64  \n",
      " 10  Yes                                              2759 non-null   int64  \n",
      " 11  ANC                                              2759 non-null   int64  \n",
      " 12  IHD                                              2759 non-null   int64  \n",
      " 13  COPD                                             2759 non-null   int64  \n",
      " 14  Asthama                                          2759 non-null   int64  \n",
      " 15  Hypothyroidism                                   2759 non-null   int64  \n",
      " 16  Chronic_renal_disease                            2759 non-null   int64  \n",
      " 17  Obesity                                          2759 non-null   int64  \n",
      " 18  CKD                                              2759 non-null   int64  \n",
      " 19  Alcoholic_liver_disease                          2759 non-null   int64  \n",
      " 20  Tobaco_chewer                                    2759 non-null   int64  \n",
      " 21  Thyroid_disorder                                 2759 non-null   int64  \n",
      " 22  HepatitisB                                       2759 non-null   int64  \n",
      " 23  HIV                                              2759 non-null   int64  \n",
      " 24  Hemiparesis                                      2759 non-null   int64  \n",
      " 25  Bronchitis                                       2759 non-null   int64  \n",
      " 26  Chronic_kidney_disease                           2759 non-null   int64  \n",
      " 27  Alcoholic                                        2759 non-null   int64  \n",
      " 28  Renal_stone                                      2759 non-null   int64  \n",
      " 29  Breathlessness                                   2759 non-null   int64  \n",
      " 30  Fever                                            2759 non-null   int64  \n",
      " 31  Cold                                             2759 non-null   int64  \n",
      " 32  Cough                                            2759 non-null   int64  \n",
      " 33  Weakness                                         2759 non-null   int64  \n",
      " 34  Vomiting                                         2759 non-null   int64  \n",
      " 35  Sore Throat                                      2759 non-null   int64  \n",
      " 36  Chest pain                                       2759 non-null   int64  \n",
      " 37  Loss of appetite                                 2759 non-null   int64  \n",
      " 38  Nausea                                           2759 non-null   int64  \n",
      " 39  Abdominal pain                                   2759 non-null   int64  \n",
      " 40  Loose motion                                     2759 non-null   int64  \n",
      " 41  Diarrhoea                                        2759 non-null   int64  \n",
      " 42  Outcome                                          2759 non-null   object \n",
      "dtypes: float64(2), int64(35), object(6)\n",
      "memory usage: 948.4+ KB\n"
     ]
    }
   ],
   "source": [
    "df = df.dropna()\n",
    "df.info()"
   ]
  },
  {
   "cell_type": "markdown",
   "metadata": {
    "colab_type": "text",
    "id": "ehUuqYoo03jf"
   },
   "source": [
    "## Transforming the dataset"
   ]
  },
  {
   "cell_type": "code",
   "execution_count": 34,
   "metadata": {
    "colab": {},
    "colab_type": "code",
    "id": "YviWN3mnPbzy"
   },
   "outputs": [],
   "source": [
    "X = df.iloc[:, :-1].values\n",
    "y = df.iloc[:, -1].values"
   ]
  },
  {
   "cell_type": "code",
   "execution_count": 35,
   "metadata": {
    "colab": {},
    "colab_type": "code",
    "id": "5I_AeCOKVUSi"
   },
   "outputs": [
    {
     "ename": "ModuleNotFoundError",
     "evalue": "No module named 'sklearn.compose'",
     "output_type": "error",
     "traceback": [
      "\u001b[1;31m---------------------------------------------------------------------------\u001b[0m",
      "\u001b[1;31mModuleNotFoundError\u001b[0m                       Traceback (most recent call last)",
      "\u001b[1;32m<ipython-input-35-c6b5292ae8eb>\u001b[0m in \u001b[0;36m<module>\u001b[1;34m\u001b[0m\n\u001b[1;32m----> 1\u001b[1;33m \u001b[1;32mfrom\u001b[0m \u001b[0msklearn\u001b[0m\u001b[1;33m.\u001b[0m\u001b[0mcompose\u001b[0m \u001b[1;32mimport\u001b[0m \u001b[0mColumnTransformer\u001b[0m\u001b[1;33m\u001b[0m\u001b[1;33m\u001b[0m\u001b[0m\n\u001b[0m\u001b[0;32m      2\u001b[0m \u001b[1;32mfrom\u001b[0m \u001b[0msklearn\u001b[0m\u001b[1;33m.\u001b[0m\u001b[0mpreprocessing\u001b[0m \u001b[1;32mimport\u001b[0m \u001b[0mOneHotEncoder\u001b[0m\u001b[1;33m\u001b[0m\u001b[1;33m\u001b[0m\u001b[0m\n\u001b[0;32m      3\u001b[0m \u001b[0mct\u001b[0m \u001b[1;33m=\u001b[0m \u001b[0mColumnTransformer\u001b[0m\u001b[1;33m(\u001b[0m\u001b[0mtransformers\u001b[0m\u001b[1;33m=\u001b[0m\u001b[1;33m[\u001b[0m\u001b[1;33m(\u001b[0m\u001b[1;34m'encoder'\u001b[0m\u001b[1;33m,\u001b[0m \u001b[0mOneHotEncoder\u001b[0m\u001b[1;33m(\u001b[0m\u001b[1;33m)\u001b[0m\u001b[1;33m,\u001b[0m \u001b[1;33m[\u001b[0m\u001b[1;36m1\u001b[0m\u001b[1;33m,\u001b[0m\u001b[1;36m2\u001b[0m\u001b[1;33m,\u001b[0m\u001b[1;36m3\u001b[0m\u001b[1;33m,\u001b[0m\u001b[1;36m4\u001b[0m\u001b[1;33m,\u001b[0m\u001b[1;36m5\u001b[0m\u001b[1;33m]\u001b[0m\u001b[1;33m)\u001b[0m\u001b[1;33m]\u001b[0m\u001b[1;33m,\u001b[0m \u001b[0mremainder\u001b[0m\u001b[1;33m=\u001b[0m\u001b[1;34m'passthrough'\u001b[0m\u001b[1;33m)\u001b[0m\u001b[1;33m\u001b[0m\u001b[1;33m\u001b[0m\u001b[0m\n\u001b[0;32m      4\u001b[0m \u001b[0mX\u001b[0m \u001b[1;33m=\u001b[0m \u001b[0mnp\u001b[0m\u001b[1;33m.\u001b[0m\u001b[0marray\u001b[0m\u001b[1;33m(\u001b[0m\u001b[0mct\u001b[0m\u001b[1;33m.\u001b[0m\u001b[0mfit_transform\u001b[0m\u001b[1;33m(\u001b[0m\u001b[0mX\u001b[0m\u001b[1;33m)\u001b[0m\u001b[1;33m)\u001b[0m\u001b[1;33m\u001b[0m\u001b[1;33m\u001b[0m\u001b[0m\n",
      "\u001b[1;31mModuleNotFoundError\u001b[0m: No module named 'sklearn.compose'"
     ]
    }
   ],
   "source": [
    "from sklearn.compose import ColumnTransformer\n",
    "from sklearn.preprocessing import OneHotEncoder\n",
    "ct = ColumnTransformer(transformers=[('encoder', OneHotEncoder(), [1,2,3,4,5])], remainder='passthrough')\n",
    "X = np.array(ct.fit_transform(X))"
   ]
  },
  {
   "cell_type": "code",
   "execution_count": null,
   "metadata": {
    "colab": {
     "base_uri": "https://localhost:8080/",
     "height": 139
    },
    "colab_type": "code",
    "id": "MJ0Qa-F5X5xs",
    "outputId": "1a80b52a-6a30-4d5b-c449-91bc77842daf"
   },
   "outputs": [],
   "source": [
    "print(X)"
   ]
  },
  {
   "cell_type": "code",
   "execution_count": null,
   "metadata": {
    "colab": {
     "base_uri": "https://localhost:8080/",
     "height": 35
    },
    "colab_type": "code",
    "id": "mAig8E7IVUPL",
    "outputId": "1f332140-73b2-41f0-d6dd-169e783d264e"
   },
   "outputs": [],
   "source": [
    "from sklearn.preprocessing import LabelEncoder\n",
    "le = LabelEncoder()\n",
    "y = le.fit_transform(y)\n",
    "print(y)"
   ]
  },
  {
   "cell_type": "markdown",
   "metadata": {
    "colab_type": "text",
    "id": "aMN-8Rzx1fOI"
   },
   "source": [
    "## Splitting data into Training and Test set"
   ]
  },
  {
   "cell_type": "code",
   "execution_count": null,
   "metadata": {
    "colab": {},
    "colab_type": "code",
    "id": "OLVSMXyTPmot"
   },
   "outputs": [],
   "source": [
    "from sklearn.model_selection import train_test_split\n",
    "X_train, X_test, y_train, y_test = train_test_split(X, y, test_size = 0.25, random_state = 0)"
   ]
  },
  {
   "cell_type": "markdown",
   "metadata": {
    "colab_type": "text",
    "id": "38miIh5b1sqW"
   },
   "source": [
    "# Logistic Regression\n"
   ]
  },
  {
   "cell_type": "code",
   "execution_count": null,
   "metadata": {
    "colab": {
     "base_uri": "https://localhost:8080/",
     "height": 263
    },
    "colab_type": "code",
    "id": "DiQMebsXWpHF",
    "outputId": "ffc77374-6ca6-4cd0-9bb0-70c2bd5453b9"
   },
   "outputs": [],
   "source": [
    "from sklearn.linear_model import LogisticRegression\n",
    "classifier_log = LogisticRegression(random_state = 0)\n",
    "classifier_log.fit(X_train, y_train)"
   ]
  },
  {
   "cell_type": "code",
   "execution_count": null,
   "metadata": {
    "colab": {
     "base_uri": "https://localhost:8080/",
     "height": 139
    },
    "colab_type": "code",
    "id": "NVgUFD4FWpK0",
    "outputId": "86ab06e5-1d60-49c4-dfdf-0d136444b5dd"
   },
   "outputs": [],
   "source": [
    "y_pred_log = classifier_log.predict(X_test)\n",
    "print(np.concatenate((y_pred_log.reshape(len(y_pred_log),1), y_test.reshape(len(y_test),1)),1))"
   ]
  },
  {
   "cell_type": "code",
   "execution_count": null,
   "metadata": {
    "colab": {
     "base_uri": "https://localhost:8080/",
     "height": 69
    },
    "colab_type": "code",
    "id": "MLMviERQXTix",
    "outputId": "15e299de-3f72-49a0-a121-03290ff9582d"
   },
   "outputs": [],
   "source": [
    "from sklearn.metrics import confusion_matrix, accuracy_score\n",
    "from sklearn.metrics import classification_report\n",
    "cm_log = confusion_matrix(y_test, y_pred_log)\n",
    "print(cm_log)\n",
    "accuracy_score(y_test, y_pred_log)"
   ]
  },
  {
   "cell_type": "markdown",
   "metadata": {
    "colab_type": "text",
    "id": "jbPwNVzk13Yc"
   },
   "source": [
    "# KNN CLassifier"
   ]
  },
  {
   "cell_type": "code",
   "execution_count": null,
   "metadata": {
    "colab": {
     "base_uri": "https://localhost:8080/",
     "height": 69
    },
    "colab_type": "code",
    "id": "J-KP48QCXv8A",
    "outputId": "ea8cc1b3-ae2b-407b-f9b1-76d902ed6337"
   },
   "outputs": [],
   "source": [
    "from sklearn.neighbors import KNeighborsClassifier\n",
    "classifier_knn = KNeighborsClassifier(n_neighbors = 5, metric = 'minkowski', p = 2)\n",
    "classifier_knn.fit(X_train, y_train)"
   ]
  },
  {
   "cell_type": "code",
   "execution_count": null,
   "metadata": {
    "colab": {
     "base_uri": "https://localhost:8080/",
     "height": 139
    },
    "colab_type": "code",
    "id": "2L3W6IkDX6Vk",
    "outputId": "6e45b65d-3d2c-41d2-ccd0-93118ceb8b0d"
   },
   "outputs": [],
   "source": [
    "y_pred_knn = classifier_knn.predict(X_test)\n",
    "print(np.concatenate((y_pred_knn.reshape(len(y_pred_knn),1), y_test.reshape(len(y_test),1)),1))"
   ]
  },
  {
   "cell_type": "code",
   "execution_count": null,
   "metadata": {
    "colab": {
     "base_uri": "https://localhost:8080/",
     "height": 69
    },
    "colab_type": "code",
    "id": "CXS24DOBYFtW",
    "outputId": "6f91bb90-0ebe-43eb-e11e-8c342561e18e"
   },
   "outputs": [],
   "source": [
    "cm_knn = confusion_matrix(y_test, y_pred_knn)\n",
    "print(cm_knn)\n",
    "accuracy_score(y_test, y_pred_knn)"
   ]
  },
  {
   "cell_type": "markdown",
   "metadata": {
    "colab_type": "text",
    "id": "IdutJ9ID18HT"
   },
   "source": [
    "# Support vector Classifier\n"
   ]
  },
  {
   "cell_type": "code",
   "execution_count": null,
   "metadata": {
    "colab": {
     "base_uri": "https://localhost:8080/",
     "height": 87
    },
    "colab_type": "code",
    "id": "mlaygrUiYkkv",
    "outputId": "7580e998-b6c3-4fd6-d590-d53ec34ef808"
   },
   "outputs": [],
   "source": [
    "from sklearn.svm import SVC\n",
    "classifier_svc = SVC(kernel = 'linear', random_state = 0)\n",
    "classifier_svc.fit(X_train, y_train)"
   ]
  },
  {
   "cell_type": "code",
   "execution_count": null,
   "metadata": {
    "colab": {
     "base_uri": "https://localhost:8080/",
     "height": 139
    },
    "colab_type": "code",
    "id": "8GTQBVfZYokH",
    "outputId": "7cfbc2fa-0e73-4fd7-dab8-ca19ccaf7985"
   },
   "outputs": [],
   "source": [
    "y_pred_svc = classifier_svc.predict(X_test)\n",
    "print(np.concatenate((y_pred_svc.reshape(len(y_pred_svc),1), y_test.reshape(len(y_test),1)),1))"
   ]
  },
  {
   "cell_type": "code",
   "execution_count": null,
   "metadata": {
    "colab": {
     "base_uri": "https://localhost:8080/",
     "height": 69
    },
    "colab_type": "code",
    "id": "3xUoSTn1ZJXl",
    "outputId": "b8ae6f96-6d2f-43f8-b9b8-d1ce87502bb8"
   },
   "outputs": [],
   "source": [
    "cm_svc = confusion_matrix(y_test, y_pred_svc)\n",
    "print(cm_svc)\n",
    "accuracy_score(y_test, y_pred_svc)"
   ]
  },
  {
   "cell_type": "markdown",
   "metadata": {
    "colab_type": "text",
    "id": "kPOdZ3Le2B63"
   },
   "source": [
    "# Support Vector 'rbf' Classifier"
   ]
  },
  {
   "cell_type": "code",
   "execution_count": null,
   "metadata": {
    "colab": {
     "base_uri": "https://localhost:8080/",
     "height": 87
    },
    "colab_type": "code",
    "id": "E-xE86MbgMi7",
    "outputId": "e8f96c7d-d056-418a-a9f4-1e4d220e69dd"
   },
   "outputs": [],
   "source": [
    "from sklearn.svm import SVC\n",
    "classifier_svcrbf = SVC(kernel = 'rbf', random_state = 1)\n",
    "classifier_svcrbf.fit(X_train, y_train)"
   ]
  },
  {
   "cell_type": "code",
   "execution_count": null,
   "metadata": {
    "colab": {
     "base_uri": "https://localhost:8080/",
     "height": 139
    },
    "colab_type": "code",
    "id": "6sVi5Q4ZglUz",
    "outputId": "771b845b-b7f5-4f9f-836a-ff3c5574e8f5"
   },
   "outputs": [],
   "source": [
    "y_pred_svcrbf = classifier_svcrbf.predict(X_test)\n",
    "print(np.concatenate((y_pred_svcrbf.reshape(len(y_pred_svcrbf),1), y_test.reshape(len(y_test),1)),1))"
   ]
  },
  {
   "cell_type": "code",
   "execution_count": null,
   "metadata": {
    "colab": {
     "base_uri": "https://localhost:8080/",
     "height": 69
    },
    "colab_type": "code",
    "id": "qA06gXCCg_DP",
    "outputId": "762d4c58-fa0f-4d50-af65-786f967a14fc"
   },
   "outputs": [],
   "source": [
    "cm_svcrbf = confusion_matrix(y_test, y_pred_svcrbf)\n",
    "print(cm_svcrbf)\n",
    "accuracy_score(y_test, y_pred_svcrbf)"
   ]
  },
  {
   "cell_type": "markdown",
   "metadata": {
    "colab_type": "text",
    "id": "v738eLAG2KDR"
   },
   "source": [
    "# Gaussian NB Classifier"
   ]
  },
  {
   "cell_type": "code",
   "execution_count": null,
   "metadata": {
    "colab": {
     "base_uri": "https://localhost:8080/",
     "height": 35
    },
    "colab_type": "code",
    "id": "mPG03whUh7oS",
    "outputId": "9d88f12f-3a7d-428b-f36f-0b5327a453d3"
   },
   "outputs": [],
   "source": [
    "from sklearn.naive_bayes import GaussianNB\n",
    "classifier_nb = GaussianNB()\n",
    "classifier_nb.fit(X_train, y_train)"
   ]
  },
  {
   "cell_type": "code",
   "execution_count": null,
   "metadata": {
    "colab": {
     "base_uri": "https://localhost:8080/",
     "height": 139
    },
    "colab_type": "code",
    "id": "4scjauRDsZYP",
    "outputId": "421e70bd-3fd2-44c2-cf18-fce37e7a1c02"
   },
   "outputs": [],
   "source": [
    "y_pred_nb = classifier_nb.predict(X_test)\n",
    "print(np.concatenate((y_pred_nb.reshape(len(y_pred_nb),1), y_test.reshape(len(y_test),1)),1))"
   ]
  },
  {
   "cell_type": "code",
   "execution_count": null,
   "metadata": {
    "colab": {
     "base_uri": "https://localhost:8080/",
     "height": 69
    },
    "colab_type": "code",
    "id": "xTljLy-HsMK_",
    "outputId": "b465a3a2-776a-494e-f77b-97916380dccc"
   },
   "outputs": [],
   "source": [
    "cm_nb = confusion_matrix(y_test, y_pred_nb)\n",
    "print(cm_nb)\n",
    "accuracy_score(y_test, y_pred_nb)"
   ]
  },
  {
   "cell_type": "markdown",
   "metadata": {
    "colab_type": "text",
    "id": "ErkNRP2b2PgT"
   },
   "source": [
    "# Decision Tree"
   ]
  },
  {
   "cell_type": "code",
   "execution_count": null,
   "metadata": {
    "colab": {
     "base_uri": "https://localhost:8080/",
     "height": 121
    },
    "colab_type": "code",
    "id": "Rva3WH74su-l",
    "outputId": "cb581ece-81cd-4e99-b429-5359c4267ddd"
   },
   "outputs": [],
   "source": [
    "from sklearn.tree import DecisionTreeClassifier\n",
    "classifier_dt = DecisionTreeClassifier(criterion = 'entropy', random_state = 2)\n",
    "classifier_dt.fit(X_train, y_train)"
   ]
  },
  {
   "cell_type": "code",
   "execution_count": null,
   "metadata": {
    "colab": {
     "base_uri": "https://localhost:8080/",
     "height": 139
    },
    "colab_type": "code",
    "id": "GAmq7Yqis40j",
    "outputId": "531a04b9-77dc-44c9-c6d7-798d01c61d13"
   },
   "outputs": [],
   "source": [
    "y_pred_dt = classifier_dt.predict(X_test)\n",
    "print(np.concatenate((y_pred_dt.reshape(len(y_pred_dt),1), y_test.reshape(len(y_test),1)),1))"
   ]
  },
  {
   "cell_type": "code",
   "execution_count": null,
   "metadata": {
    "colab": {
     "base_uri": "https://localhost:8080/",
     "height": 69
    },
    "colab_type": "code",
    "id": "WRCT3uaSs44K",
    "outputId": "83773035-9d7d-40bf-9b89-4cca807953fc"
   },
   "outputs": [],
   "source": [
    "cm_dt = confusion_matrix(y_test, y_pred_dt)\n",
    "print(cm_dt)\n",
    "accuracy_score(y_test, y_pred_dt)"
   ]
  },
  {
   "cell_type": "markdown",
   "metadata": {
    "colab_type": "text",
    "id": "hVbNwszg2T_I"
   },
   "source": [
    "# Random Forest"
   ]
  },
  {
   "cell_type": "code",
   "execution_count": null,
   "metadata": {
    "colab": {
     "base_uri": "https://localhost:8080/",
     "height": 156
    },
    "colab_type": "code",
    "id": "5cOmlTlTuG47",
    "outputId": "c116e536-e681-4630-f66e-8244a0e1499f"
   },
   "outputs": [],
   "source": [
    "from sklearn.ensemble import RandomForestClassifier\n",
    "classifier_rf = RandomForestClassifier(n_estimators = 100, criterion ='gini',random_state=10)\n",
    "classifier_rf.fit(X_train, y_train)"
   ]
  },
  {
   "cell_type": "code",
   "execution_count": null,
   "metadata": {
    "colab": {
     "base_uri": "https://localhost:8080/",
     "height": 139
    },
    "colab_type": "code",
    "id": "iUvt7bpVugD5",
    "outputId": "bec65f41-2c88-4cdb-9fa2-816f9639cfb3"
   },
   "outputs": [],
   "source": [
    "y_pred_rf = classifier_rf.predict(X_test)\n",
    "print(np.concatenate((y_pred_rf.reshape(len(y_pred_rf),1), y_test.reshape(len(y_test),1)),1))"
   ]
  },
  {
   "cell_type": "code",
   "execution_count": null,
   "metadata": {
    "colab": {
     "base_uri": "https://localhost:8080/",
     "height": 69
    },
    "colab_type": "code",
    "id": "yK7nDOVZua8q",
    "outputId": "6a61096e-397d-4f73-b48f-d6db992bb8e6"
   },
   "outputs": [],
   "source": [
    "cm_rf = confusion_matrix(y_test, y_pred_rf)\n",
    "print(cm_rf)\n",
    "accuracy_score(y_test, y_pred_rf)"
   ]
  },
  {
   "cell_type": "markdown",
   "metadata": {
    "colab_type": "text",
    "id": "dus2wfW42ZO2"
   },
   "source": [
    "# Nearest Centroid Classifier"
   ]
  },
  {
   "cell_type": "code",
   "execution_count": null,
   "metadata": {
    "colab": {
     "base_uri": "https://localhost:8080/",
     "height": 35
    },
    "colab_type": "code",
    "id": "0kstPZWm-Srt",
    "outputId": "df483061-4f83-4880-db46-f7b59d25cb6f"
   },
   "outputs": [],
   "source": [
    "from sklearn.neighbors import NearestCentroid\n",
    "classifier_nc = NearestCentroid()\n",
    "classifier_nc.fit(X_train,y_train)"
   ]
  },
  {
   "cell_type": "code",
   "execution_count": null,
   "metadata": {
    "colab": {
     "base_uri": "https://localhost:8080/",
     "height": 139
    },
    "colab_type": "code",
    "id": "hbrzn_Vo-4Q-",
    "outputId": "8b905103-8ca3-43c5-8246-a3bbd3435090"
   },
   "outputs": [],
   "source": [
    "y_pred_nc = classifier_nc.predict(X_test)\n",
    "print(np.concatenate((y_pred_nc.reshape(len(y_pred_nc),1), y_test.reshape(len(y_test),1)),1))"
   ]
  },
  {
   "cell_type": "code",
   "execution_count": null,
   "metadata": {
    "colab": {
     "base_uri": "https://localhost:8080/",
     "height": 69
    },
    "colab_type": "code",
    "id": "kROYnPyp_WEy",
    "outputId": "3c643a5c-b7ed-4e74-f5c3-c3a442510e29"
   },
   "outputs": [],
   "source": [
    "cm_nc = confusion_matrix(y_test, y_pred_nc)\n",
    "print(cm_nc)\n",
    "accuracy_score(y_test, y_pred_nc)"
   ]
  },
  {
   "cell_type": "code",
   "execution_count": null,
   "metadata": {
    "colab": {},
    "colab_type": "code",
    "id": "jGMCsbbMo6l3"
   },
   "outputs": [],
   "source": []
  }
 ],
 "metadata": {
  "colab": {
   "collapsed_sections": [],
   "name": "Project_classification(Admitted/Death).ipynb",
   "provenance": [],
   "toc_visible": true
  },
  "kernelspec": {
   "display_name": "Python 3",
   "language": "python",
   "name": "python3"
  },
  "language_info": {
   "codemirror_mode": {
    "name": "ipython",
    "version": 3
   },
   "file_extension": ".py",
   "mimetype": "text/x-python",
   "name": "python",
   "nbconvert_exporter": "python",
   "pygments_lexer": "ipython3",
   "version": "3.7.7"
  }
 },
 "nbformat": 4,
 "nbformat_minor": 1
}
